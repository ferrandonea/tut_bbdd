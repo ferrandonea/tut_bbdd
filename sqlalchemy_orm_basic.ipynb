{
 "cells": [
  {
   "cell_type": "code",
   "execution_count": 70,
   "metadata": {},
   "outputs": [],
   "source": [
    "from sqlalchemy.orm import declarative_base"
   ]
  },
  {
   "cell_type": "markdown",
   "metadata": {},
   "source": [
    "# Model"
   ]
  },
  {
   "cell_type": "code",
   "execution_count": 71,
   "metadata": {},
   "outputs": [
    {
     "name": "stdout",
     "output_type": "stream",
     "text": [
      "sqlite:///:memory:\n"
     ]
    }
   ],
   "source": [
    "import os\n",
    "from pathlib import Path\n",
    "#BASE_DIR = os.path.dirname(os.path.realpath(__file__))\n",
    "BASE_DIR = Path().resolve() #esto funciona en notebook\n",
    "connection_string = \"sqlite:///\" + os.path.join(BASE_DIR, 'site.db')\n",
    "connection_string = \"sqlite:///:memory:\"\n",
    "print (connection_string)"
   ]
  },
  {
   "cell_type": "code",
   "execution_count": 72,
   "metadata": {},
   "outputs": [
    {
     "name": "stdout",
     "output_type": "stream",
     "text": [
      "<User username=jonathan email=jone@hui.com>\n"
     ]
    }
   ],
   "source": [
    "from sqlalchemy import Column, Integer, String, DateTime, create_engine\n",
    "from datetime import datetime\n",
    "\n",
    "Base = declarative_base()\n",
    "\n",
    "engine = create_engine(connection_string, echo=True)\n",
    "\"\"\"\n",
    "class User\n",
    "    id int\n",
    "    username str\n",
    "    email str\n",
    "    date_create datetime\n",
    "\"\"\"\n",
    "\n",
    "class User(Base):\n",
    "    __tablename__ = \"users\"\n",
    "    id = Column(Integer, primary_key=True)\n",
    "    username = Column(String(25), nullable=False, unique=True)\n",
    "    email = Column(String(80), nullable=False, unique=True)\n",
    "    date_created = Column(DateTime, default=datetime.utcnow())\n",
    "    \n",
    "    def __repr__ (self):\n",
    "        return f\"<User username={self.username} email={self.email}>\"\n",
    "    \n",
    "new_user = User(id=1, username=\"jonathan\", email = \"jone@hui.com\")\n",
    "print (new_user)"
   ]
  },
  {
   "cell_type": "code",
   "execution_count": 73,
   "metadata": {},
   "outputs": [
    {
     "name": "stdout",
     "output_type": "stream",
     "text": [
      "2022-11-28 20:48:20,384 INFO sqlalchemy.engine.Engine BEGIN (implicit)\n",
      "2022-11-28 20:48:20,385 INFO sqlalchemy.engine.Engine PRAGMA main.table_info(\"users\")\n",
      "2022-11-28 20:48:20,385 INFO sqlalchemy.engine.Engine [raw sql] ()\n",
      "2022-11-28 20:48:20,385 INFO sqlalchemy.engine.Engine PRAGMA temp.table_info(\"users\")\n",
      "2022-11-28 20:48:20,386 INFO sqlalchemy.engine.Engine [raw sql] ()\n",
      "2022-11-28 20:48:20,386 INFO sqlalchemy.engine.Engine \n",
      "CREATE TABLE users (\n",
      "\tid INTEGER NOT NULL, \n",
      "\tusername VARCHAR(25) NOT NULL, \n",
      "\temail VARCHAR(80) NOT NULL, \n",
      "\tdate_created DATETIME, \n",
      "\tPRIMARY KEY (id), \n",
      "\tUNIQUE (username), \n",
      "\tUNIQUE (email)\n",
      ")\n",
      "\n",
      "\n",
      "2022-11-28 20:48:20,386 INFO sqlalchemy.engine.Engine [no key 0.00019s] ()\n",
      "2022-11-28 20:48:20,387 INFO sqlalchemy.engine.Engine COMMIT\n"
     ]
    }
   ],
   "source": [
    "#create database if not exists\n",
    "Base.metadata.create_all(engine)"
   ]
  },
  {
   "cell_type": "markdown",
   "metadata": {},
   "source": [
    "session sirve para hacer las transacciones (lazy¿?)"
   ]
  },
  {
   "cell_type": "code",
   "execution_count": 74,
   "metadata": {},
   "outputs": [],
   "source": [
    "from sqlalchemy.orm import sessionmaker\n",
    "Session = sessionmaker()\n",
    "local_session = Session(bind=engine)"
   ]
  },
  {
   "cell_type": "markdown",
   "metadata": {},
   "source": [
    "# Insert"
   ]
  },
  {
   "cell_type": "code",
   "execution_count": 75,
   "metadata": {},
   "outputs": [
    {
     "name": "stdout",
     "output_type": "stream",
     "text": [
      "2022-11-28 20:48:20,489 INFO sqlalchemy.engine.Engine BEGIN (implicit)\n",
      "2022-11-28 20:48:20,490 INFO sqlalchemy.engine.Engine INSERT INTO users (username, email, date_created) VALUES (?, ?, ?)\n",
      "2022-11-28 20:48:20,490 INFO sqlalchemy.engine.Engine [generated in 0.00034s] ('frank', 'frank@sinatra.com', '2022-11-28 23:48:20.347057')\n",
      "2022-11-28 20:48:20,491 INFO sqlalchemy.engine.Engine COMMIT\n"
     ]
    }
   ],
   "source": [
    "new_user = User(username=\"frank\", email = \"frank@sinatra.com\")\n",
    "local_session.add(new_user)\n",
    "local_session.commit()"
   ]
  },
  {
   "cell_type": "code",
   "execution_count": 76,
   "metadata": {},
   "outputs": [],
   "source": [
    "users = [\n",
    "    {\"username\":\"jhonny\",\n",
    "    \"email\":\"jh@company.com\"},\n",
    "    {\"username\":\"jerry\",\n",
    "    \"email\":\"je@company.com\"},\n",
    "    {\"username\":\"lucas\",\n",
    "    \"email\":\"lu@company.com\"},\n",
    "    {\"username\":\"igor\",\n",
    "    \"email\":\"ig@company.com\"},\n",
    "    {\"username\":\"gaby\",\n",
    "    \"email\":\"gb@company.com\"},\n",
    "    {\"username\":\"tom\",\n",
    "    \"email\":\"tm@company.com\"},\n",
    "]"
   ]
  },
  {
   "cell_type": "code",
   "execution_count": 77,
   "metadata": {},
   "outputs": [
    {
     "name": "stdout",
     "output_type": "stream",
     "text": [
      "2022-11-28 20:48:20,576 INFO sqlalchemy.engine.Engine BEGIN (implicit)\n",
      "2022-11-28 20:48:20,576 INFO sqlalchemy.engine.Engine INSERT INTO users (username, email, date_created) VALUES (?, ?, ?)\n",
      "2022-11-28 20:48:20,577 INFO sqlalchemy.engine.Engine [cached since 0.08678s ago] ('jhonny', 'jh@company.com', '2022-11-28 23:48:20.347057')\n",
      "2022-11-28 20:48:20,577 INFO sqlalchemy.engine.Engine COMMIT\n",
      "2022-11-28 20:48:20,577 INFO sqlalchemy.engine.Engine BEGIN (implicit)\n",
      "2022-11-28 20:48:20,578 INFO sqlalchemy.engine.Engine INSERT INTO users (username, email, date_created) VALUES (?, ?, ?)\n",
      "2022-11-28 20:48:20,578 INFO sqlalchemy.engine.Engine [cached since 0.08807s ago] ('jerry', 'je@company.com', '2022-11-28 23:48:20.347057')\n",
      "2022-11-28 20:48:20,578 INFO sqlalchemy.engine.Engine COMMIT\n",
      "2022-11-28 20:48:20,579 INFO sqlalchemy.engine.Engine BEGIN (implicit)\n",
      "2022-11-28 20:48:20,579 INFO sqlalchemy.engine.Engine INSERT INTO users (username, email, date_created) VALUES (?, ?, ?)\n",
      "2022-11-28 20:48:20,579 INFO sqlalchemy.engine.Engine [cached since 0.08916s ago] ('lucas', 'lu@company.com', '2022-11-28 23:48:20.347057')\n",
      "2022-11-28 20:48:20,579 INFO sqlalchemy.engine.Engine COMMIT\n",
      "2022-11-28 20:48:20,580 INFO sqlalchemy.engine.Engine BEGIN (implicit)\n",
      "2022-11-28 20:48:20,580 INFO sqlalchemy.engine.Engine INSERT INTO users (username, email, date_created) VALUES (?, ?, ?)\n",
      "2022-11-28 20:48:20,580 INFO sqlalchemy.engine.Engine [cached since 0.09011s ago] ('igor', 'ig@company.com', '2022-11-28 23:48:20.347057')\n",
      "2022-11-28 20:48:20,580 INFO sqlalchemy.engine.Engine COMMIT\n",
      "2022-11-28 20:48:20,580 INFO sqlalchemy.engine.Engine BEGIN (implicit)\n",
      "2022-11-28 20:48:20,581 INFO sqlalchemy.engine.Engine INSERT INTO users (username, email, date_created) VALUES (?, ?, ?)\n",
      "2022-11-28 20:48:20,581 INFO sqlalchemy.engine.Engine [cached since 0.09108s ago] ('gaby', 'gb@company.com', '2022-11-28 23:48:20.347057')\n",
      "2022-11-28 20:48:20,582 INFO sqlalchemy.engine.Engine COMMIT\n",
      "2022-11-28 20:48:20,582 INFO sqlalchemy.engine.Engine BEGIN (implicit)\n",
      "2022-11-28 20:48:20,582 INFO sqlalchemy.engine.Engine INSERT INTO users (username, email, date_created) VALUES (?, ?, ?)\n",
      "2022-11-28 20:48:20,582 INFO sqlalchemy.engine.Engine [cached since 0.09253s ago] ('tom', 'tm@company.com', '2022-11-28 23:48:20.347057')\n",
      "2022-11-28 20:48:20,583 INFO sqlalchemy.engine.Engine COMMIT\n"
     ]
    }
   ],
   "source": [
    "for u in users:\n",
    "    new_user = User(username = u[\"username\"], email = u[\"email\"])\n",
    "    local_session.add(new_user)    \n",
    "    local_session.commit()"
   ]
  },
  {
   "cell_type": "markdown",
   "metadata": {},
   "source": [
    "# Query"
   ]
  },
  {
   "cell_type": "code",
   "execution_count": 78,
   "metadata": {},
   "outputs": [
    {
     "name": "stdout",
     "output_type": "stream",
     "text": [
      "2022-11-28 20:48:20,614 INFO sqlalchemy.engine.Engine BEGIN (implicit)\n",
      "2022-11-28 20:48:20,615 INFO sqlalchemy.engine.Engine SELECT users.id AS users_id, users.username AS users_username, users.email AS users_email, users.date_created AS users_date_created \n",
      "FROM users\n",
      "2022-11-28 20:48:20,615 INFO sqlalchemy.engine.Engine [generated in 0.00030s] ()\n",
      "frank\n",
      "jhonny\n",
      "jerry\n",
      "lucas\n",
      "igor\n",
      "gaby\n",
      "tom\n"
     ]
    }
   ],
   "source": [
    "users = local_session.query(User).all()\n",
    "for user in users:\n",
    "    print (user.username)"
   ]
  },
  {
   "cell_type": "code",
   "execution_count": 79,
   "metadata": {},
   "outputs": [
    {
     "name": "stdout",
     "output_type": "stream",
     "text": [
      "2022-11-28 20:48:20,648 INFO sqlalchemy.engine.Engine SELECT users.id AS users_id, users.username AS users_username, users.email AS users_email, users.date_created AS users_date_created \n",
      "FROM users\n",
      "2022-11-28 20:48:20,649 INFO sqlalchemy.engine.Engine [cached since 0.03392s ago] ()\n",
      "frank\n",
      "jhonny\n",
      "jerry\n"
     ]
    }
   ],
   "source": [
    "users = local_session.query(User).all()[:3]\n",
    "for user in users:\n",
    "    print (user.username)"
   ]
  },
  {
   "cell_type": "markdown",
   "metadata": {},
   "source": [
    "# Update"
   ]
  },
  {
   "cell_type": "code",
   "execution_count": 80,
   "metadata": {},
   "outputs": [
    {
     "name": "stdout",
     "output_type": "stream",
     "text": [
      "2022-11-28 20:48:20,682 INFO sqlalchemy.engine.Engine SELECT users.id AS users_id, users.username AS users_username, users.email AS users_email, users.date_created AS users_date_created \n",
      "FROM users \n",
      "WHERE users.username = ?\n",
      " LIMIT ? OFFSET ?\n",
      "2022-11-28 20:48:20,683 INFO sqlalchemy.engine.Engine [generated in 0.00081s] ('gaby', 1, 0)\n"
     ]
    }
   ],
   "source": [
    "#gaby\n",
    "user = local_session.query(User).filter(User.username == \"gaby\").first()\n"
   ]
  },
  {
   "cell_type": "code",
   "execution_count": 81,
   "metadata": {},
   "outputs": [
    {
     "name": "stdout",
     "output_type": "stream",
     "text": [
      "<User username=gaby email=gb@company.com>\n"
     ]
    }
   ],
   "source": [
    "print (user)"
   ]
  },
  {
   "cell_type": "code",
   "execution_count": 82,
   "metadata": {},
   "outputs": [],
   "source": [
    "#updating"
   ]
  },
  {
   "cell_type": "code",
   "execution_count": 83,
   "metadata": {},
   "outputs": [
    {
     "data": {
      "text/plain": [
       "<User username=gaby email=gb@company.com>"
      ]
     },
     "execution_count": 83,
     "metadata": {},
     "output_type": "execute_result"
    }
   ],
   "source": [
    "user"
   ]
  },
  {
   "cell_type": "code",
   "execution_count": 84,
   "metadata": {},
   "outputs": [],
   "source": [
    "user.username=\"gabriela\"\n",
    "user.email = \"gabriela@company.com\""
   ]
  },
  {
   "cell_type": "code",
   "execution_count": 85,
   "metadata": {},
   "outputs": [
    {
     "name": "stdout",
     "output_type": "stream",
     "text": [
      "2022-11-28 20:48:20,832 INFO sqlalchemy.engine.Engine UPDATE users SET username=?, email=? WHERE users.id = ?\n",
      "2022-11-28 20:48:20,832 INFO sqlalchemy.engine.Engine [generated in 0.00085s] ('gabriela', 'gabriela@company.com', 6)\n",
      "2022-11-28 20:48:20,833 INFO sqlalchemy.engine.Engine COMMIT\n"
     ]
    }
   ],
   "source": [
    "local_session.commit()"
   ]
  },
  {
   "cell_type": "markdown",
   "metadata": {},
   "source": [
    "# Delete"
   ]
  },
  {
   "cell_type": "code",
   "execution_count": 86,
   "metadata": {},
   "outputs": [
    {
     "name": "stdout",
     "output_type": "stream",
     "text": [
      "2022-11-28 20:48:20,859 INFO sqlalchemy.engine.Engine BEGIN (implicit)\n",
      "2022-11-28 20:48:20,859 INFO sqlalchemy.engine.Engine SELECT users.id AS users_id, users.username AS users_username, users.email AS users_email, users.date_created AS users_date_created \n",
      "FROM users \n",
      "WHERE users.username = ?\n",
      " LIMIT ? OFFSET ?\n",
      "2022-11-28 20:48:20,860 INFO sqlalchemy.engine.Engine [cached since 0.1774s ago] ('gabriela', 1, 0)\n"
     ]
    }
   ],
   "source": [
    "user_to_delete = local_session.query(User).filter(User.username == \"gabriela\").first()"
   ]
  },
  {
   "cell_type": "code",
   "execution_count": 87,
   "metadata": {},
   "outputs": [],
   "source": [
    "local_session.delete(user_to_delete)"
   ]
  },
  {
   "cell_type": "code",
   "execution_count": 88,
   "metadata": {},
   "outputs": [
    {
     "name": "stdout",
     "output_type": "stream",
     "text": [
      "2022-11-28 20:48:20,913 INFO sqlalchemy.engine.Engine DELETE FROM users WHERE users.id = ?\n",
      "2022-11-28 20:48:20,914 INFO sqlalchemy.engine.Engine [generated in 0.00051s] (6,)\n",
      "2022-11-28 20:48:20,914 INFO sqlalchemy.engine.Engine COMMIT\n"
     ]
    }
   ],
   "source": [
    "local_session.commit()"
   ]
  },
  {
   "cell_type": "markdown",
   "metadata": {},
   "source": [
    "# Order"
   ]
  },
  {
   "cell_type": "code",
   "execution_count": 89,
   "metadata": {},
   "outputs": [
    {
     "name": "stdout",
     "output_type": "stream",
     "text": [
      "2022-11-28 20:48:20,947 INFO sqlalchemy.engine.Engine BEGIN (implicit)\n",
      "2022-11-28 20:48:20,948 INFO sqlalchemy.engine.Engine SELECT users.id AS users_id, users.username AS users_username, users.email AS users_email, users.date_created AS users_date_created \n",
      "FROM users ORDER BY users.username\n",
      "2022-11-28 20:48:20,948 INFO sqlalchemy.engine.Engine [generated in 0.00037s] ()\n"
     ]
    }
   ],
   "source": [
    "users = local_session.query(User).order_by(User.username).all()"
   ]
  },
  {
   "cell_type": "code",
   "execution_count": 90,
   "metadata": {},
   "outputs": [
    {
     "data": {
      "text/plain": [
       "[<User username=frank email=frank@sinatra.com>,\n",
       " <User username=igor email=ig@company.com>,\n",
       " <User username=jerry email=je@company.com>,\n",
       " <User username=jhonny email=jh@company.com>,\n",
       " <User username=lucas email=lu@company.com>,\n",
       " <User username=tom email=tm@company.com>]"
      ]
     },
     "execution_count": 90,
     "metadata": {},
     "output_type": "execute_result"
    }
   ],
   "source": [
    "users"
   ]
  },
  {
   "cell_type": "code",
   "execution_count": 91,
   "metadata": {},
   "outputs": [
    {
     "name": "stdout",
     "output_type": "stream",
     "text": [
      "2022-11-28 20:48:21,006 INFO sqlalchemy.engine.Engine SELECT users.id AS users_id, users.username AS users_username, users.email AS users_email, users.date_created AS users_date_created \n",
      "FROM users ORDER BY users.username DESC\n",
      "2022-11-28 20:48:21,007 INFO sqlalchemy.engine.Engine [generated in 0.00084s] ()\n"
     ]
    },
    {
     "data": {
      "text/plain": [
       "[<User username=tom email=tm@company.com>,\n",
       " <User username=lucas email=lu@company.com>,\n",
       " <User username=jhonny email=jh@company.com>,\n",
       " <User username=jerry email=je@company.com>,\n",
       " <User username=igor email=ig@company.com>,\n",
       " <User username=frank email=frank@sinatra.com>]"
      ]
     },
     "execution_count": 91,
     "metadata": {},
     "output_type": "execute_result"
    }
   ],
   "source": [
    "from sqlalchemy import desc\n",
    "users = local_session.query(User).order_by(desc(User.username)).all()\n",
    "users"
   ]
  },
  {
   "cell_type": "code",
   "execution_count": 92,
   "metadata": {},
   "outputs": [
    {
     "data": {
      "text/plain": [
       "'1.4.43'"
      ]
     },
     "execution_count": 92,
     "metadata": {},
     "output_type": "execute_result"
    }
   ],
   "source": [
    "import sqlalchemy\n",
    "sqlalchemy.__version__"
   ]
  },
  {
   "cell_type": "code",
   "execution_count": 93,
   "metadata": {},
   "outputs": [],
   "source": [
    "%reset -f"
   ]
  },
  {
   "cell_type": "markdown",
   "metadata": {},
   "source": [
    "Otro Ejemplo"
   ]
  },
  {
   "cell_type": "code",
   "execution_count": 94,
   "metadata": {},
   "outputs": [],
   "source": [
    "from sqlalchemy import create_engine, ForeignKey, Column, String, Integer, CHAR\n",
    "from sqlalchemy.ext.declarative import declarative_base\n",
    "from sqlalchemy.orm import sessionmaker\n",
    "\n",
    "Base = declarative_base()\n",
    "\n",
    "class Persona(Base):\n",
    "    __tablename__ = \"personas\"\n",
    "    \n",
    "    ssn = Column(Integer, primary_key=True)\n",
    "    firstname = Column(String)\n",
    "    lastname = Column(String)\n",
    "    gender = Column(CHAR)\n",
    "    age = Column(Integer)\n",
    "    \n",
    "    def __init__(self, ssn, firstname, lastname, gender, age):\n",
    "        self.ssn = ssn\n",
    "        self.firstname = firstname\n",
    "        self.lastname = lastname\n",
    "        self.gender = gender.upper()\n",
    "        self.age = age\n",
    "        \n",
    "    def __repr__(self):\n",
    "        return f\"{self.ssn} {self.firstname} {self.lastname} ({self.gender}, {self.age})\""
   ]
  },
  {
   "cell_type": "code",
   "execution_count": 95,
   "metadata": {},
   "outputs": [],
   "source": [
    "engine = create_engine(\"sqlite:///:memory:\", echo=True)"
   ]
  },
  {
   "cell_type": "code",
   "execution_count": 96,
   "metadata": {},
   "outputs": [
    {
     "name": "stdout",
     "output_type": "stream",
     "text": [
      "2022-11-28 20:48:21,232 INFO sqlalchemy.engine.Engine BEGIN (implicit)\n",
      "2022-11-28 20:48:21,233 INFO sqlalchemy.engine.Engine PRAGMA main.table_info(\"personas\")\n",
      "2022-11-28 20:48:21,234 INFO sqlalchemy.engine.Engine [raw sql] ()\n",
      "2022-11-28 20:48:21,234 INFO sqlalchemy.engine.Engine PRAGMA temp.table_info(\"personas\")\n",
      "2022-11-28 20:48:21,234 INFO sqlalchemy.engine.Engine [raw sql] ()\n",
      "2022-11-28 20:48:21,235 INFO sqlalchemy.engine.Engine \n",
      "CREATE TABLE personas (\n",
      "\tssn INTEGER NOT NULL, \n",
      "\tfirstname VARCHAR, \n",
      "\tlastname VARCHAR, \n",
      "\tgender CHAR, \n",
      "\tage INTEGER, \n",
      "\tPRIMARY KEY (ssn)\n",
      ")\n",
      "\n",
      "\n",
      "2022-11-28 20:48:21,235 INFO sqlalchemy.engine.Engine [no key 0.00029s] ()\n",
      "2022-11-28 20:48:21,236 INFO sqlalchemy.engine.Engine COMMIT\n"
     ]
    }
   ],
   "source": [
    "Base.metadata.create_all(bind=engine)"
   ]
  },
  {
   "cell_type": "code",
   "execution_count": 97,
   "metadata": {},
   "outputs": [],
   "source": [
    "Session = sessionmaker(bind=engine)\n",
    "session = Session()"
   ]
  },
  {
   "cell_type": "code",
   "execution_count": 98,
   "metadata": {},
   "outputs": [
    {
     "name": "stdout",
     "output_type": "stream",
     "text": [
      "2022-11-28 20:48:21,310 INFO sqlalchemy.engine.Engine BEGIN (implicit)\n",
      "2022-11-28 20:48:21,311 INFO sqlalchemy.engine.Engine INSERT INTO personas (ssn, firstname, lastname, gender, age) VALUES (?, ?, ?, ?, ?)\n",
      "2022-11-28 20:48:21,311 INFO sqlalchemy.engine.Engine [generated in 0.00035s] (21878, 'Mike', 'Smith', 'M', 35)\n",
      "2022-11-28 20:48:21,312 INFO sqlalchemy.engine.Engine COMMIT\n"
     ]
    }
   ],
   "source": [
    "tom = Persona(21878, \"Mike\", \"Smith\", \"m\", 35)\n",
    "session.add(tom)\n",
    "session.commit()"
   ]
  },
  {
   "cell_type": "code",
   "execution_count": 99,
   "metadata": {},
   "outputs": [],
   "source": [
    "p1 = Persona(8219821, \"Jhon\", \"Smith\", \"m\", 31)\n",
    "p2 = Persona(209130938, \"Lucas\", \"Row\", \"m\", 23)\n",
    "p3 = Persona(99999, \"Claudia\", \"López\", \"f\", 45)\n",
    "session.add_all([p1,p2,p3])"
   ]
  },
  {
   "cell_type": "code",
   "execution_count": 100,
   "metadata": {},
   "outputs": [
    {
     "name": "stdout",
     "output_type": "stream",
     "text": [
      "2022-11-28 20:48:21,431 INFO sqlalchemy.engine.Engine BEGIN (implicit)\n",
      "2022-11-28 20:48:21,432 INFO sqlalchemy.engine.Engine INSERT INTO personas (ssn, firstname, lastname, gender, age) VALUES (?, ?, ?, ?, ?)\n",
      "2022-11-28 20:48:21,433 INFO sqlalchemy.engine.Engine [generated in 0.00034s] ((8219821, 'Jhon', 'Smith', 'M', 31), (209130938, 'Lucas', 'Row', 'M', 23), (99999, 'Claudia', 'López', 'F', 45))\n",
      "2022-11-28 20:48:21,433 INFO sqlalchemy.engine.Engine COMMIT\n"
     ]
    }
   ],
   "source": [
    "session.commit()"
   ]
  },
  {
   "cell_type": "code",
   "execution_count": 101,
   "metadata": {},
   "outputs": [
    {
     "name": "stdout",
     "output_type": "stream",
     "text": [
      "2022-11-28 20:48:21,460 INFO sqlalchemy.engine.Engine BEGIN (implicit)\n",
      "2022-11-28 20:48:21,461 INFO sqlalchemy.engine.Engine SELECT personas.ssn AS personas_ssn, personas.firstname AS personas_firstname, personas.lastname AS personas_lastname, personas.gender AS personas_gender, personas.age AS personas_age \n",
      "FROM personas\n",
      "2022-11-28 20:48:21,461 INFO sqlalchemy.engine.Engine [generated in 0.00026s] ()\n"
     ]
    },
    {
     "data": {
      "text/plain": [
       "[21878 Mike Smith (M, 35),\n",
       " 99999 Claudia López (F, 45),\n",
       " 8219821 Jhon Smith (M, 31),\n",
       " 209130938 Lucas Row (M, 23)]"
      ]
     },
     "execution_count": 101,
     "metadata": {},
     "output_type": "execute_result"
    }
   ],
   "source": [
    "    session.query(Persona).all()"
   ]
  },
  {
   "cell_type": "code",
   "execution_count": 102,
   "metadata": {},
   "outputs": [
    {
     "name": "stdout",
     "output_type": "stream",
     "text": [
      "==\n",
      "2022-11-28 20:48:21,491 INFO sqlalchemy.engine.Engine SELECT personas.ssn AS personas_ssn, personas.firstname AS personas_firstname, personas.lastname AS personas_lastname, personas.gender AS personas_gender, personas.age AS personas_age \n",
      "FROM personas\n",
      "2022-11-28 20:48:21,491 INFO sqlalchemy.engine.Engine [cached since 0.03027s ago] ()\n",
      "21878 Mike Smith (M, 35)\n",
      "99999 Claudia López (F, 45)\n",
      "8219821 Jhon Smith (M, 31)\n",
      "209130938 Lucas Row (M, 23)\n"
     ]
    }
   ],
   "source": [
    "resultados = session.query(Persona)\n",
    "print (\"==\")\n",
    "for r in resultados:\n",
    "    print (r)"
   ]
  },
  {
   "cell_type": "code",
   "execution_count": 103,
   "metadata": {},
   "outputs": [
    {
     "name": "stdout",
     "output_type": "stream",
     "text": [
      "2022-11-28 20:48:21,523 INFO sqlalchemy.engine.Engine SELECT personas.ssn AS personas_ssn, personas.firstname AS personas_firstname, personas.lastname AS personas_lastname, personas.gender AS personas_gender, personas.age AS personas_age \n",
      "FROM personas \n",
      "WHERE personas.age < ?\n",
      "2022-11-28 20:48:21,523 INFO sqlalchemy.engine.Engine [generated in 0.00056s] (40,)\n",
      "[21878 Mike Smith (M, 35), 8219821 Jhon Smith (M, 31), 209130938 Lucas Row (M, 23)]\n"
     ]
    }
   ],
   "source": [
    "nuevos = resultados.filter(Persona.age < 40).all()\n",
    "print (nuevos)"
   ]
  },
  {
   "cell_type": "markdown",
   "metadata": {},
   "source": [
    "# Relaciones"
   ]
  },
  {
   "cell_type": "code",
   "execution_count": 104,
   "metadata": {},
   "outputs": [],
   "source": [
    "%reset -f"
   ]
  },
  {
   "cell_type": "code",
   "execution_count": 105,
   "metadata": {},
   "outputs": [
    {
     "name": "stdout",
     "output_type": "stream",
     "text": [
      "2022-11-28 20:48:21,653 INFO sqlalchemy.engine.Engine BEGIN (implicit)\n",
      "2022-11-28 20:48:21,654 INFO sqlalchemy.engine.Engine PRAGMA main.table_info(\"personas\")\n",
      "2022-11-28 20:48:21,654 INFO sqlalchemy.engine.Engine [raw sql] ()\n",
      "2022-11-28 20:48:21,654 INFO sqlalchemy.engine.Engine PRAGMA temp.table_info(\"personas\")\n",
      "2022-11-28 20:48:21,655 INFO sqlalchemy.engine.Engine [raw sql] ()\n",
      "2022-11-28 20:48:21,655 INFO sqlalchemy.engine.Engine PRAGMA main.table_info(\"cosas\")\n",
      "2022-11-28 20:48:21,655 INFO sqlalchemy.engine.Engine [raw sql] ()\n",
      "2022-11-28 20:48:21,655 INFO sqlalchemy.engine.Engine PRAGMA temp.table_info(\"cosas\")\n",
      "2022-11-28 20:48:21,656 INFO sqlalchemy.engine.Engine [raw sql] ()\n",
      "2022-11-28 20:48:21,656 INFO sqlalchemy.engine.Engine \n",
      "CREATE TABLE personas (\n",
      "\tssn INTEGER NOT NULL, \n",
      "\tfirstname VARCHAR, \n",
      "\tlastname VARCHAR, \n",
      "\tgender CHAR, \n",
      "\tage INTEGER, \n",
      "\tPRIMARY KEY (ssn)\n",
      ")\n",
      "\n",
      "\n",
      "2022-11-28 20:48:21,656 INFO sqlalchemy.engine.Engine [no key 0.00017s] ()\n",
      "2022-11-28 20:48:21,657 INFO sqlalchemy.engine.Engine \n",
      "CREATE TABLE cosas (\n",
      "\ttid INTEGER NOT NULL, \n",
      "\tdescription VARCHAR, \n",
      "\towner INTEGER, \n",
      "\tPRIMARY KEY (tid), \n",
      "\tFOREIGN KEY(owner) REFERENCES personas (ssn)\n",
      ")\n",
      "\n",
      "\n",
      "2022-11-28 20:48:21,657 INFO sqlalchemy.engine.Engine [no key 0.00020s] ()\n",
      "2022-11-28 20:48:21,657 INFO sqlalchemy.engine.Engine COMMIT\n"
     ]
    }
   ],
   "source": [
    "from sqlalchemy import create_engine, ForeignKey, Column, String, Integer, CHAR\n",
    "from sqlalchemy.ext.declarative import declarative_base\n",
    "from sqlalchemy.orm import sessionmaker\n",
    "\n",
    "Base = declarative_base()\n",
    "\n",
    "class Persona(Base):\n",
    "    __tablename__ = \"personas\"\n",
    "    \n",
    "    ssn = Column(Integer, primary_key=True)\n",
    "    firstname = Column(String)\n",
    "    lastname = Column(String)\n",
    "    gender = Column(CHAR)\n",
    "    age = Column(Integer)\n",
    "    \n",
    "    def __init__(self, ssn, firstname, lastname, gender, age):\n",
    "        self.ssn = ssn\n",
    "        self.firstname = firstname\n",
    "        self.lastname = lastname\n",
    "        self.gender = gender.upper()\n",
    "        self.age = age\n",
    "        \n",
    "    def __repr__(self):\n",
    "        return f\"{self.ssn} {self.firstname} {self.lastname} ({self.gender}, {self.age})\"\n",
    "    \n",
    "class Cosa(Base):\n",
    "    __tablename__ = \"cosas\"\n",
    "    \n",
    "    tid = Column(Integer, primary_key=True)\n",
    "    description = Column(String)\n",
    "    owner = Column(Integer, ForeignKey(\"personas.ssn\"))\n",
    "    \n",
    "    def __repr__(self):\n",
    "        return f\"{self.tid} {self.description} owned by {self.owner}\"\n",
    "    \n",
    "engine = create_engine(\"sqlite:///:memory:\", echo=True)\n",
    "Base.metadata.create_all(bind=engine)\n",
    "Session = sessionmaker(bind=engine)\n",
    "session = Session()\n"
   ]
  },
  {
   "cell_type": "code",
   "execution_count": 106,
   "metadata": {},
   "outputs": [
    {
     "name": "stdout",
     "output_type": "stream",
     "text": [
      "2022-11-28 20:48:21,681 INFO sqlalchemy.engine.Engine BEGIN (implicit)\n",
      "2022-11-28 20:48:21,682 INFO sqlalchemy.engine.Engine INSERT INTO personas (ssn, firstname, lastname, gender, age) VALUES (?, ?, ?, ?, ?)\n",
      "2022-11-28 20:48:21,682 INFO sqlalchemy.engine.Engine [generated in 0.00032s] ((21878, 'Mike', 'Smith', 'M', 35), (8219821, 'Jhon', 'Smith', 'M', 31), (209130938, 'Lucas', 'Row', 'M', 23), (99999, 'Claudia', 'López', 'F', 45))\n",
      "2022-11-28 20:48:21,683 INFO sqlalchemy.engine.Engine COMMIT\n"
     ]
    }
   ],
   "source": [
    "p0 = Persona(21878, \"Mike\", \"Smith\", \"m\", 35)\n",
    "p1 = Persona(8219821, \"Jhon\", \"Smith\", \"m\", 31)\n",
    "p2 = Persona(209130938, \"Lucas\", \"Row\", \"m\", 23)\n",
    "p3 = Persona(99999, \"Claudia\", \"López\", \"f\", 45)\n",
    "session.add_all([p0, p1,p2,p3])\n",
    "session.commit()"
   ]
  },
  {
   "cell_type": "code",
   "execution_count": 107,
   "metadata": {},
   "outputs": [
    {
     "name": "stdout",
     "output_type": "stream",
     "text": [
      "2022-11-28 20:48:21,707 INFO sqlalchemy.engine.Engine BEGIN (implicit)\n",
      "2022-11-28 20:48:21,708 INFO sqlalchemy.engine.Engine SELECT personas.ssn AS personas_ssn, personas.firstname AS personas_firstname, personas.lastname AS personas_lastname, personas.gender AS personas_gender, personas.age AS personas_age \n",
      "FROM personas \n",
      "WHERE personas.ssn = ?\n",
      "2022-11-28 20:48:21,709 INFO sqlalchemy.engine.Engine [generated in 0.00034s] (21878,)\n"
     ]
    }
   ],
   "source": [
    "t1 = Cosa(tid= 23893232, description = \"Una cosa\", owner = p0.ssn)"
   ]
  },
  {
   "cell_type": "code",
   "execution_count": 108,
   "metadata": {},
   "outputs": [
    {
     "name": "stdout",
     "output_type": "stream",
     "text": [
      "2022-11-28 20:48:21,740 INFO sqlalchemy.engine.Engine INSERT INTO cosas (tid, description, owner) VALUES (?, ?, ?)\n",
      "2022-11-28 20:48:21,741 INFO sqlalchemy.engine.Engine [generated in 0.00041s] (23893232, 'Una cosa', 21878)\n",
      "2022-11-28 20:48:21,741 INFO sqlalchemy.engine.Engine COMMIT\n"
     ]
    }
   ],
   "source": [
    "session.add(t1)\n",
    "session.commit()"
   ]
  },
  {
   "cell_type": "code",
   "execution_count": 109,
   "metadata": {},
   "outputs": [
    {
     "name": "stdout",
     "output_type": "stream",
     "text": [
      "2022-11-28 20:48:21,771 INFO sqlalchemy.engine.Engine BEGIN (implicit)\n",
      "2022-11-28 20:48:21,771 INFO sqlalchemy.engine.Engine SELECT personas.ssn AS personas_ssn, personas.firstname AS personas_firstname, personas.lastname AS personas_lastname, personas.gender AS personas_gender, personas.age AS personas_age \n",
      "FROM personas \n",
      "WHERE personas.ssn = ?\n",
      "2022-11-28 20:48:21,771 INFO sqlalchemy.engine.Engine [cached since 0.06311s ago] (8219821,)\n",
      "2022-11-28 20:48:21,772 INFO sqlalchemy.engine.Engine SELECT personas.ssn AS personas_ssn, personas.firstname AS personas_firstname, personas.lastname AS personas_lastname, personas.gender AS personas_gender, personas.age AS personas_age \n",
      "FROM personas \n",
      "WHERE personas.ssn = ?\n",
      "2022-11-28 20:48:21,772 INFO sqlalchemy.engine.Engine [cached since 0.064s ago] (21878,)\n",
      "2022-11-28 20:48:21,773 INFO sqlalchemy.engine.Engine INSERT INTO cosas (description, owner) VALUES (?, ?)\n",
      "2022-11-28 20:48:21,773 INFO sqlalchemy.engine.Engine [generated in 0.00034s] ('PS5', 8219821)\n",
      "2022-11-28 20:48:21,774 INFO sqlalchemy.engine.Engine INSERT INTO cosas (description, owner) VALUES (?, ?)\n",
      "2022-11-28 20:48:21,774 INFO sqlalchemy.engine.Engine [cached since 0.0009819s ago] ('Auto', 21878)\n",
      "2022-11-28 20:48:21,774 INFO sqlalchemy.engine.Engine COMMIT\n"
     ]
    }
   ],
   "source": [
    "t2 = Cosa(description = \"PS5\", owner = p1.ssn)\n",
    "t3 = Cosa(description = \"Auto\", owner = p0.ssn)\n",
    "session.add_all([t2,t3])\n",
    "session.commit()"
   ]
  },
  {
   "cell_type": "code",
   "execution_count": 110,
   "metadata": {},
   "outputs": [
    {
     "name": "stdout",
     "output_type": "stream",
     "text": [
      "2022-11-28 20:48:21,799 INFO sqlalchemy.engine.Engine BEGIN (implicit)\n",
      "2022-11-28 20:48:21,800 INFO sqlalchemy.engine.Engine SELECT cosas.tid AS cosas_tid, cosas.description AS cosas_description, cosas.owner AS cosas_owner \n",
      "FROM cosas \n",
      "WHERE cosas.tid = ?\n",
      "2022-11-28 20:48:21,800 INFO sqlalchemy.engine.Engine [generated in 0.00068s] (23893234,)\n"
     ]
    },
    {
     "data": {
      "text/plain": [
       "23893234 Auto owned by 21878"
      ]
     },
     "execution_count": 110,
     "metadata": {},
     "output_type": "execute_result"
    }
   ],
   "source": [
    "t3"
   ]
  },
  {
   "cell_type": "code",
   "execution_count": 111,
   "metadata": {},
   "outputs": [],
   "source": [
    "results = session.query(Cosa, Persona).filter(Cosa.owner == Persona.ssn).filter(Persona.firstname == \"Mike\")"
   ]
  },
  {
   "cell_type": "code",
   "execution_count": 112,
   "metadata": {},
   "outputs": [
    {
     "name": "stdout",
     "output_type": "stream",
     "text": [
      "2022-11-28 20:48:21,863 INFO sqlalchemy.engine.Engine SELECT cosas.tid AS cosas_tid, cosas.description AS cosas_description, cosas.owner AS cosas_owner, personas.ssn AS personas_ssn, personas.firstname AS personas_firstname, personas.lastname AS personas_lastname, personas.gender AS personas_gender, personas.age AS personas_age \n",
      "FROM cosas, personas \n",
      "WHERE cosas.owner = personas.ssn AND personas.firstname = ?\n",
      "2022-11-28 20:48:21,864 INFO sqlalchemy.engine.Engine [generated in 0.00064s] ('Mike',)\n",
      "(23893232 Una cosa owned by 21878, 21878 Mike Smith (M, 35))\n",
      "(23893234 Auto owned by 21878, 21878 Mike Smith (M, 35))\n"
     ]
    }
   ],
   "source": [
    "for r in results:\n",
    "    print (r)"
   ]
  },
  {
   "cell_type": "code",
   "execution_count": 113,
   "metadata": {},
   "outputs": [],
   "source": [
    "%reset -f"
   ]
  },
  {
   "cell_type": "markdown",
   "metadata": {},
   "source": [
    "# Otro Ejemplo \n",
    "### 1. Partimos con DBAPI"
   ]
  },
  {
   "cell_type": "code",
   "execution_count": 114,
   "metadata": {},
   "outputs": [],
   "source": [
    "import sqlite3\n",
    "\n",
    "db_file = \"local.db\"\n",
    "with sqlite3.connect(db_file) as conn:\n",
    "    conn.execute(\n",
    "        \"\"\"CREATE TABLE IF NOT EXISTS test (\n",
    "            col1 integer,\n",
    "            col2 string\n",
    "            )\n",
    "            \"\"\"\n",
    "    )"
   ]
  },
  {
   "cell_type": "code",
   "execution_count": 115,
   "metadata": {},
   "outputs": [
    {
     "data": {
      "text/plain": [
       "[(1, 2), (1, 2), (1, 2)]"
      ]
     },
     "execution_count": 115,
     "metadata": {},
     "output_type": "execute_result"
    }
   ],
   "source": [
    "with sqlite3.connect(db_file) as conn:\n",
    "    conn.execute(\n",
    "    \"\"\"INSERT INTO test VALUES (:val_1, :val_2)\"\"\",\n",
    "    {\"val_1\": 1, \"val_2\":2}\n",
    "    )\n",
    "    result = conn.execute(\"SELECT * FROM test\").fetchall()\n",
    "result"
   ]
  },
  {
   "cell_type": "markdown",
   "metadata": {},
   "source": [
    "El mecanismo de arriba es para evitar una inyección de SQL"
   ]
  },
  {
   "cell_type": "code",
   "execution_count": 116,
   "metadata": {},
   "outputs": [
    {
     "data": {
      "text/plain": [
       "tuple"
      ]
     },
     "execution_count": 116,
     "metadata": {},
     "output_type": "execute_result"
    }
   ],
   "source": [
    "type(result[0])"
   ]
  },
  {
   "cell_type": "markdown",
   "metadata": {},
   "source": [
    "Igual es un sistema complicado, porque las queries son texto y si cambio el motor de BBDD tengo que cambiar el código y no ocupa características de Python"
   ]
  },
  {
   "cell_type": "markdown",
   "metadata": {},
   "source": [
    "### 2. Usando SqlAlchemy"
   ]
  },
  {
   "cell_type": "code",
   "execution_count": 117,
   "metadata": {},
   "outputs": [],
   "source": [
    "import sqlalchemy as sa"
   ]
  },
  {
   "cell_type": "markdown",
   "metadata": {},
   "source": [
    "Metadata es el registro de las tablas y permite a SQLAlchemy entender como se conectan. Debe ser un objeto global y todas las tablas deben usar el mismo objeto metadata"
   ]
  },
  {
   "cell_type": "code",
   "execution_count": 118,
   "metadata": {},
   "outputs": [],
   "source": [
    "meta = sa.MetaData()"
   ]
  },
  {
   "cell_type": "markdown",
   "metadata": {},
   "source": [
    "Interpretamos la tabla en Python, se puede usar:"
   ]
  },
  {
   "cell_type": "code",
   "execution_count": 119,
   "metadata": {},
   "outputs": [],
   "source": [
    "test_table = sa.Table(\"test\", \n",
    "                   meta,\n",
    "                   sa.Column(\"col1\", sa.Integer),\n",
    "                   sa.Column(\"col2\", sa.String))"
   ]
  },
  {
   "cell_type": "markdown",
   "metadata": {},
   "source": [
    "Todavía la tabla no tiene idea de la base de datos, para eso se usa el **engine**\n",
    "\n",
    "Al crear el **engine** no se conecta a la DB, simplemente hace validación de la dirección (path, url) y prepara los dialectos para el motor, también se pueden poder muchas opciones de conexión."
   ]
  },
  {
   "cell_type": "code",
   "execution_count": 120,
   "metadata": {},
   "outputs": [],
   "source": [
    "#future da uso de las opciones de SQLAlchemy 2.0 que todavía está en beta\n",
    "#echo escupe el SQL\n",
    "\n",
    "engine = sa.create_engine(\"sqlite:///local.db\", future=True)\n"
   ]
  },
  {
   "cell_type": "markdown",
   "metadata": {},
   "source": [
    "Ahora podemos hacer consultas usando SA"
   ]
  },
  {
   "cell_type": "code",
   "execution_count": 121,
   "metadata": {},
   "outputs": [],
   "source": [
    "sql = sa.select(test_table)"
   ]
  },
  {
   "cell_type": "code",
   "execution_count": 122,
   "metadata": {},
   "outputs": [
    {
     "data": {
      "text/plain": [
       "<sqlalchemy.sql.selectable.Select object at 0x10a821910>"
      ]
     },
     "execution_count": 122,
     "metadata": {},
     "output_type": "execute_result"
    }
   ],
   "source": [
    "sql"
   ]
  },
  {
   "cell_type": "code",
   "execution_count": 123,
   "metadata": {},
   "outputs": [
    {
     "name": "stdout",
     "output_type": "stream",
     "text": [
      "SELECT test.col1, test.col2 \n",
      "FROM test\n"
     ]
    }
   ],
   "source": [
    "print(sql)"
   ]
  },
  {
   "cell_type": "code",
   "execution_count": 124,
   "metadata": {},
   "outputs": [
    {
     "data": {
      "text/plain": [
       "<sqlalchemy.sql.elements.BinaryExpression object at 0x1066c3990>"
      ]
     },
     "execution_count": 124,
     "metadata": {},
     "output_type": "execute_result"
    }
   ],
   "source": [
    "test_table.c.col1 == \"test\""
   ]
  },
  {
   "cell_type": "code",
   "execution_count": 125,
   "metadata": {},
   "outputs": [
    {
     "name": "stdout",
     "output_type": "stream",
     "text": [
      "test.col1 = :col1_1\n"
     ]
    }
   ],
   "source": [
    "print(test_table.c.col1 == \"test\")\n"
   ]
  },
  {
   "cell_type": "code",
   "execution_count": 126,
   "metadata": {},
   "outputs": [
    {
     "name": "stdout",
     "output_type": "stream",
     "text": [
      "SELECT test.col1, test.col2 \n",
      "FROM test \n",
      "WHERE test.col1 = :col1_1\n"
     ]
    }
   ],
   "source": [
    "print(sql.where(test_table.c.col1 == \"test\"))\n"
   ]
  },
  {
   "cell_type": "markdown",
   "metadata": {},
   "source": [
    "Para correr el SQL debemos establecer una conexión, es la primera vez que hacemos algo fuera de python /en esta vuelta)"
   ]
  },
  {
   "cell_type": "code",
   "execution_count": 127,
   "metadata": {},
   "outputs": [
    {
     "data": {
      "text/plain": [
       "[(1, 2), (1, 2), (1, 2)]"
      ]
     },
     "execution_count": 127,
     "metadata": {},
     "output_type": "execute_result"
    }
   ],
   "source": [
    "with engine.connect() as conn:\n",
    "    result = conn.execute(sql).all()\n",
    "    \n",
    "result"
   ]
  },
  {
   "cell_type": "code",
   "execution_count": 128,
   "metadata": {},
   "outputs": [
    {
     "data": {
      "text/plain": [
       "sqlalchemy.engine.row.Row"
      ]
     },
     "execution_count": 128,
     "metadata": {},
     "output_type": "execute_result"
    }
   ],
   "source": [
    "type(result[0])"
   ]
  },
  {
   "cell_type": "code",
   "execution_count": 129,
   "metadata": {},
   "outputs": [
    {
     "data": {
      "text/plain": [
       "1"
      ]
     },
     "execution_count": 129,
     "metadata": {},
     "output_type": "execute_result"
    }
   ],
   "source": [
    "result[0].col1"
   ]
  },
  {
   "cell_type": "code",
   "execution_count": 130,
   "metadata": {},
   "outputs": [
    {
     "data": {
      "text/plain": [
       "{'col1': 1, 'col2': 2}"
      ]
     },
     "execution_count": 130,
     "metadata": {},
     "output_type": "execute_result"
    }
   ],
   "source": [
    "dict(result[0])"
   ]
  },
  {
   "cell_type": "markdown",
   "metadata": {},
   "source": [
    "Se parece a lo de antes, pero mejorado"
   ]
  },
  {
   "cell_type": "markdown",
   "metadata": {},
   "source": [
    "Usamos `.all()` para dar todos, pero se puede usar:\n",
    "*   `all` todos los resultados\n",
    "*   `one` solo uno y da excepción si no hay exactamente uno\n",
    "*   `one_or_none` da uno y da excepción si hay más de uno\n",
    "*   `first` el primero\n",
    "*   `partitions(size)` en chunks de tamaño size\n",
    "*   `yield_per(num)` solo si el motor soporta stream de resultados"
   ]
  },
  {
   "cell_type": "markdown",
   "metadata": {},
   "source": [
    "### 3. SQLAlchemy Core\n",
    "Vamos a crear las tablas, que recordemos no están unidas a ninguna base\n",
    "\n",
    "Vamos a usar unos datos daneses de estacionamientos, porque podemos hacerlo\n",
    "https://www.opendata.dk/city-of-copenhagen/parkeringstaelling-i-zoner"
   ]
  },
  {
   "cell_type": "code",
   "execution_count": 131,
   "metadata": {},
   "outputs": [],
   "source": [
    "import sqlalchemy as sa\n",
    "\n",
    "meta = sa.MetaData()\n",
    "\n",
    "fkt_parking = sa.Table(\"fkt_parking\", \n",
    "                       meta, \n",
    "                       sa.Column(\"id\", sa.Integer, primary_key=True),\n",
    "                       sa.Column(\"area_id\", sa.Integer, sa.ForeignKey(\"dim_area.area_id\")), \n",
    "                       sa.Column(\"year_month\", sa.VARCHAR(20)),\n",
    "                       sa.Column(\"count_type\", sa.Integer, sa.ForeignKey(\"dim_parking_types.type_id\")),\n",
    "                       sa.Column(\"count\", sa.Integer),\n",
    "                       sa.Column(\"hour\", sa.Integer)\n",
    "                      )\n",
    "\n",
    "dim_area = sa.Table(\"dim_area\", \n",
    "                    meta,\n",
    "                    sa.Column(\"area_id\", sa.Integer, primary_key=True),\n",
    "                    sa.Column(\"city\", sa.VARCHAR(50)),\n",
    "                    sa.Column(\"street_name\", sa.VARCHAR(200)),\n",
    "                    sa.Column(\"postnr\", sa.VARCHAR(4)),\n",
    "                    sa.Column(\"nr\", sa.Integer)\n",
    "                   )\n",
    "                       \n",
    "dim_parking_types = sa.Table(\"dim_parking_types\",\n",
    "                             meta,\n",
    "                             sa.Column(\"type_id\", sa.Integer, primary_key=True),\n",
    "                             sa.Column(\"name\", sa.VARCHAR(50), unique=True)\n",
    "                            )"
   ]
  },
  {
   "cell_type": "code",
   "execution_count": 132,
   "metadata": {},
   "outputs": [],
   "source": [
    "conn_string = \"sqlite:///parking.db\""
   ]
  },
  {
   "cell_type": "code",
   "execution_count": 133,
   "metadata": {},
   "outputs": [
    {
     "data": {
      "text/plain": [
       "FacadeDict({'fkt_parking': Table('fkt_parking', MetaData(), Column('id', Integer(), table=<fkt_parking>, primary_key=True, nullable=False), Column('area_id', Integer(), ForeignKey('dim_area.area_id'), table=<fkt_parking>), Column('year_month', VARCHAR(length=20), table=<fkt_parking>), Column('count_type', Integer(), ForeignKey('dim_parking_types.type_id'), table=<fkt_parking>), Column('count', Integer(), table=<fkt_parking>), Column('hour', Integer(), table=<fkt_parking>), schema=None), 'dim_area': Table('dim_area', MetaData(), Column('area_id', Integer(), table=<dim_area>, primary_key=True, nullable=False), Column('city', VARCHAR(length=50), table=<dim_area>), Column('street_name', VARCHAR(length=200), table=<dim_area>), Column('postnr', VARCHAR(length=4), table=<dim_area>), Column('nr', Integer(), table=<dim_area>), schema=None), 'dim_parking_types': Table('dim_parking_types', MetaData(), Column('type_id', Integer(), table=<dim_parking_types>, primary_key=True, nullable=False), Column('name', VARCHAR(length=50), table=<dim_parking_types>), schema=None)})"
      ]
     },
     "execution_count": 133,
     "metadata": {},
     "output_type": "execute_result"
    }
   ],
   "source": [
    "meta.tables\n"
   ]
  },
  {
   "cell_type": "code",
   "execution_count": 134,
   "metadata": {},
   "outputs": [],
   "source": [
    "engine = sa.create_engine(conn_string, future=True, echo=True)\n"
   ]
  },
  {
   "cell_type": "markdown",
   "metadata": {},
   "source": [
    "Como metadata sabe todo de nuestras tablas, le podemos pedir que las cree, conoce las dependencias, las relaciones y lo hace todo mágicamente"
   ]
  },
  {
   "cell_type": "code",
   "execution_count": 135,
   "metadata": {},
   "outputs": [
    {
     "name": "stdout",
     "output_type": "stream",
     "text": [
      "2022-11-28 20:48:22,925 INFO sqlalchemy.engine.Engine BEGIN (implicit)\n",
      "2022-11-28 20:48:22,925 INFO sqlalchemy.engine.Engine PRAGMA main.table_info(\"fkt_parking\")\n",
      "2022-11-28 20:48:22,926 INFO sqlalchemy.engine.Engine [raw sql] ()\n",
      "2022-11-28 20:48:22,926 INFO sqlalchemy.engine.Engine PRAGMA temp.table_info(\"fkt_parking\")\n",
      "2022-11-28 20:48:22,926 INFO sqlalchemy.engine.Engine [raw sql] ()\n",
      "2022-11-28 20:48:22,927 INFO sqlalchemy.engine.Engine PRAGMA main.table_info(\"dim_area\")\n",
      "2022-11-28 20:48:22,927 INFO sqlalchemy.engine.Engine [raw sql] ()\n",
      "2022-11-28 20:48:22,927 INFO sqlalchemy.engine.Engine PRAGMA temp.table_info(\"dim_area\")\n",
      "2022-11-28 20:48:22,927 INFO sqlalchemy.engine.Engine [raw sql] ()\n",
      "2022-11-28 20:48:22,928 INFO sqlalchemy.engine.Engine PRAGMA main.table_info(\"dim_parking_types\")\n",
      "2022-11-28 20:48:22,928 INFO sqlalchemy.engine.Engine [raw sql] ()\n",
      "2022-11-28 20:48:22,928 INFO sqlalchemy.engine.Engine PRAGMA temp.table_info(\"dim_parking_types\")\n",
      "2022-11-28 20:48:22,928 INFO sqlalchemy.engine.Engine [raw sql] ()\n",
      "2022-11-28 20:48:22,929 INFO sqlalchemy.engine.Engine \n",
      "CREATE TABLE dim_area (\n",
      "\tarea_id INTEGER NOT NULL, \n",
      "\tcity VARCHAR(50), \n",
      "\tstreet_name VARCHAR(200), \n",
      "\tpostnr VARCHAR(4), \n",
      "\tnr INTEGER, \n",
      "\tPRIMARY KEY (area_id)\n",
      ")\n",
      "\n",
      "\n",
      "2022-11-28 20:48:22,929 INFO sqlalchemy.engine.Engine [no key 0.00019s] ()\n",
      "2022-11-28 20:48:22,930 INFO sqlalchemy.engine.Engine \n",
      "CREATE TABLE dim_parking_types (\n",
      "\ttype_id INTEGER NOT NULL, \n",
      "\tname VARCHAR(50), \n",
      "\tPRIMARY KEY (type_id), \n",
      "\tUNIQUE (name)\n",
      ")\n",
      "\n",
      "\n",
      "2022-11-28 20:48:22,930 INFO sqlalchemy.engine.Engine [no key 0.00021s] ()\n",
      "2022-11-28 20:48:22,931 INFO sqlalchemy.engine.Engine \n",
      "CREATE TABLE fkt_parking (\n",
      "\tid INTEGER NOT NULL, \n",
      "\tarea_id INTEGER, \n",
      "\tyear_month VARCHAR(20), \n",
      "\tcount_type INTEGER, \n",
      "\tcount INTEGER, \n",
      "\thour INTEGER, \n",
      "\tPRIMARY KEY (id), \n",
      "\tFOREIGN KEY(area_id) REFERENCES dim_area (area_id), \n",
      "\tFOREIGN KEY(count_type) REFERENCES dim_parking_types (type_id)\n",
      ")\n",
      "\n",
      "\n",
      "2022-11-28 20:48:22,931 INFO sqlalchemy.engine.Engine [no key 0.00025s] ()\n",
      "2022-11-28 20:48:22,932 INFO sqlalchemy.engine.Engine COMMIT\n"
     ]
    }
   ],
   "source": [
    "meta.create_all(engine)"
   ]
  },
  {
   "cell_type": "markdown",
   "metadata": {},
   "source": [
    "#### 3.1 Insert"
   ]
  },
  {
   "cell_type": "code",
   "execution_count": 136,
   "metadata": {},
   "outputs": [],
   "source": [
    "insert_sql = sa.insert(dim_parking_types).values(type_id=0, name=\"legal\")\n"
   ]
  },
  {
   "cell_type": "code",
   "execution_count": 137,
   "metadata": {},
   "outputs": [
    {
     "name": "stdout",
     "output_type": "stream",
     "text": [
      "INSERT INTO dim_parking_types (type_id, name) VALUES (:type_id, :name)\n"
     ]
    }
   ],
   "source": [
    "print(insert_sql)"
   ]
  },
  {
   "cell_type": "markdown",
   "metadata": {},
   "source": [
    "Acá no hay espacio para la inyección y lo hace solo.\n",
    "\n",
    "Esto es sólo una instrucción, hay que conectarse a la base de datos para que sirva de algo útil"
   ]
  },
  {
   "cell_type": "code",
   "execution_count": 138,
   "metadata": {},
   "outputs": [
    {
     "name": "stdout",
     "output_type": "stream",
     "text": [
      "2022-11-28 20:48:23,051 INFO sqlalchemy.engine.Engine BEGIN (implicit)\n",
      "2022-11-28 20:48:23,052 INFO sqlalchemy.engine.Engine INSERT INTO dim_parking_types (type_id, name) VALUES (?, ?)\n",
      "2022-11-28 20:48:23,052 INFO sqlalchemy.engine.Engine [generated in 0.00076s] (0, 'legal')\n",
      "2022-11-28 20:48:23,053 INFO sqlalchemy.engine.Engine ROLLBACK\n"
     ]
    }
   ],
   "source": [
    "with engine.connect() as conn:\n",
    "    conn.execute(insert_sql)"
   ]
  },
  {
   "cell_type": "markdown",
   "metadata": {},
   "source": [
    "Si miramos la base de datos, nada ha pasado.... esto es porque si no hacemos commit los cambios se van a deshacer al salir del context manager\n",
    "\n",
    "Se ve en la última linea que hace eso"
   ]
  },
  {
   "cell_type": "code",
   "execution_count": 139,
   "metadata": {},
   "outputs": [
    {
     "name": "stdout",
     "output_type": "stream",
     "text": [
      "2022-11-28 20:48:23,110 INFO sqlalchemy.engine.Engine BEGIN (implicit)\n",
      "2022-11-28 20:48:23,110 INFO sqlalchemy.engine.Engine INSERT INTO dim_parking_types (type_id, name) VALUES (?, ?)\n",
      "2022-11-28 20:48:23,111 INFO sqlalchemy.engine.Engine [cached since 0.05951s ago] (0, 'legal')\n",
      "2022-11-28 20:48:23,112 INFO sqlalchemy.engine.Engine COMMIT\n"
     ]
    }
   ],
   "source": [
    "with engine.connect() as conn:\n",
    "    conn.execute(insert_sql)\n",
    "    conn.commit()"
   ]
  },
  {
   "cell_type": "markdown",
   "metadata": {},
   "source": [
    "Ahora borremos ese dato"
   ]
  },
  {
   "cell_type": "code",
   "execution_count": 140,
   "metadata": {},
   "outputs": [
    {
     "name": "stdout",
     "output_type": "stream",
     "text": [
      "DELETE FROM dim_parking_types WHERE dim_parking_types.type_id = :type_id_1\n"
     ]
    }
   ],
   "source": [
    "delete_sql = dim_parking_types.delete().where(dim_parking_types.c.type_id == 0)\n",
    "print (delete_sql)"
   ]
  },
  {
   "cell_type": "code",
   "execution_count": 141,
   "metadata": {},
   "outputs": [
    {
     "name": "stdout",
     "output_type": "stream",
     "text": [
      "2022-11-28 20:48:23,189 INFO sqlalchemy.engine.Engine BEGIN (implicit)\n",
      "2022-11-28 20:48:23,189 INFO sqlalchemy.engine.Engine DELETE FROM dim_parking_types WHERE dim_parking_types.type_id = ?\n",
      "2022-11-28 20:48:23,189 INFO sqlalchemy.engine.Engine [generated in 0.00064s] (0,)\n",
      "2022-11-28 20:48:23,190 INFO sqlalchemy.engine.Engine COMMIT\n"
     ]
    }
   ],
   "source": [
    "with engine.connect() as conn:\n",
    "    conn.execute(delete_sql)\n",
    "    conn.commit()"
   ]
  },
  {
   "cell_type": "code",
   "execution_count": 142,
   "metadata": {},
   "outputs": [
    {
     "name": "stdout",
     "output_type": "stream",
     "text": [
      "2022-11-28 20:48:23,223 INFO sqlalchemy.engine.Engine BEGIN (implicit)\n",
      "2022-11-28 20:48:23,224 INFO sqlalchemy.engine.Engine INSERT INTO dim_parking_types (type_id, name) VALUES (?, ?)\n",
      "2022-11-28 20:48:23,224 INFO sqlalchemy.engine.Engine [cached since 0.1727s ago] (0, 'legal')\n",
      "2022-11-28 20:48:23,225 INFO sqlalchemy.engine.Engine COMMIT\n",
      "2022-11-28 20:48:23,225 INFO sqlalchemy.engine.Engine BEGIN (implicit)\n",
      "2022-11-28 20:48:23,226 INFO sqlalchemy.engine.Engine DELETE FROM dim_parking_types WHERE dim_parking_types.type_id = ?\n",
      "2022-11-28 20:48:23,226 INFO sqlalchemy.engine.Engine [cached since 0.03712s ago] (0,)\n",
      "2022-11-28 20:48:23,226 INFO sqlalchemy.engine.Engine ROLLBACK\n"
     ]
    }
   ],
   "source": [
    "with engine.connect() as conn:\n",
    "    conn.execute(insert_sql)\n",
    "    conn.commit()\n",
    "    conn.execute(delete_sql)\n",
    "    conn.rollback()\n",
    "    \n",
    "#rollback hecha marcha atrás, lo que está con commit queda"
   ]
  },
  {
   "cell_type": "markdown",
   "metadata": {},
   "source": [
    "#### 3.2 Unit of Work"
   ]
  },
  {
   "cell_type": "markdown",
   "metadata": {},
   "source": [
    "SA usa unit of work , esto quiere decir que espera que preparemos todos los cambios y de ahí lo enviemos a la BD de una, al mismo tiempo. Esto ayuda a SA a optimizar el resultado y la comunicación con la BD. \n",
    "\n",
    "El usar commit es parte de esto y ayuda a tener más control. \n",
    "\n",
    "Esto también significa que SA está generalmente trabajando con transacciones, las que podemos manejar explícitamente"
   ]
  },
  {
   "cell_type": "code",
   "execution_count": 143,
   "metadata": {},
   "outputs": [
    {
     "name": "stdout",
     "output_type": "stream",
     "text": [
      "2022-11-28 20:48:23,259 INFO sqlalchemy.engine.Engine BEGIN (implicit)\n",
      "2022-11-28 20:48:23,259 INFO sqlalchemy.engine.Engine DELETE FROM dim_parking_types WHERE dim_parking_types.type_id = ?\n",
      "2022-11-28 20:48:23,260 INFO sqlalchemy.engine.Engine [cached since 0.07098s ago] (0,)\n",
      "2022-11-28 20:48:23,260 INFO sqlalchemy.engine.Engine COMMIT\n",
      "2022-11-28 20:48:23,261 INFO sqlalchemy.engine.Engine BEGIN (implicit)\n",
      "2022-11-28 20:48:23,261 INFO sqlalchemy.engine.Engine INSERT INTO dim_parking_types (type_id, name) VALUES (?, ?)\n",
      "2022-11-28 20:48:23,261 INFO sqlalchemy.engine.Engine [cached since 0.2099s ago] (0, 'legal')\n",
      "2022-11-28 20:48:23,262 INFO sqlalchemy.engine.Engine ROLLBACK\n"
     ]
    }
   ],
   "source": [
    "with engine.connect() as conn:\n",
    "    conn.execute(delete_sql)\n",
    "    conn.commit()\n",
    "    transaction = conn.begin()\n",
    "    conn.execute(insert_sql)\n",
    "    transaction.rollback()"
   ]
  },
  {
   "cell_type": "markdown",
   "metadata": {},
   "source": [
    "Se puede hacer así también"
   ]
  },
  {
   "cell_type": "code",
   "execution_count": 144,
   "metadata": {},
   "outputs": [
    {
     "name": "stdout",
     "output_type": "stream",
     "text": [
      "2022-11-28 20:48:23,292 INFO sqlalchemy.engine.Engine BEGIN (implicit)\n",
      "2022-11-28 20:48:23,292 INFO sqlalchemy.engine.Engine INSERT INTO dim_parking_types (type_id, name) VALUES (?, ?)\n",
      "2022-11-28 20:48:23,293 INFO sqlalchemy.engine.Engine [cached since 0.2415s ago] (0, 'legal')\n",
      "2022-11-28 20:48:23,294 INFO sqlalchemy.engine.Engine DELETE FROM dim_parking_types WHERE dim_parking_types.type_id = ?\n",
      "2022-11-28 20:48:23,294 INFO sqlalchemy.engine.Engine [cached since 0.1054s ago] (0,)\n",
      "2022-11-28 20:48:23,295 INFO sqlalchemy.engine.Engine COMMIT\n"
     ]
    }
   ],
   "source": [
    "with engine.begin() as conn:\n",
    "    conn.execute(insert_sql)\n",
    "    conn.execute(delete_sql)"
   ]
  },
  {
   "cell_type": "markdown",
   "metadata": {},
   "source": [
    "Acá hace el commit solo al salir del context manager. Si hay un error entonces la transacción hace rollback"
   ]
  },
  {
   "cell_type": "code",
   "execution_count": 145,
   "metadata": {},
   "outputs": [
    {
     "name": "stdout",
     "output_type": "stream",
     "text": [
      "2022-11-28 20:48:23,342 INFO sqlalchemy.engine.Engine BEGIN (implicit)\n",
      "2022-11-28 20:48:23,343 INFO sqlalchemy.engine.Engine INSERT INTO dim_parking_types (type_id, name) VALUES (?, ?)\n",
      "2022-11-28 20:48:23,344 INFO sqlalchemy.engine.Engine [cached since 0.293s ago] (0, 'legal')\n",
      "2022-11-28 20:48:23,346 INFO sqlalchemy.engine.Engine ROLLBACK\n"
     ]
    },
    {
     "ename": "Exception",
     "evalue": "Algo malo pasó",
     "output_type": "error",
     "traceback": [
      "\u001b[0;31m---------------------------------------------------------------------------\u001b[0m",
      "\u001b[0;31mException\u001b[0m                                 Traceback (most recent call last)",
      "Cell \u001b[0;32mIn [145], line 3\u001b[0m\n\u001b[1;32m      1\u001b[0m \u001b[39mwith\u001b[39;00m engine\u001b[39m.\u001b[39mbegin() \u001b[39mas\u001b[39;00m conn:\n\u001b[1;32m      2\u001b[0m     conn\u001b[39m.\u001b[39mexecute(insert_sql)\n\u001b[0;32m----> 3\u001b[0m     \u001b[39mraise\u001b[39;00m \u001b[39mException\u001b[39;00m(\u001b[39m\"\u001b[39m\u001b[39mAlgo malo pasó\u001b[39m\u001b[39m\"\u001b[39m)\n",
      "\u001b[0;31mException\u001b[0m: Algo malo pasó"
     ]
    }
   ],
   "source": [
    "with engine.begin() as conn:\n",
    "    conn.execute(insert_sql)\n",
    "    raise Exception(\"Algo malo pasó\")"
   ]
  },
  {
   "cell_type": "markdown",
   "metadata": {},
   "source": [
    "#### 3.3 Insertar muchas filas"
   ]
  },
  {
   "cell_type": "code",
   "execution_count": 146,
   "metadata": {},
   "outputs": [],
   "source": [
    "import csv\n",
    "import pathlib"
   ]
  },
  {
   "cell_type": "code",
   "execution_count": 147,
   "metadata": {},
   "outputs": [],
   "source": [
    "data = [(pathlib.Path(\"data/dim_parking_types.csv\"), dim_parking_types),\n",
    "        (pathlib.Path(\"data/dim_area.csv\"), dim_area),\n",
    "        (pathlib.Path(\"data/fkt_parking.csv\"), fkt_parking)]"
   ]
  },
  {
   "cell_type": "code",
   "execution_count": 148,
   "metadata": {},
   "outputs": [
    {
     "data": {
      "text/plain": [
       "[(PosixPath('data/dim_parking_types.csv'),\n",
       "  Table('dim_parking_types', MetaData(), Column('type_id', Integer(), table=<dim_parking_types>, primary_key=True, nullable=False), Column('name', VARCHAR(length=50), table=<dim_parking_types>), schema=None)),\n",
       " (PosixPath('data/dim_area.csv'),\n",
       "  Table('dim_area', MetaData(), Column('area_id', Integer(), table=<dim_area>, primary_key=True, nullable=False), Column('city', VARCHAR(length=50), table=<dim_area>), Column('street_name', VARCHAR(length=200), table=<dim_area>), Column('postnr', VARCHAR(length=4), table=<dim_area>), Column('nr', Integer(), table=<dim_area>), schema=None)),\n",
       " (PosixPath('data/fkt_parking.csv'),\n",
       "  Table('fkt_parking', MetaData(), Column('id', Integer(), table=<fkt_parking>, primary_key=True, nullable=False), Column('area_id', Integer(), ForeignKey('dim_area.area_id'), table=<fkt_parking>), Column('year_month', VARCHAR(length=20), table=<fkt_parking>), Column('count_type', Integer(), ForeignKey('dim_parking_types.type_id'), table=<fkt_parking>), Column('count', Integer(), table=<fkt_parking>), Column('hour', Integer(), table=<fkt_parking>), schema=None))]"
      ]
     },
     "execution_count": 148,
     "metadata": {},
     "output_type": "execute_result"
    }
   ],
   "source": [
    "data"
   ]
  },
  {
   "cell_type": "code",
   "execution_count": 149,
   "metadata": {},
   "outputs": [
    {
     "name": "stdout",
     "output_type": "stream",
     "text": [
      "2022-11-28 20:48:37,608 INFO sqlalchemy.engine.Engine BEGIN (implicit)\n",
      "2022-11-28 20:48:37,609 INFO sqlalchemy.engine.Engine INSERT INTO dim_parking_types (type_id, name) VALUES (?, ?)\n",
      "2022-11-28 20:48:37,609 INFO sqlalchemy.engine.Engine [generated in 0.00023s] (('0', 'legal'), ('1', 'counted'))\n",
      "2022-11-28 20:48:37,611 INFO sqlalchemy.engine.Engine INSERT INTO dim_area (area_id, city, street_name, postnr, nr) VALUES (?, ?, ?, ?, ?)\n",
      "2022-11-28 20:48:37,611 INFO sqlalchemy.engine.Engine [generated in 0.00037s] (('1', 'Løgumkloster', 'Sommersted', '3886', '7'), ('5', 'Søborg', 'Kålager', '4873', '78'), ('2', 'Glejbjerg', 'Hannemanns', '6024', '2'), ('12', 'Gilleleje', 'Australiens', '5549', '5'), ('3', 'Haderup', 'Drechsels', '2909', '112'), ('4', 'Værløse', 'Hauser', '2196', '2'), ('6', 'Bøvlingbjerg', 'Tikøb', '9594', '17'), ('9', 'Vildbjerg', 'Hyldebær', '4767', '233')  ... displaying 10 of 103 total bound parameter sets ...  ('110', 'Horslunde', 'Suensons', '6244', '80'), ('111', 'Vemb', 'Ravnsborg', '3978', '73'))\n",
      "2022-11-28 20:48:37,632 INFO sqlalchemy.engine.Engine INSERT INTO fkt_parking (area_id, year_month, count_type, count, hour) VALUES (?, ?, ?, ?, ?)\n",
      "2022-11-28 20:48:37,632 INFO sqlalchemy.engine.Engine [generated in 0.01162s] (('1', '2021-09', '0', '328', '12'), ('1', '2021-03', '0', '320', '12'), ('1', '2020-09', '0', '308', '12'), ('1', '2019-09', '0', '306', '12'), ('1', '2019-03', '0', '303', '12'), ('5', '2018-09', '0', '1305', '12'), ('1', '2018-09', '0', '304', '12'), ('1', '2018-03', '0', '304', '12')  ... displaying 10 of 8916 total bound parameter sets ...  ('111', '2021-09', '1', '414', '22'), ('111', '2021-03', '1', '384', '22'))\n",
      "2022-11-28 20:48:37,640 INFO sqlalchemy.engine.Engine COMMIT\n"
     ]
    }
   ],
   "source": [
    "#Corramos todo en una Unit of Work en una transacción\n",
    "with engine.begin() as conn:\n",
    "    for data_file, table in data:\n",
    "        #leyendo CSV\n",
    "        with data_file.open(encoding=\"utf-8\") as f:\n",
    "            rows = list(csv.DictReader(f))\n",
    "        sql = table.insert()\n",
    "        conn.execute(sql, parameters=rows)"
   ]
  },
  {
   "cell_type": "markdown",
   "metadata": {},
   "source": [
    "Cuando pasamos una lista de diccionarios a paramters, SA sabe usar el método `.executemany()`de la libreria DB-API library, que optimiza para ingresar múltiples filas"
   ]
  },
  {
   "cell_type": "markdown",
   "metadata": {},
   "source": [
    "#### 3.4 Usando lógica\n",
    "\n",
    "Busquemos solo en la ciudad de Gilleleje\n"
   ]
  },
  {
   "cell_type": "code",
   "execution_count": 150,
   "metadata": {},
   "outputs": [
    {
     "name": "stdout",
     "output_type": "stream",
     "text": [
      "SELECT fkt_parking.count, fkt_parking.hour, dim_area.area_id, dim_area.city, dim_area.street_name, dim_area.postnr, dim_area.nr \n",
      "FROM fkt_parking JOIN dim_area ON dim_area.area_id = fkt_parking.area_id \n",
      "WHERE dim_area.city = :city_1\n"
     ]
    }
   ],
   "source": [
    "sql = sa.select([fkt_parking.c.count, fkt_parking.c.hour, dim_area]).join(dim_area).where(dim_area.c.city == \"Gilleleje\")\n",
    "print (sql)"
   ]
  },
  {
   "cell_type": "code",
   "execution_count": 151,
   "metadata": {},
   "outputs": [
    {
     "name": "stdout",
     "output_type": "stream",
     "text": [
      "2022-11-28 20:48:37,697 INFO sqlalchemy.engine.Engine BEGIN (implicit)\n",
      "2022-11-28 20:48:37,697 INFO sqlalchemy.engine.Engine SELECT fkt_parking.count, fkt_parking.hour, dim_area.area_id, dim_area.city, dim_area.street_name, dim_area.postnr, dim_area.nr \n",
      "FROM fkt_parking JOIN dim_area ON dim_area.area_id = fkt_parking.area_id \n",
      "WHERE dim_area.city = ?\n",
      "2022-11-28 20:48:37,697 INFO sqlalchemy.engine.Engine [generated in 0.00084s] ('Gilleleje',)\n",
      "2022-11-28 20:48:37,699 INFO sqlalchemy.engine.Engine ROLLBACK\n"
     ]
    }
   ],
   "source": [
    "with engine.connect() as conn:\n",
    "    results = conn.execute(sql).all()"
   ]
  },
  {
   "cell_type": "code",
   "execution_count": 152,
   "metadata": {},
   "outputs": [
    {
     "data": {
      "text/plain": [
       "[{'count': 1004,\n",
       "  'hour': 12,\n",
       "  'area_id': 12,\n",
       "  'city': 'Gilleleje',\n",
       "  'street_name': 'Australiens',\n",
       "  'postnr': '5549',\n",
       "  'nr': 5},\n",
       " {'count': 1018,\n",
       "  'hour': 12,\n",
       "  'area_id': 12,\n",
       "  'city': 'Gilleleje',\n",
       "  'street_name': 'Australiens',\n",
       "  'postnr': '5549',\n",
       "  'nr': 5}]"
      ]
     },
     "execution_count": 152,
     "metadata": {},
     "output_type": "execute_result"
    }
   ],
   "source": [
    "[dict(row) for row in results[:2]]"
   ]
  },
  {
   "cell_type": "code",
   "execution_count": 153,
   "metadata": {},
   "outputs": [
    {
     "data": {
      "text/html": [
       "<div>\n",
       "<style scoped>\n",
       "    .dataframe tbody tr th:only-of-type {\n",
       "        vertical-align: middle;\n",
       "    }\n",
       "\n",
       "    .dataframe tbody tr th {\n",
       "        vertical-align: top;\n",
       "    }\n",
       "\n",
       "    .dataframe thead th {\n",
       "        text-align: right;\n",
       "    }\n",
       "</style>\n",
       "<table border=\"1\" class=\"dataframe\">\n",
       "  <thead>\n",
       "    <tr style=\"text-align: right;\">\n",
       "      <th></th>\n",
       "      <th>count</th>\n",
       "      <th>hour</th>\n",
       "      <th>area_id</th>\n",
       "      <th>city</th>\n",
       "      <th>street_name</th>\n",
       "      <th>postnr</th>\n",
       "      <th>nr</th>\n",
       "    </tr>\n",
       "  </thead>\n",
       "  <tbody>\n",
       "    <tr>\n",
       "      <th>0</th>\n",
       "      <td>1004</td>\n",
       "      <td>12</td>\n",
       "      <td>12</td>\n",
       "      <td>Gilleleje</td>\n",
       "      <td>Australiens</td>\n",
       "      <td>5549</td>\n",
       "      <td>5</td>\n",
       "    </tr>\n",
       "    <tr>\n",
       "      <th>1</th>\n",
       "      <td>1018</td>\n",
       "      <td>12</td>\n",
       "      <td>12</td>\n",
       "      <td>Gilleleje</td>\n",
       "      <td>Australiens</td>\n",
       "      <td>5549</td>\n",
       "      <td>5</td>\n",
       "    </tr>\n",
       "    <tr>\n",
       "      <th>2</th>\n",
       "      <td>1019</td>\n",
       "      <td>12</td>\n",
       "      <td>12</td>\n",
       "      <td>Gilleleje</td>\n",
       "      <td>Australiens</td>\n",
       "      <td>5549</td>\n",
       "      <td>5</td>\n",
       "    </tr>\n",
       "    <tr>\n",
       "      <th>3</th>\n",
       "      <td>1028</td>\n",
       "      <td>12</td>\n",
       "      <td>12</td>\n",
       "      <td>Gilleleje</td>\n",
       "      <td>Australiens</td>\n",
       "      <td>5549</td>\n",
       "      <td>5</td>\n",
       "    </tr>\n",
       "    <tr>\n",
       "      <th>4</th>\n",
       "      <td>1032</td>\n",
       "      <td>12</td>\n",
       "      <td>12</td>\n",
       "      <td>Gilleleje</td>\n",
       "      <td>Australiens</td>\n",
       "      <td>5549</td>\n",
       "      <td>5</td>\n",
       "    </tr>\n",
       "    <tr>\n",
       "      <th>...</th>\n",
       "      <td>...</td>\n",
       "      <td>...</td>\n",
       "      <td>...</td>\n",
       "      <td>...</td>\n",
       "      <td>...</td>\n",
       "      <td>...</td>\n",
       "      <td>...</td>\n",
       "    </tr>\n",
       "    <tr>\n",
       "      <th>109</th>\n",
       "      <td>769</td>\n",
       "      <td>22</td>\n",
       "      <td>12</td>\n",
       "      <td>Gilleleje</td>\n",
       "      <td>Australiens</td>\n",
       "      <td>5549</td>\n",
       "      <td>5</td>\n",
       "    </tr>\n",
       "    <tr>\n",
       "      <th>110</th>\n",
       "      <td>766</td>\n",
       "      <td>22</td>\n",
       "      <td>12</td>\n",
       "      <td>Gilleleje</td>\n",
       "      <td>Australiens</td>\n",
       "      <td>5549</td>\n",
       "      <td>5</td>\n",
       "    </tr>\n",
       "    <tr>\n",
       "      <th>111</th>\n",
       "      <td>737</td>\n",
       "      <td>22</td>\n",
       "      <td>12</td>\n",
       "      <td>Gilleleje</td>\n",
       "      <td>Australiens</td>\n",
       "      <td>5549</td>\n",
       "      <td>5</td>\n",
       "    </tr>\n",
       "    <tr>\n",
       "      <th>112</th>\n",
       "      <td>743</td>\n",
       "      <td>22</td>\n",
       "      <td>12</td>\n",
       "      <td>Gilleleje</td>\n",
       "      <td>Australiens</td>\n",
       "      <td>5549</td>\n",
       "      <td>5</td>\n",
       "    </tr>\n",
       "    <tr>\n",
       "      <th>113</th>\n",
       "      <td>723</td>\n",
       "      <td>22</td>\n",
       "      <td>12</td>\n",
       "      <td>Gilleleje</td>\n",
       "      <td>Australiens</td>\n",
       "      <td>5549</td>\n",
       "      <td>5</td>\n",
       "    </tr>\n",
       "  </tbody>\n",
       "</table>\n",
       "<p>114 rows × 7 columns</p>\n",
       "</div>"
      ],
      "text/plain": [
       "     count  hour  area_id       city  street_name postnr  nr\n",
       "0     1004    12       12  Gilleleje  Australiens   5549   5\n",
       "1     1018    12       12  Gilleleje  Australiens   5549   5\n",
       "2     1019    12       12  Gilleleje  Australiens   5549   5\n",
       "3     1028    12       12  Gilleleje  Australiens   5549   5\n",
       "4     1032    12       12  Gilleleje  Australiens   5549   5\n",
       "..     ...   ...      ...        ...          ...    ...  ..\n",
       "109    769    22       12  Gilleleje  Australiens   5549   5\n",
       "110    766    22       12  Gilleleje  Australiens   5549   5\n",
       "111    737    22       12  Gilleleje  Australiens   5549   5\n",
       "112    743    22       12  Gilleleje  Australiens   5549   5\n",
       "113    723    22       12  Gilleleje  Australiens   5549   5\n",
       "\n",
       "[114 rows x 7 columns]"
      ]
     },
     "execution_count": 153,
     "metadata": {},
     "output_type": "execute_result"
    }
   ],
   "source": [
    "import pandas as pd\n",
    "pd.DataFrame(results)"
   ]
  },
  {
   "cell_type": "code",
   "execution_count": 154,
   "metadata": {},
   "outputs": [
    {
     "name": "stdout",
     "output_type": "stream",
     "text": [
      "2022-11-28 20:48:38,199 INFO sqlalchemy.engine.Engine BEGIN (implicit)\n",
      "2022-11-28 20:48:38,200 INFO sqlalchemy.engine.Engine SELECT fkt_parking.count, fkt_parking.hour, dim_area.area_id, dim_area.city, dim_area.street_name, dim_area.postnr, dim_area.nr \n",
      "FROM fkt_parking JOIN dim_area ON dim_area.area_id = fkt_parking.area_id \n",
      "WHERE dim_area.city = ?\n",
      "2022-11-28 20:48:38,201 INFO sqlalchemy.engine.Engine [cached since 0.504s ago] ('Gilleleje',)\n",
      "2022-11-28 20:48:38,205 INFO sqlalchemy.engine.Engine ROLLBACK\n"
     ]
    },
    {
     "data": {
      "text/html": [
       "<div>\n",
       "<style scoped>\n",
       "    .dataframe tbody tr th:only-of-type {\n",
       "        vertical-align: middle;\n",
       "    }\n",
       "\n",
       "    .dataframe tbody tr th {\n",
       "        vertical-align: top;\n",
       "    }\n",
       "\n",
       "    .dataframe thead th {\n",
       "        text-align: right;\n",
       "    }\n",
       "</style>\n",
       "<table border=\"1\" class=\"dataframe\">\n",
       "  <thead>\n",
       "    <tr style=\"text-align: right;\">\n",
       "      <th></th>\n",
       "      <th>count</th>\n",
       "      <th>hour</th>\n",
       "      <th>area_id</th>\n",
       "      <th>city</th>\n",
       "      <th>street_name</th>\n",
       "      <th>postnr</th>\n",
       "      <th>nr</th>\n",
       "    </tr>\n",
       "  </thead>\n",
       "  <tbody>\n",
       "    <tr>\n",
       "      <th>0</th>\n",
       "      <td>1004</td>\n",
       "      <td>12</td>\n",
       "      <td>12</td>\n",
       "      <td>Gilleleje</td>\n",
       "      <td>Australiens</td>\n",
       "      <td>5549</td>\n",
       "      <td>5</td>\n",
       "    </tr>\n",
       "    <tr>\n",
       "      <th>1</th>\n",
       "      <td>1018</td>\n",
       "      <td>12</td>\n",
       "      <td>12</td>\n",
       "      <td>Gilleleje</td>\n",
       "      <td>Australiens</td>\n",
       "      <td>5549</td>\n",
       "      <td>5</td>\n",
       "    </tr>\n",
       "    <tr>\n",
       "      <th>2</th>\n",
       "      <td>1019</td>\n",
       "      <td>12</td>\n",
       "      <td>12</td>\n",
       "      <td>Gilleleje</td>\n",
       "      <td>Australiens</td>\n",
       "      <td>5549</td>\n",
       "      <td>5</td>\n",
       "    </tr>\n",
       "    <tr>\n",
       "      <th>3</th>\n",
       "      <td>1028</td>\n",
       "      <td>12</td>\n",
       "      <td>12</td>\n",
       "      <td>Gilleleje</td>\n",
       "      <td>Australiens</td>\n",
       "      <td>5549</td>\n",
       "      <td>5</td>\n",
       "    </tr>\n",
       "    <tr>\n",
       "      <th>4</th>\n",
       "      <td>1032</td>\n",
       "      <td>12</td>\n",
       "      <td>12</td>\n",
       "      <td>Gilleleje</td>\n",
       "      <td>Australiens</td>\n",
       "      <td>5549</td>\n",
       "      <td>5</td>\n",
       "    </tr>\n",
       "    <tr>\n",
       "      <th>...</th>\n",
       "      <td>...</td>\n",
       "      <td>...</td>\n",
       "      <td>...</td>\n",
       "      <td>...</td>\n",
       "      <td>...</td>\n",
       "      <td>...</td>\n",
       "      <td>...</td>\n",
       "    </tr>\n",
       "    <tr>\n",
       "      <th>109</th>\n",
       "      <td>769</td>\n",
       "      <td>22</td>\n",
       "      <td>12</td>\n",
       "      <td>Gilleleje</td>\n",
       "      <td>Australiens</td>\n",
       "      <td>5549</td>\n",
       "      <td>5</td>\n",
       "    </tr>\n",
       "    <tr>\n",
       "      <th>110</th>\n",
       "      <td>766</td>\n",
       "      <td>22</td>\n",
       "      <td>12</td>\n",
       "      <td>Gilleleje</td>\n",
       "      <td>Australiens</td>\n",
       "      <td>5549</td>\n",
       "      <td>5</td>\n",
       "    </tr>\n",
       "    <tr>\n",
       "      <th>111</th>\n",
       "      <td>737</td>\n",
       "      <td>22</td>\n",
       "      <td>12</td>\n",
       "      <td>Gilleleje</td>\n",
       "      <td>Australiens</td>\n",
       "      <td>5549</td>\n",
       "      <td>5</td>\n",
       "    </tr>\n",
       "    <tr>\n",
       "      <th>112</th>\n",
       "      <td>743</td>\n",
       "      <td>22</td>\n",
       "      <td>12</td>\n",
       "      <td>Gilleleje</td>\n",
       "      <td>Australiens</td>\n",
       "      <td>5549</td>\n",
       "      <td>5</td>\n",
       "    </tr>\n",
       "    <tr>\n",
       "      <th>113</th>\n",
       "      <td>723</td>\n",
       "      <td>22</td>\n",
       "      <td>12</td>\n",
       "      <td>Gilleleje</td>\n",
       "      <td>Australiens</td>\n",
       "      <td>5549</td>\n",
       "      <td>5</td>\n",
       "    </tr>\n",
       "  </tbody>\n",
       "</table>\n",
       "<p>114 rows × 7 columns</p>\n",
       "</div>"
      ],
      "text/plain": [
       "     count  hour  area_id       city  street_name postnr  nr\n",
       "0     1004    12       12  Gilleleje  Australiens   5549   5\n",
       "1     1018    12       12  Gilleleje  Australiens   5549   5\n",
       "2     1019    12       12  Gilleleje  Australiens   5549   5\n",
       "3     1028    12       12  Gilleleje  Australiens   5549   5\n",
       "4     1032    12       12  Gilleleje  Australiens   5549   5\n",
       "..     ...   ...      ...        ...          ...    ...  ..\n",
       "109    769    22       12  Gilleleje  Australiens   5549   5\n",
       "110    766    22       12  Gilleleje  Australiens   5549   5\n",
       "111    737    22       12  Gilleleje  Australiens   5549   5\n",
       "112    743    22       12  Gilleleje  Australiens   5549   5\n",
       "113    723    22       12  Gilleleje  Australiens   5549   5\n",
       "\n",
       "[114 rows x 7 columns]"
      ]
     },
     "execution_count": 154,
     "metadata": {},
     "output_type": "execute_result"
    }
   ],
   "source": [
    "#alternativamente \n",
    "with engine.connect() as conn:\n",
    "    df = pd.read_sql(sql, conn)\n",
    "df"
   ]
  },
  {
   "cell_type": "markdown",
   "metadata": {},
   "source": [
    "Ahora calculemos la suma de cuentas por hora por ciudad\n",
    "\n",
    "`func` es para funciones de sql, en este caso la suma"
   ]
  },
  {
   "cell_type": "code",
   "execution_count": 155,
   "metadata": {},
   "outputs": [
    {
     "name": "stdout",
     "output_type": "stream",
     "text": [
      "SELECT sum(fkt_parking.count) AS total_count, dim_area.city, fkt_parking.hour \n",
      "FROM fkt_parking JOIN dim_area ON dim_area.area_id = fkt_parking.area_id GROUP BY dim_area.city, fkt_parking.hour\n"
     ]
    }
   ],
   "source": [
    "sql = (\n",
    "    sa.select([sa.func.sum(fkt_parking.c.count).label(\"total_count\"), \n",
    "               dim_area.c.city,\n",
    "               fkt_parking.c.hour])\n",
    "    .join(dim_area)\n",
    "    .group_by(dim_area.c.city, fkt_parking.c.hour)\n",
    "    )\n",
    "\n",
    "\n",
    "print(sql)"
   ]
  },
  {
   "cell_type": "code",
   "execution_count": 156,
   "metadata": {},
   "outputs": [
    {
     "name": "stdout",
     "output_type": "stream",
     "text": [
      "2022-11-28 20:48:38,278 INFO sqlalchemy.engine.Engine BEGIN (implicit)\n",
      "2022-11-28 20:48:38,278 INFO sqlalchemy.engine.Engine SELECT sum(fkt_parking.count) AS total_count, dim_area.city, fkt_parking.hour \n",
      "FROM fkt_parking JOIN dim_area ON dim_area.area_id = fkt_parking.area_id GROUP BY dim_area.city, fkt_parking.hour\n",
      "2022-11-28 20:48:38,279 INFO sqlalchemy.engine.Engine [generated in 0.00049s] ()\n",
      "2022-11-28 20:48:38,283 INFO sqlalchemy.engine.Engine ROLLBACK\n"
     ]
    },
    {
     "data": {
      "text/html": [
       "<div>\n",
       "<style scoped>\n",
       "    .dataframe tbody tr th:only-of-type {\n",
       "        vertical-align: middle;\n",
       "    }\n",
       "\n",
       "    .dataframe tbody tr th {\n",
       "        vertical-align: top;\n",
       "    }\n",
       "\n",
       "    .dataframe thead th {\n",
       "        text-align: right;\n",
       "    }\n",
       "</style>\n",
       "<table border=\"1\" class=\"dataframe\">\n",
       "  <thead>\n",
       "    <tr style=\"text-align: right;\">\n",
       "      <th></th>\n",
       "      <th>total_count</th>\n",
       "      <th>city</th>\n",
       "      <th>hour</th>\n",
       "    </tr>\n",
       "  </thead>\n",
       "  <tbody>\n",
       "    <tr>\n",
       "      <th>0</th>\n",
       "      <td>14194</td>\n",
       "      <td>Allinge</td>\n",
       "      <td>12</td>\n",
       "    </tr>\n",
       "    <tr>\n",
       "      <th>1</th>\n",
       "      <td>13606</td>\n",
       "      <td>Allinge</td>\n",
       "      <td>17</td>\n",
       "    </tr>\n",
       "    <tr>\n",
       "      <th>2</th>\n",
       "      <td>13484</td>\n",
       "      <td>Allinge</td>\n",
       "      <td>22</td>\n",
       "    </tr>\n",
       "    <tr>\n",
       "      <th>3</th>\n",
       "      <td>33608</td>\n",
       "      <td>Ansager</td>\n",
       "      <td>12</td>\n",
       "    </tr>\n",
       "    <tr>\n",
       "      <th>4</th>\n",
       "      <td>35831</td>\n",
       "      <td>Ansager</td>\n",
       "      <td>17</td>\n",
       "    </tr>\n",
       "    <tr>\n",
       "      <th>...</th>\n",
       "      <td>...</td>\n",
       "      <td>...</td>\n",
       "      <td>...</td>\n",
       "    </tr>\n",
       "    <tr>\n",
       "      <th>271</th>\n",
       "      <td>27514</td>\n",
       "      <td>Vildbjerg</td>\n",
       "      <td>17</td>\n",
       "    </tr>\n",
       "    <tr>\n",
       "      <th>272</th>\n",
       "      <td>29047</td>\n",
       "      <td>Vildbjerg</td>\n",
       "      <td>22</td>\n",
       "    </tr>\n",
       "    <tr>\n",
       "      <th>273</th>\n",
       "      <td>29857</td>\n",
       "      <td>Værløse</td>\n",
       "      <td>12</td>\n",
       "    </tr>\n",
       "    <tr>\n",
       "      <th>274</th>\n",
       "      <td>29883</td>\n",
       "      <td>Værløse</td>\n",
       "      <td>17</td>\n",
       "    </tr>\n",
       "    <tr>\n",
       "      <th>275</th>\n",
       "      <td>31744</td>\n",
       "      <td>Værløse</td>\n",
       "      <td>22</td>\n",
       "    </tr>\n",
       "  </tbody>\n",
       "</table>\n",
       "<p>276 rows × 3 columns</p>\n",
       "</div>"
      ],
      "text/plain": [
       "     total_count       city  hour\n",
       "0          14194    Allinge    12\n",
       "1          13606    Allinge    17\n",
       "2          13484    Allinge    22\n",
       "3          33608    Ansager    12\n",
       "4          35831    Ansager    17\n",
       "..           ...        ...   ...\n",
       "271        27514  Vildbjerg    17\n",
       "272        29047  Vildbjerg    22\n",
       "273        29857    Værløse    12\n",
       "274        29883    Værløse    17\n",
       "275        31744    Værløse    22\n",
       "\n",
       "[276 rows x 3 columns]"
      ]
     },
     "execution_count": 156,
     "metadata": {},
     "output_type": "execute_result"
    }
   ],
   "source": [
    "with engine.connect() as conn:\n",
    "    result = conn.execute(sql)\n",
    "    df = pd.DataFrame(result)\n",
    "df"
   ]
  },
  {
   "cell_type": "markdown",
   "metadata": {},
   "source": [
    "#### 3.5 Refactorizando\n",
    "\n",
    "Está quedando todo muy largo, y con repeticiones. Como es python podemos crear funciones y variables para manipular el SQL"
   ]
  },
  {
   "cell_type": "code",
   "execution_count": 157,
   "metadata": {},
   "outputs": [
    {
     "name": "stdout",
     "output_type": "stream",
     "text": [
      "fkt_parking JOIN dim_area ON dim_area.area_id = fkt_parking.area_id\n"
     ]
    }
   ],
   "source": [
    "table = fkt_parking.join(dim_area)\n",
    "print (table)"
   ]
  },
  {
   "cell_type": "code",
   "execution_count": 158,
   "metadata": {},
   "outputs": [
    {
     "name": "stdout",
     "output_type": "stream",
     "text": [
      "sum(fkt_parking.count)\n"
     ]
    }
   ],
   "source": [
    "total_count = sa.func.sum(fkt_parking.c.count).label(\"total_count\")\n",
    "print (total_count)"
   ]
  },
  {
   "cell_type": "code",
   "execution_count": 159,
   "metadata": {},
   "outputs": [
    {
     "name": "stdout",
     "output_type": "stream",
     "text": [
      "[Column('city', VARCHAR(length=50), table=<dim_area>), Column('hour', Integer(), table=<fkt_parking>)]\n"
     ]
    }
   ],
   "source": [
    "dimension_cols = [dim_area.c.city, fkt_parking.c.hour]\n",
    "print (dimension_cols)"
   ]
  },
  {
   "cell_type": "code",
   "execution_count": 160,
   "metadata": {},
   "outputs": [],
   "source": [
    "sql = sa.select([total_count, *dimension_cols]).select_from(table).group_by(*dimension_cols)\n"
   ]
  },
  {
   "cell_type": "markdown",
   "metadata": {},
   "source": [
    "Esto es el mismo código que antes, pero se ve más legible\n",
    "\n",
    "    sql = (sa.select([sa.func.sum(fkt_parking.c.count).label(\"total_count\"), \n",
    "                  dim_area.c.city,\n",
    "                  fkt_parking.c.hour])\n",
    "         .join(dim_area)\n",
    "         .group_by(dim_area.c.city, fkt_parking.c.hour))"
   ]
  },
  {
   "cell_type": "markdown",
   "metadata": {},
   "source": [
    "#### 3.6 cambios on-the-fly"
   ]
  },
  {
   "cell_type": "code",
   "execution_count": 161,
   "metadata": {},
   "outputs": [
    {
     "name": "stdout",
     "output_type": "stream",
     "text": [
      "SELECT sum(fkt_parking.count) AS total_count, dim_area.city, fkt_parking.hour \n",
      "FROM fkt_parking JOIN dim_area ON dim_area.area_id = fkt_parking.area_id GROUP BY dim_area.city, fkt_parking.hour, fkt_parking.count_type\n"
     ]
    }
   ],
   "source": [
    "#Agregar una columna adicional al groupby\n",
    "print(sql.group_by(fkt_parking.c.count_type))"
   ]
  },
  {
   "cell_type": "code",
   "execution_count": 162,
   "metadata": {},
   "outputs": [
    {
     "name": "stdout",
     "output_type": "stream",
     "text": [
      "SELECT sum(fkt_parking.count) AS total_count, dim_area.city, fkt_parking.hour, fkt_parking.count_type \n",
      "FROM fkt_parking JOIN dim_area ON dim_area.area_id = fkt_parking.area_id GROUP BY dim_area.city, fkt_parking.hour\n"
     ]
    }
   ],
   "source": [
    "# Columna adicional al select\n",
    "print(sql.add_columns(fkt_parking.c.count_type))"
   ]
  },
  {
   "cell_type": "code",
   "execution_count": 163,
   "metadata": {},
   "outputs": [
    {
     "name": "stdout",
     "output_type": "stream",
     "text": [
      "SELECT sum(fkt_parking.count) AS total_count, dim_area.city, fkt_parking.hour \n",
      "FROM fkt_parking JOIN dim_area ON dim_area.area_id = fkt_parking.area_id GROUP BY dim_area.city, fkt_parking.hour\n"
     ]
    }
   ],
   "source": [
    "# Esto no alteró el SQL original\n",
    "print(sql)"
   ]
  },
  {
   "cell_type": "code",
   "execution_count": 164,
   "metadata": {},
   "outputs": [
    {
     "name": "stdout",
     "output_type": "stream",
     "text": [
      "2022-11-28 20:48:38,516 INFO sqlalchemy.engine.Engine BEGIN (implicit)\n",
      "2022-11-28 20:48:38,516 INFO sqlalchemy.engine.Engine SELECT sum(fkt_parking.count) AS total_count, dim_area.city, fkt_parking.hour \n",
      "FROM fkt_parking JOIN dim_area ON dim_area.area_id = fkt_parking.area_id GROUP BY dim_area.city, fkt_parking.hour\n",
      " LIMIT ? OFFSET ?\n",
      "2022-11-28 20:48:38,516 INFO sqlalchemy.engine.Engine [generated in 0.00076s] (10, 0)\n",
      "2022-11-28 20:48:38,519 INFO sqlalchemy.engine.Engine ROLLBACK\n"
     ]
    },
    {
     "data": {
      "text/html": [
       "<div>\n",
       "<style scoped>\n",
       "    .dataframe tbody tr th:only-of-type {\n",
       "        vertical-align: middle;\n",
       "    }\n",
       "\n",
       "    .dataframe tbody tr th {\n",
       "        vertical-align: top;\n",
       "    }\n",
       "\n",
       "    .dataframe thead th {\n",
       "        text-align: right;\n",
       "    }\n",
       "</style>\n",
       "<table border=\"1\" class=\"dataframe\">\n",
       "  <thead>\n",
       "    <tr style=\"text-align: right;\">\n",
       "      <th></th>\n",
       "      <th>total_count</th>\n",
       "      <th>city</th>\n",
       "      <th>hour</th>\n",
       "    </tr>\n",
       "  </thead>\n",
       "  <tbody>\n",
       "    <tr>\n",
       "      <th>0</th>\n",
       "      <td>14194</td>\n",
       "      <td>Allinge</td>\n",
       "      <td>12</td>\n",
       "    </tr>\n",
       "    <tr>\n",
       "      <th>1</th>\n",
       "      <td>13606</td>\n",
       "      <td>Allinge</td>\n",
       "      <td>17</td>\n",
       "    </tr>\n",
       "    <tr>\n",
       "      <th>2</th>\n",
       "      <td>13484</td>\n",
       "      <td>Allinge</td>\n",
       "      <td>22</td>\n",
       "    </tr>\n",
       "    <tr>\n",
       "      <th>3</th>\n",
       "      <td>33608</td>\n",
       "      <td>Ansager</td>\n",
       "      <td>12</td>\n",
       "    </tr>\n",
       "    <tr>\n",
       "      <th>4</th>\n",
       "      <td>35831</td>\n",
       "      <td>Ansager</td>\n",
       "      <td>17</td>\n",
       "    </tr>\n",
       "    <tr>\n",
       "      <th>5</th>\n",
       "      <td>37953</td>\n",
       "      <td>Ansager</td>\n",
       "      <td>22</td>\n",
       "    </tr>\n",
       "    <tr>\n",
       "      <th>6</th>\n",
       "      <td>40718</td>\n",
       "      <td>Asaa</td>\n",
       "      <td>12</td>\n",
       "    </tr>\n",
       "    <tr>\n",
       "      <th>7</th>\n",
       "      <td>37855</td>\n",
       "      <td>Asaa</td>\n",
       "      <td>17</td>\n",
       "    </tr>\n",
       "    <tr>\n",
       "      <th>8</th>\n",
       "      <td>39023</td>\n",
       "      <td>Asaa</td>\n",
       "      <td>22</td>\n",
       "    </tr>\n",
       "    <tr>\n",
       "      <th>9</th>\n",
       "      <td>36405</td>\n",
       "      <td>Beder</td>\n",
       "      <td>12</td>\n",
       "    </tr>\n",
       "  </tbody>\n",
       "</table>\n",
       "</div>"
      ],
      "text/plain": [
       "   total_count     city  hour\n",
       "0        14194  Allinge    12\n",
       "1        13606  Allinge    17\n",
       "2        13484  Allinge    22\n",
       "3        33608  Ansager    12\n",
       "4        35831  Ansager    17\n",
       "5        37953  Ansager    22\n",
       "6        40718     Asaa    12\n",
       "7        37855     Asaa    17\n",
       "8        39023     Asaa    22\n",
       "9        36405    Beder    12"
      ]
     },
     "execution_count": 164,
     "metadata": {},
     "output_type": "execute_result"
    }
   ],
   "source": [
    "with engine.connect() as conn:\n",
    "    # Dynamically add a limit statement\n",
    "    result = conn.execute(sql.limit(10))\n",
    "    df = pd.DataFrame(result)\n",
    "df\n"
   ]
  },
  {
   "cell_type": "markdown",
   "metadata": {},
   "source": [
    "Ahora calculemos la tasa de ocupación. Se podría definir una tabla intermedia *(CTE (Common Table Expression)* o una subquery"
   ]
  },
  {
   "cell_type": "code",
   "execution_count": 165,
   "metadata": {},
   "outputs": [],
   "source": [
    "# Reusamos el select básico\n",
    "base_select = sa.select([fkt_parking.c.count, fkt_parking.c.area_id, fkt_parking.c.year_month, fkt_parking.c.hour]).join(dim_parking_types)"
   ]
  },
  {
   "cell_type": "code",
   "execution_count": 166,
   "metadata": {},
   "outputs": [
    {
     "name": "stdout",
     "output_type": "stream",
     "text": [
      "SELECT fkt_parking.count, fkt_parking.area_id, fkt_parking.year_month, fkt_parking.hour \n",
      "FROM fkt_parking JOIN dim_parking_types ON dim_parking_types.type_id = fkt_parking.count_type\n"
     ]
    }
   ],
   "source": [
    "print (base_select)"
   ]
  },
  {
   "cell_type": "code",
   "execution_count": 167,
   "metadata": {},
   "outputs": [
    {
     "name": "stdout",
     "output_type": "stream",
     "text": [
      "SELECT fkt_parking.count, fkt_parking.area_id, fkt_parking.year_month, fkt_parking.hour \n",
      "FROM fkt_parking JOIN dim_parking_types ON dim_parking_types.type_id = fkt_parking.count_type \n",
      "WHERE dim_parking_types.name = :name_1\n"
     ]
    }
   ],
   "source": [
    "# Creamos un CTE que se llama available_spaces filtrado en  parking_types\n",
    "available_spaces = base_select.where(dim_parking_types.c.name == \"legal\").cte(\"available_spaces\")\n",
    "print (available_spaces)"
   ]
  },
  {
   "cell_type": "code",
   "execution_count": 168,
   "metadata": {},
   "outputs": [
    {
     "name": "stdout",
     "output_type": "stream",
     "text": [
      "SELECT fkt_parking.count, fkt_parking.area_id, fkt_parking.year_month, fkt_parking.hour \n",
      "FROM fkt_parking JOIN dim_parking_types ON dim_parking_types.type_id = fkt_parking.count_type \n",
      "WHERE dim_parking_types.name = :name_1\n"
     ]
    }
   ],
   "source": [
    "# Otro CTE llamado  occupied spaces filtrado en parking_types\n",
    "counted_spaces = base_select.where(dim_parking_types.c.name == \"counted\").cte(\"occupied_spaces\")\n",
    "print (counted_spaces)"
   ]
  },
  {
   "cell_type": "code",
   "execution_count": 169,
   "metadata": {},
   "outputs": [],
   "source": [
    "# Definimos la métrica\n",
    "occupancy_rate = (100 * sa.cast(counted_spaces.c.count, sa.Float) / available_spaces.c.count).label(\"occupancy_rate\")"
   ]
  },
  {
   "cell_type": "code",
   "execution_count": 170,
   "metadata": {},
   "outputs": [
    {
     "name": "stdout",
     "output_type": "stream",
     "text": [
      "(:param_1 * CAST(occupied_spaces.count AS FLOAT)) / available_spaces.count\n"
     ]
    }
   ],
   "source": [
    "print (occupancy_rate)"
   ]
  },
  {
   "cell_type": "code",
   "execution_count": 171,
   "metadata": {},
   "outputs": [
    {
     "name": "stdout",
     "output_type": "stream",
     "text": [
      "occupied_spaces.area_id = available_spaces.area_id AND occupied_spaces.year_month = available_spaces.year_month AND occupied_spaces.hour = available_spaces.hour\n"
     ]
    }
   ],
   "source": [
    "# Definimos el join, los CTE no tienen claves foraneas que SA pueda usar para inferir la relación\n",
    "cte_join_condition = sa.and_(counted_spaces.c.area_id == available_spaces.c.area_id,\n",
    "                        counted_spaces.c.year_month == available_spaces.c.year_month,\n",
    "                        counted_spaces.c.hour == available_spaces.c.hour\n",
    "                        )\n",
    "print (cte_join_condition)"
   ]
  },
  {
   "cell_type": "code",
   "execution_count": 172,
   "metadata": {},
   "outputs": [
    {
     "name": "stdout",
     "output_type": "stream",
     "text": [
      "SELECT fkt_parking.count AS count, fkt_parking.area_id AS area_id, fkt_parking.year_month AS year_month, fkt_parking.hour AS hour \n",
      "FROM fkt_parking JOIN dim_parking_types ON dim_parking_types.type_id = fkt_parking.count_type \n",
      "WHERE dim_parking_types.name = :name_1 JOIN SELECT fkt_parking.count AS count, fkt_parking.area_id AS area_id, fkt_parking.year_month AS year_month, fkt_parking.hour AS hour \n",
      "FROM fkt_parking JOIN dim_parking_types ON dim_parking_types.type_id = fkt_parking.count_type \n",
      "WHERE dim_parking_types.name = :name_2 ON occupied_spaces.area_id = available_spaces.area_id AND occupied_spaces.year_month = available_spaces.year_month AND occupied_spaces.hour = available_spaces.hour\n"
     ]
    }
   ],
   "source": [
    "# Creamos el join\n",
    "joined_ctes = available_spaces.join(counted_spaces, onclause=cte_join_condition)\n",
    "print(joined_ctes)"
   ]
  },
  {
   "cell_type": "code",
   "execution_count": 173,
   "metadata": {},
   "outputs": [
    {
     "name": "stdout",
     "output_type": "stream",
     "text": [
      "WITH available_spaces AS \n",
      "(SELECT fkt_parking.count AS count, fkt_parking.area_id AS area_id, fkt_parking.year_month AS year_month, fkt_parking.hour AS hour \n",
      "FROM fkt_parking JOIN dim_parking_types ON dim_parking_types.type_id = fkt_parking.count_type \n",
      "WHERE dim_parking_types.name = :name_1), \n",
      "occupied_spaces AS \n",
      "(SELECT fkt_parking.count AS count, fkt_parking.area_id AS area_id, fkt_parking.year_month AS year_month, fkt_parking.hour AS hour \n",
      "FROM fkt_parking JOIN dim_parking_types ON dim_parking_types.type_id = fkt_parking.count_type \n",
      "WHERE dim_parking_types.name = :name_2)\n",
      " SELECT (:param_1 * CAST(occupied_spaces.count AS FLOAT)) / available_spaces.count AS occupancy_rate, dim_area.city, available_spaces.year_month, available_spaces.hour \n",
      "FROM available_spaces JOIN occupied_spaces ON occupied_spaces.area_id = available_spaces.area_id AND occupied_spaces.year_month = available_spaces.year_month AND occupied_spaces.hour = available_spaces.hour JOIN dim_area ON dim_area.area_id = occupied_spaces.area_id\n"
     ]
    }
   ],
   "source": [
    "sql = (sa.select([occupancy_rate, dim_area.c.city, available_spaces.c.year_month, available_spaces.c.hour])\n",
    "       .select_from(joined_ctes)\n",
    "       .join(dim_area) # SQLAlchemy puede inferir las claves foráneas a través del CTE\n",
    "      )\n",
    "print(sql)"
   ]
  },
  {
   "cell_type": "code",
   "execution_count": 174,
   "metadata": {},
   "outputs": [
    {
     "name": "stdout",
     "output_type": "stream",
     "text": [
      "2022-11-28 20:48:38,911 INFO sqlalchemy.engine.Engine BEGIN (implicit)\n",
      "2022-11-28 20:48:38,912 INFO sqlalchemy.engine.Engine WITH available_spaces AS \n",
      "(SELECT fkt_parking.count AS count, fkt_parking.area_id AS area_id, fkt_parking.year_month AS year_month, fkt_parking.hour AS hour \n",
      "FROM fkt_parking JOIN dim_parking_types ON dim_parking_types.type_id = fkt_parking.count_type \n",
      "WHERE dim_parking_types.name = ?), \n",
      "occupied_spaces AS \n",
      "(SELECT fkt_parking.count AS count, fkt_parking.area_id AS area_id, fkt_parking.year_month AS year_month, fkt_parking.hour AS hour \n",
      "FROM fkt_parking JOIN dim_parking_types ON dim_parking_types.type_id = fkt_parking.count_type \n",
      "WHERE dim_parking_types.name = ?)\n",
      " SELECT (? * CAST(occupied_spaces.count AS FLOAT)) / available_spaces.count AS occupancy_rate, dim_area.city, available_spaces.year_month, available_spaces.hour \n",
      "FROM available_spaces JOIN occupied_spaces ON occupied_spaces.area_id = available_spaces.area_id AND occupied_spaces.year_month = available_spaces.year_month AND occupied_spaces.hour = available_spaces.hour JOIN dim_area ON dim_area.area_id = occupied_spaces.area_id ORDER BY occupancy_rate DESC\n",
      "2022-11-28 20:48:38,912 INFO sqlalchemy.engine.Engine [generated in 0.00061s] ('legal', 'counted', 100)\n",
      "2022-11-28 20:48:38,927 INFO sqlalchemy.engine.Engine ROLLBACK\n"
     ]
    },
    {
     "data": {
      "text/html": [
       "<div>\n",
       "<style scoped>\n",
       "    .dataframe tbody tr th:only-of-type {\n",
       "        vertical-align: middle;\n",
       "    }\n",
       "\n",
       "    .dataframe tbody tr th {\n",
       "        vertical-align: top;\n",
       "    }\n",
       "\n",
       "    .dataframe thead th {\n",
       "        text-align: right;\n",
       "    }\n",
       "</style>\n",
       "<table border=\"1\" class=\"dataframe\">\n",
       "  <thead>\n",
       "    <tr style=\"text-align: right;\">\n",
       "      <th></th>\n",
       "      <th>occupancy_rate</th>\n",
       "      <th>city</th>\n",
       "      <th>year_month</th>\n",
       "      <th>hour</th>\n",
       "    </tr>\n",
       "  </thead>\n",
       "  <tbody>\n",
       "    <tr>\n",
       "      <th>0</th>\n",
       "      <td>355.882353</td>\n",
       "      <td>Skanderborg</td>\n",
       "      <td>2012-03</td>\n",
       "      <td>17</td>\n",
       "    </tr>\n",
       "    <tr>\n",
       "      <th>1</th>\n",
       "      <td>317.647059</td>\n",
       "      <td>Skanderborg</td>\n",
       "      <td>2012-09</td>\n",
       "      <td>17</td>\n",
       "    </tr>\n",
       "    <tr>\n",
       "      <th>2</th>\n",
       "      <td>294.117647</td>\n",
       "      <td>Skanderborg</td>\n",
       "      <td>2012-03</td>\n",
       "      <td>22</td>\n",
       "    </tr>\n",
       "    <tr>\n",
       "      <th>3</th>\n",
       "      <td>286.153846</td>\n",
       "      <td>Skanderborg</td>\n",
       "      <td>2015-09</td>\n",
       "      <td>22</td>\n",
       "    </tr>\n",
       "    <tr>\n",
       "      <th>4</th>\n",
       "      <td>283.823529</td>\n",
       "      <td>Skanderborg</td>\n",
       "      <td>2012-09</td>\n",
       "      <td>22</td>\n",
       "    </tr>\n",
       "    <tr>\n",
       "      <th>...</th>\n",
       "      <td>...</td>\n",
       "      <td>...</td>\n",
       "      <td>...</td>\n",
       "      <td>...</td>\n",
       "    </tr>\n",
       "    <tr>\n",
       "      <th>4453</th>\n",
       "      <td>2.064220</td>\n",
       "      <td>Sæby</td>\n",
       "      <td>2015-09</td>\n",
       "      <td>22</td>\n",
       "    </tr>\n",
       "    <tr>\n",
       "      <th>4454</th>\n",
       "      <td>1.927711</td>\n",
       "      <td>Sæby</td>\n",
       "      <td>2016-09</td>\n",
       "      <td>22</td>\n",
       "    </tr>\n",
       "    <tr>\n",
       "      <th>4455</th>\n",
       "      <td>1.465201</td>\n",
       "      <td>Sæby</td>\n",
       "      <td>2013-03</td>\n",
       "      <td>22</td>\n",
       "    </tr>\n",
       "    <tr>\n",
       "      <th>4456</th>\n",
       "      <td>1.282051</td>\n",
       "      <td>Sæby</td>\n",
       "      <td>2013-09</td>\n",
       "      <td>22</td>\n",
       "    </tr>\n",
       "    <tr>\n",
       "      <th>4457</th>\n",
       "      <td>1.067616</td>\n",
       "      <td>Sæby</td>\n",
       "      <td>2014-03</td>\n",
       "      <td>22</td>\n",
       "    </tr>\n",
       "  </tbody>\n",
       "</table>\n",
       "<p>4458 rows × 4 columns</p>\n",
       "</div>"
      ],
      "text/plain": [
       "      occupancy_rate         city year_month  hour\n",
       "0         355.882353  Skanderborg    2012-03    17\n",
       "1         317.647059  Skanderborg    2012-09    17\n",
       "2         294.117647  Skanderborg    2012-03    22\n",
       "3         286.153846  Skanderborg    2015-09    22\n",
       "4         283.823529  Skanderborg    2012-09    22\n",
       "...              ...          ...        ...   ...\n",
       "4453        2.064220         Sæby    2015-09    22\n",
       "4454        1.927711         Sæby    2016-09    22\n",
       "4455        1.465201         Sæby    2013-03    22\n",
       "4456        1.282051         Sæby    2013-09    22\n",
       "4457        1.067616         Sæby    2014-03    22\n",
       "\n",
       "[4458 rows x 4 columns]"
      ]
     },
     "execution_count": 174,
     "metadata": {},
     "output_type": "execute_result"
    }
   ],
   "source": [
    "with engine.connect() as conn:\n",
    "    df = pd.read_sql(sql.order_by(occupancy_rate.desc()), conn)\n",
    "df"
   ]
  },
  {
   "cell_type": "markdown",
   "metadata": {},
   "source": [
    "Ejercicio: Filtrar las que tienen ocupación sobre 100"
   ]
  },
  {
   "cell_type": "code",
   "execution_count": 175,
   "metadata": {},
   "outputs": [
    {
     "name": "stdout",
     "output_type": "stream",
     "text": [
      "2022-11-28 20:48:38,963 INFO sqlalchemy.engine.Engine BEGIN (implicit)\n",
      "2022-11-28 20:48:38,964 INFO sqlalchemy.engine.Engine WITH available_spaces AS \n",
      "(SELECT fkt_parking.count AS count, fkt_parking.area_id AS area_id, fkt_parking.year_month AS year_month, fkt_parking.hour AS hour \n",
      "FROM fkt_parking JOIN dim_parking_types ON dim_parking_types.type_id = fkt_parking.count_type \n",
      "WHERE dim_parking_types.name = ?), \n",
      "occupied_spaces AS \n",
      "(SELECT fkt_parking.count AS count, fkt_parking.area_id AS area_id, fkt_parking.year_month AS year_month, fkt_parking.hour AS hour \n",
      "FROM fkt_parking JOIN dim_parking_types ON dim_parking_types.type_id = fkt_parking.count_type \n",
      "WHERE dim_parking_types.name = ?)\n",
      " SELECT (? * CAST(occupied_spaces.count AS FLOAT)) / available_spaces.count AS occupancy_rate, dim_area.city, available_spaces.year_month, available_spaces.hour \n",
      "FROM available_spaces JOIN occupied_spaces ON occupied_spaces.area_id = available_spaces.area_id AND occupied_spaces.year_month = available_spaces.year_month AND occupied_spaces.hour = available_spaces.hour JOIN dim_area ON dim_area.area_id = occupied_spaces.area_id \n",
      "WHERE (? * CAST(occupied_spaces.count AS FLOAT)) / available_spaces.count > ? ORDER BY occupancy_rate DESC\n",
      "2022-11-28 20:48:38,964 INFO sqlalchemy.engine.Engine [generated in 0.00124s] ('legal', 'counted', 100, 100, 100)\n",
      "2022-11-28 20:48:38,974 INFO sqlalchemy.engine.Engine ROLLBACK\n"
     ]
    },
    {
     "data": {
      "text/html": [
       "<div>\n",
       "<style scoped>\n",
       "    .dataframe tbody tr th:only-of-type {\n",
       "        vertical-align: middle;\n",
       "    }\n",
       "\n",
       "    .dataframe tbody tr th {\n",
       "        vertical-align: top;\n",
       "    }\n",
       "\n",
       "    .dataframe thead th {\n",
       "        text-align: right;\n",
       "    }\n",
       "</style>\n",
       "<table border=\"1\" class=\"dataframe\">\n",
       "  <thead>\n",
       "    <tr style=\"text-align: right;\">\n",
       "      <th></th>\n",
       "      <th>occupancy_rate</th>\n",
       "      <th>city</th>\n",
       "      <th>year_month</th>\n",
       "      <th>hour</th>\n",
       "    </tr>\n",
       "  </thead>\n",
       "  <tbody>\n",
       "    <tr>\n",
       "      <th>0</th>\n",
       "      <td>355.882353</td>\n",
       "      <td>Skanderborg</td>\n",
       "      <td>2012-03</td>\n",
       "      <td>17</td>\n",
       "    </tr>\n",
       "    <tr>\n",
       "      <th>1</th>\n",
       "      <td>317.647059</td>\n",
       "      <td>Skanderborg</td>\n",
       "      <td>2012-09</td>\n",
       "      <td>17</td>\n",
       "    </tr>\n",
       "    <tr>\n",
       "      <th>2</th>\n",
       "      <td>294.117647</td>\n",
       "      <td>Skanderborg</td>\n",
       "      <td>2012-03</td>\n",
       "      <td>22</td>\n",
       "    </tr>\n",
       "    <tr>\n",
       "      <th>3</th>\n",
       "      <td>286.153846</td>\n",
       "      <td>Skanderborg</td>\n",
       "      <td>2015-09</td>\n",
       "      <td>22</td>\n",
       "    </tr>\n",
       "    <tr>\n",
       "      <th>4</th>\n",
       "      <td>283.823529</td>\n",
       "      <td>Skanderborg</td>\n",
       "      <td>2012-09</td>\n",
       "      <td>22</td>\n",
       "    </tr>\n",
       "    <tr>\n",
       "      <th>...</th>\n",
       "      <td>...</td>\n",
       "      <td>...</td>\n",
       "      <td>...</td>\n",
       "      <td>...</td>\n",
       "    </tr>\n",
       "    <tr>\n",
       "      <th>785</th>\n",
       "      <td>100.094518</td>\n",
       "      <td>Holeby</td>\n",
       "      <td>2021-03</td>\n",
       "      <td>22</td>\n",
       "    </tr>\n",
       "    <tr>\n",
       "      <th>786</th>\n",
       "      <td>100.093545</td>\n",
       "      <td>Ryslinge</td>\n",
       "      <td>2012-09</td>\n",
       "      <td>22</td>\n",
       "    </tr>\n",
       "    <tr>\n",
       "      <th>787</th>\n",
       "      <td>100.089366</td>\n",
       "      <td>Nørre Aaby</td>\n",
       "      <td>2016-09</td>\n",
       "      <td>22</td>\n",
       "    </tr>\n",
       "    <tr>\n",
       "      <th>788</th>\n",
       "      <td>100.075643</td>\n",
       "      <td>Holstebro</td>\n",
       "      <td>2018-09</td>\n",
       "      <td>22</td>\n",
       "    </tr>\n",
       "    <tr>\n",
       "      <th>789</th>\n",
       "      <td>100.068166</td>\n",
       "      <td>Holme-Olstrup</td>\n",
       "      <td>2019-03</td>\n",
       "      <td>22</td>\n",
       "    </tr>\n",
       "  </tbody>\n",
       "</table>\n",
       "<p>790 rows × 4 columns</p>\n",
       "</div>"
      ],
      "text/plain": [
       "     occupancy_rate           city year_month  hour\n",
       "0        355.882353    Skanderborg    2012-03    17\n",
       "1        317.647059    Skanderborg    2012-09    17\n",
       "2        294.117647    Skanderborg    2012-03    22\n",
       "3        286.153846    Skanderborg    2015-09    22\n",
       "4        283.823529    Skanderborg    2012-09    22\n",
       "..              ...            ...        ...   ...\n",
       "785      100.094518         Holeby    2021-03    22\n",
       "786      100.093545       Ryslinge    2012-09    22\n",
       "787      100.089366     Nørre Aaby    2016-09    22\n",
       "788      100.075643      Holstebro    2018-09    22\n",
       "789      100.068166  Holme-Olstrup    2019-03    22\n",
       "\n",
       "[790 rows x 4 columns]"
      ]
     },
     "execution_count": 175,
     "metadata": {},
     "output_type": "execute_result"
    }
   ],
   "source": [
    "with engine.connect() as conn:\n",
    "    df = pd.read_sql(sql.where(occupancy_rate > 100).order_by(occupancy_rate.desc()), conn)\n",
    "df"
   ]
  },
  {
   "cell_type": "markdown",
   "metadata": {},
   "source": [
    "Core SQL es parecido a SQL pero con las ventajas de un lenguaje de programación"
   ]
  },
  {
   "cell_type": "markdown",
   "metadata": {},
   "source": [
    "### 4. SQLAlchemy ORM\n",
    "\n",
    "ORM es Object Relational Mapper, y es una capa que mapea la BD a objetos de pythons. Esto puede ser a expensas de cierta flexibilidad y transparencia respect al SQL subyacente.\n",
    "\n",
    "Como regla general\n",
    "*   Core sirve mejor para queries analiticas donde se espera obtener muchas filas\n",
    "*   ORM es mejor para aplicaciones donde solo necesitamos unas cuanas filas cada vez"
   ]
  },
  {
   "cell_type": "markdown",
   "metadata": {},
   "source": [
    "#### 4.1 Definiendo tablas"
   ]
  },
  {
   "cell_type": "code",
   "execution_count": 176,
   "metadata": {},
   "outputs": [],
   "source": [
    "import sqlalchemy as sa\n",
    "from sqlalchemy.orm import declarative_base\n",
    "\n",
    "Base = declarative_base() \n",
    "\n",
    "class MyClass(Base):\n",
    "    __tablename__ = \"demo_table\"\n",
    "    \n",
    "    #Hay que definir al menos una clave primaria\n",
    "    class_id: int = sa.Column(sa.Integer, primary_key=True)\n",
    "    name: str = sa.Column(sa.String)"
   ]
  },
  {
   "cell_type": "markdown",
   "metadata": {},
   "source": [
    "Uno de los cambios en SA 2.0 es la habilidad de registrar clases con un decorador, lo que parece más en línea con clases basadas en `dataclass`y `attrs`\n"
   ]
  },
  {
   "cell_type": "code",
   "execution_count": 177,
   "metadata": {},
   "outputs": [],
   "source": [
    "from sqlalchemy.orm import registry\n",
    "import enum\n",
    "\n",
    "mapper_registry = registry()"
   ]
  },
  {
   "cell_type": "markdown",
   "metadata": {},
   "source": [
    "Dado el `registry` podemos definir clases que definen el modelo de dato. Los type hints son opcionales\n",
    "\n",
    "Estas son clases regulares, entonces podemos agregar un  `__repr__` por ejemplo. "
   ]
  },
  {
   "cell_type": "code",
   "execution_count": 178,
   "metadata": {},
   "outputs": [],
   "source": [
    "@mapper_registry.mapped\n",
    "class Address:\n",
    "    __tablename__ = \"addresses\"\n",
    "    \n",
    "    address_id: int = sa.Column(sa.Integer, primary_key=True)\n",
    "    street_name: str = sa.Column(sa.VARCHAR(50))\n",
    "    street_number: int = sa.Column(sa.Integer)\n",
    "    postnr: str = sa.Column(sa.VARCHAR(4))\n",
    "    \n",
    "    # Como es un simplemente una clase puedo poner un repr\n",
    "    def __repr__(self):\n",
    "        return f\"{self.street_name} street_number={self.street_number} postnr={self.postnr}>\""
   ]
  },
  {
   "cell_type": "markdown",
   "metadata": {},
   "source": [
    "La capa ORM genera una Tabla SA y la fija al atributo `__table__` , que es el mismo que vimos en Core\n",
    "\n"
   ]
  },
  {
   "cell_type": "code",
   "execution_count": 179,
   "metadata": {},
   "outputs": [
    {
     "data": {
      "text/plain": [
       "Table('addresses', MetaData(), Column('address_id', Integer(), table=<addresses>, primary_key=True, nullable=False), Column('street_name', VARCHAR(length=50), table=<addresses>), Column('street_number', Integer(), table=<addresses>), Column('postnr', VARCHAR(length=4), table=<addresses>), schema=None)"
      ]
     },
     "execution_count": 179,
     "metadata": {},
     "output_type": "execute_result"
    }
   ],
   "source": [
    "Address.__table__"
   ]
  },
  {
   "cell_type": "markdown",
   "metadata": {},
   "source": [
    "No definimos un `__init__` porque SA genera uno automáticamente. Podríamos agregarlo si queremos y se puede agregar más lógica.\n",
    "\n",
    "Vamos a agregar un objeto `Purchase` y otro `Customer`, con sus relaciones"
   ]
  },
  {
   "cell_type": "code",
   "execution_count": 180,
   "metadata": {},
   "outputs": [],
   "source": [
    "import decimal\n",
    "from sqlalchemy.orm import relationship\n",
    "\n",
    "@mapper_registry.mapped\n",
    "class Purchase:\n",
    "    __tablename__ = \"purchases\"\n",
    "    __table_args__ = {\"extend_existing\": True}\n",
    "    \n",
    "    purchase_id: int = sa.Column(sa.Integer, primary_key=True)\n",
    "    item_name: str = sa.Column(sa.VARCHAR(200))\n",
    "    price: decimal.Decimal = sa.Column(sa.Numeric(19, 4))\n",
    "    user_id: int = sa.Column(sa.Integer, sa.ForeignKey(\"customers.customer_id\"))\n",
    "    \n",
    "    def __repr__(self):\n",
    "        return f\"{self.item_name}>\""
   ]
  },
  {
   "cell_type": "markdown",
   "metadata": {},
   "source": [
    "Podemos usar tipos nativos de python como enums y decimals, SA los va a convertir a los tipos que entienda la BD\n",
    "\n"
   ]
  },
  {
   "cell_type": "code",
   "execution_count": 181,
   "metadata": {},
   "outputs": [],
   "source": [
    "class StatusEnum(str, enum.Enum):\n",
    "    gold = \"gold\"\n",
    "    silver = \"silver\"\n",
    "    bronze = \"bronze\"\n",
    "    \n",
    "@mapper_registry.mapped\n",
    "class Customer:\n",
    "    __tablename__ = \"customers\"\n",
    "    __table_args__ = {\"extend_existing\": True}\n",
    "    \n",
    "    customer_id: int = sa.Column(sa.Integer, primary_key=True)\n",
    "    name: str = sa.Column(sa.VARCHAR(50), unique=True)\n",
    "    status: str = sa.Column(sa.Enum(StatusEnum))\n",
    "    address_id: int = sa.Column(sa.Integer, sa.ForeignKey(\"addresses.address_id\"))\n",
    "    \n",
    "    # One-to-one relationship\n",
    "    address: Address = relationship(\"Address\", backref=\"customer\")\n",
    "    \n",
    "    # One-to-many\n",
    "    purchases: list[Purchase] = relationship(\"Purchase\", backref=\"customer\")\n",
    "    \n",
    "    def __repr__(self):\n",
    "        return f\"{self.name}>\""
   ]
  },
  {
   "cell_type": "markdown",
   "metadata": {},
   "source": [
    "#### 4.2 Relaciones"
   ]
  },
  {
   "cell_type": "code",
   "execution_count": null,
   "metadata": {},
   "outputs": [],
   "source": [
    "conn_string = \"sqlite:///parking_orm.db\"\n",
    "engine = sa.create_engine(conn_string, future=True, echo=True)\n"
   ]
  },
  {
   "cell_type": "markdown",
   "metadata": {},
   "source": [
    "ORM está construido sobre **Core**, podemos usar el engine y la metadata como antes"
   ]
  },
  {
   "cell_type": "code",
   "execution_count": 182,
   "metadata": {},
   "outputs": [
    {
     "name": "stdout",
     "output_type": "stream",
     "text": [
      "2022-11-28 22:22:24,456 INFO sqlalchemy.engine.Engine BEGIN (implicit)\n",
      "2022-11-28 22:22:24,459 INFO sqlalchemy.engine.Engine PRAGMA main.table_info(\"addresses\")\n",
      "2022-11-28 22:22:24,460 INFO sqlalchemy.engine.Engine [raw sql] ()\n",
      "2022-11-28 22:22:24,462 INFO sqlalchemy.engine.Engine PRAGMA temp.table_info(\"addresses\")\n",
      "2022-11-28 22:22:24,463 INFO sqlalchemy.engine.Engine [raw sql] ()\n",
      "2022-11-28 22:22:24,466 INFO sqlalchemy.engine.Engine PRAGMA main.table_info(\"purchases\")\n",
      "2022-11-28 22:22:24,467 INFO sqlalchemy.engine.Engine [raw sql] ()\n",
      "2022-11-28 22:22:24,469 INFO sqlalchemy.engine.Engine PRAGMA temp.table_info(\"purchases\")\n",
      "2022-11-28 22:22:24,470 INFO sqlalchemy.engine.Engine [raw sql] ()\n",
      "2022-11-28 22:22:24,471 INFO sqlalchemy.engine.Engine PRAGMA main.table_info(\"customers\")\n",
      "2022-11-28 22:22:24,471 INFO sqlalchemy.engine.Engine [raw sql] ()\n",
      "2022-11-28 22:22:24,473 INFO sqlalchemy.engine.Engine PRAGMA temp.table_info(\"customers\")\n",
      "2022-11-28 22:22:24,476 INFO sqlalchemy.engine.Engine [raw sql] ()\n",
      "2022-11-28 22:22:24,479 INFO sqlalchemy.engine.Engine \n",
      "CREATE TABLE addresses (\n",
      "\taddress_id INTEGER NOT NULL, \n",
      "\tstreet_name VARCHAR(50), \n",
      "\tstreet_number INTEGER, \n",
      "\tpostnr VARCHAR(4), \n",
      "\tPRIMARY KEY (address_id)\n",
      ")\n",
      "\n",
      "\n",
      "2022-11-28 22:22:24,481 INFO sqlalchemy.engine.Engine [no key 0.00179s] ()\n",
      "2022-11-28 22:22:24,484 INFO sqlalchemy.engine.Engine \n",
      "CREATE TABLE customers (\n",
      "\tcustomer_id INTEGER NOT NULL, \n",
      "\tname VARCHAR(50), \n",
      "\tstatus VARCHAR(6), \n",
      "\taddress_id INTEGER, \n",
      "\tPRIMARY KEY (customer_id), \n",
      "\tUNIQUE (name), \n",
      "\tFOREIGN KEY(address_id) REFERENCES addresses (address_id)\n",
      ")\n",
      "\n",
      "\n",
      "2022-11-28 22:22:24,485 INFO sqlalchemy.engine.Engine [no key 0.00123s] ()\n",
      "2022-11-28 22:22:24,487 INFO sqlalchemy.engine.Engine \n",
      "CREATE TABLE purchases (\n",
      "\tpurchase_id INTEGER NOT NULL, \n",
      "\titem_name VARCHAR(200), \n",
      "\tprice NUMERIC(19, 4), \n",
      "\tuser_id INTEGER, \n",
      "\tPRIMARY KEY (purchase_id), \n",
      "\tFOREIGN KEY(user_id) REFERENCES customers (customer_id)\n",
      ")\n",
      "\n",
      "\n",
      "2022-11-28 22:22:24,488 INFO sqlalchemy.engine.Engine [no key 0.00052s] ()\n",
      "2022-11-28 22:22:24,488 INFO sqlalchemy.engine.Engine COMMIT\n"
     ]
    }
   ],
   "source": [
    "mapper_registry.metadata.create_all(engine)\n"
   ]
  },
  {
   "cell_type": "code",
   "execution_count": 183,
   "metadata": {},
   "outputs": [],
   "source": [
    "john = Customer(name=\"John\", status=StatusEnum.gold)\n",
    "jane = Customer(name=\"Jane\", status=StatusEnum.bronze)"
   ]
  },
  {
   "cell_type": "markdown",
   "metadata": {},
   "source": [
    "#### 4.3 Session\n",
    "En ORM usamos Session en vez de conexión. La session sabe como trabajar con las clases de ORM, y sirve como mapa local de las instancias, manteniendo registro de que instancias han cambiado , cuales osn nuevas, etc.\n"
   ]
  },
  {
   "cell_type": "code",
   "execution_count": 184,
   "metadata": {},
   "outputs": [
    {
     "name": "stdout",
     "output_type": "stream",
     "text": [
      "2022-11-28 22:24:58,465 INFO sqlalchemy.engine.Engine BEGIN (implicit)\n",
      "2022-11-28 22:24:58,466 INFO sqlalchemy.engine.Engine INSERT INTO customers (name, status, address_id) VALUES (?, ?, ?)\n",
      "2022-11-28 22:24:58,467 INFO sqlalchemy.engine.Engine [generated in 0.00049s] ('John', 'gold', None)\n",
      "2022-11-28 22:24:58,468 INFO sqlalchemy.engine.Engine INSERT INTO customers (name, status, address_id) VALUES (?, ?, ?)\n",
      "2022-11-28 22:24:58,468 INFO sqlalchemy.engine.Engine [cached since 0.001685s ago] ('Jane', 'bronze', None)\n",
      "2022-11-28 22:24:58,468 INFO sqlalchemy.engine.Engine COMMIT\n"
     ]
    }
   ],
   "source": [
    "from sqlalchemy.orm import Session\n",
    "\n",
    "with Session(engine) as session:\n",
    "    session.add(john)\n",
    "    session.add(jane)\n",
    "    #hay que hace commit\n",
    "    session.commit()"
   ]
  },
  {
   "cell_type": "markdown",
   "metadata": {},
   "source": [
    "Agreguemos una dirección a John"
   ]
  },
  {
   "cell_type": "code",
   "execution_count": 185,
   "metadata": {},
   "outputs": [
    {
     "data": {
      "text/plain": [
       "Bogholder Allè street_number=15 postnr=2720>"
      ]
     },
     "execution_count": 185,
     "metadata": {},
     "output_type": "execute_result"
    }
   ],
   "source": [
    "address = Address(street_name=\"Bogholder Allè\", street_number=15, postnr=2720)\n",
    "address"
   ]
  },
  {
   "cell_type": "code",
   "execution_count": 187,
   "metadata": {},
   "outputs": [],
   "source": [
    "john.address = address"
   ]
  },
  {
   "cell_type": "code",
   "execution_count": 188,
   "metadata": {},
   "outputs": [
    {
     "name": "stdout",
     "output_type": "stream",
     "text": [
      "2022-11-28 22:26:41,396 INFO sqlalchemy.engine.Engine BEGIN (implicit)\n",
      "2022-11-28 22:26:41,397 INFO sqlalchemy.engine.Engine INSERT INTO addresses (street_name, street_number, postnr) VALUES (?, ?, ?)\n",
      "2022-11-28 22:26:41,397 INFO sqlalchemy.engine.Engine [generated in 0.00024s] ('Bogholder Allè', 15, 2720)\n",
      "2022-11-28 22:26:41,399 INFO sqlalchemy.engine.Engine SELECT customers.customer_id AS customers_customer_id, customers.name AS customers_name, customers.status AS customers_status \n",
      "FROM customers \n",
      "WHERE customers.customer_id = ?\n",
      "2022-11-28 22:26:41,399 INFO sqlalchemy.engine.Engine [generated in 0.00032s] (1,)\n",
      "2022-11-28 22:26:41,400 INFO sqlalchemy.engine.Engine UPDATE customers SET address_id=? WHERE customers.customer_id = ?\n",
      "2022-11-28 22:26:41,400 INFO sqlalchemy.engine.Engine [generated in 0.00024s] (1, 1)\n",
      "2022-11-28 22:26:41,400 INFO sqlalchemy.engine.Engine COMMIT\n"
     ]
    }
   ],
   "source": [
    "with Session(engine) as session:\n",
    "    session.add(john)\n",
    "    session.commit()"
   ]
  },
  {
   "cell_type": "markdown",
   "metadata": {},
   "source": [
    "Ahora John va a comprar"
   ]
  },
  {
   "cell_type": "code",
   "execution_count": 189,
   "metadata": {},
   "outputs": [
    {
     "name": "stdout",
     "output_type": "stream",
     "text": [
      "2022-11-28 22:27:12,699 INFO sqlalchemy.engine.Engine BEGIN (implicit)\n",
      "2022-11-28 22:27:12,700 INFO sqlalchemy.engine.Engine SELECT customers.customer_id AS customers_customer_id, customers.name AS customers_name, customers.status AS customers_status, customers.address_id AS customers_address_id \n",
      "FROM customers \n",
      "WHERE customers.customer_id = ?\n",
      "2022-11-28 22:27:12,700 INFO sqlalchemy.engine.Engine [generated in 0.00048s] (1,)\n",
      "2022-11-28 22:27:12,704 INFO sqlalchemy.engine.Engine INSERT INTO purchases (item_name, price, user_id) VALUES (?, ?, ?)\n",
      "2022-11-28 22:27:12,704 INFO sqlalchemy.engine.Engine [generated in 0.00101s] ('Magic Potion', 20.0, 1)\n",
      "2022-11-28 22:27:12,705 INFO sqlalchemy.engine.Engine COMMIT\n"
     ]
    }
   ],
   "source": [
    "potion = Purchase(item_name=\"Magic Potion\", price=20.00, customer=john)\n",
    "with Session(engine) as session:\n",
    "    session.add(potion)\n",
    "    session.commit()"
   ]
  },
  {
   "cell_type": "code",
   "execution_count": 190,
   "metadata": {},
   "outputs": [],
   "source": [
    "magic_hat = Purchase(item_name=\"Magic Hat\", price=100)"
   ]
  },
  {
   "cell_type": "code",
   "execution_count": 191,
   "metadata": {},
   "outputs": [
    {
     "name": "stdout",
     "output_type": "stream",
     "text": [
      "2022-11-28 22:28:35,561 INFO sqlalchemy.engine.Engine BEGIN (implicit)\n",
      "2022-11-28 22:28:35,562 INFO sqlalchemy.engine.Engine SELECT customers.customer_id AS customers_customer_id, customers.name AS customers_name, customers.status AS customers_status, customers.address_id AS customers_address_id \n",
      "FROM customers \n",
      "WHERE customers.customer_id = ?\n",
      "2022-11-28 22:28:35,562 INFO sqlalchemy.engine.Engine [generated in 0.00034s] (1,)\n",
      "2022-11-28 22:28:35,564 INFO sqlalchemy.engine.Engine SELECT purchases.purchase_id AS purchases_purchase_id, purchases.item_name AS purchases_item_name, purchases.price AS purchases_price, purchases.user_id AS purchases_user_id \n",
      "FROM purchases \n",
      "WHERE ? = purchases.user_id\n",
      "2022-11-28 22:28:35,564 INFO sqlalchemy.engine.Engine [generated in 0.00026s] (1,)\n",
      "2022-11-28 22:28:35,565 INFO sqlalchemy.engine.Engine INSERT INTO purchases (item_name, price, user_id) VALUES (?, ?, ?)\n",
      "2022-11-28 22:28:35,565 INFO sqlalchemy.engine.Engine [cached since 82.87s ago] ('Magic Hat', 100.0, 1)\n",
      "2022-11-28 22:28:35,566 INFO sqlalchemy.engine.Engine COMMIT\n"
     ]
    },
    {
     "name": "stderr",
     "output_type": "stream",
     "text": [
      "/var/folders/w6/2grt96qn39vgm51r4hz21bz40000gn/T/ipykernel_5527/675509969.py:5: SAWarning: Dialect sqlite+pysqlite does *not* support Decimal objects natively, and SQLAlchemy must convert from floating point - rounding errors and other issues may occur. Please consider storing Decimal numbers as strings or integers on this platform for lossless storage.\n",
      "  john.purchases.append(magic_hat)\n"
     ]
    }
   ],
   "source": [
    "with Session(engine) as session:\n",
    "    # Necesitamos conectar a john a esta session\n",
    "    session.add(john)\n",
    "    # purchases es relación una-a-varios, entonces SA lo representa como lista\n",
    "    john.purchases.append(magic_hat)\n",
    "    session.add(john)\n",
    "    session.commit()"
   ]
  },
  {
   "cell_type": "markdown",
   "metadata": {},
   "source": [
    "Se busca (select) igual que en Core"
   ]
  },
  {
   "cell_type": "code",
   "execution_count": 192,
   "metadata": {},
   "outputs": [
    {
     "name": "stdout",
     "output_type": "stream",
     "text": [
      "SELECT customers.customer_id, customers.name, customers.status, customers.address_id \n",
      "FROM customers \n",
      "WHERE customers.name = :name_1\n"
     ]
    }
   ],
   "source": [
    "sql = sa.select(Customer).filter_by(name=\"Jane\")\n",
    "print(sql)\n"
   ]
  },
  {
   "cell_type": "code",
   "execution_count": 193,
   "metadata": {},
   "outputs": [
    {
     "name": "stdout",
     "output_type": "stream",
     "text": [
      "2022-11-28 22:29:22,453 INFO sqlalchemy.engine.Engine BEGIN (implicit)\n",
      "2022-11-28 22:29:22,454 INFO sqlalchemy.engine.Engine SELECT customers.customer_id, customers.name, customers.status, customers.address_id \n",
      "FROM customers \n",
      "WHERE customers.name = ?\n",
      "2022-11-28 22:29:22,455 INFO sqlalchemy.engine.Engine [generated in 0.00045s] ('Jane',)\n",
      "2022-11-28 22:29:22,456 INFO sqlalchemy.engine.Engine ROLLBACK\n"
     ]
    }
   ],
   "source": [
    "with Session(engine) as session:\n",
    "    jane = session.execute(sql).one_or_none()"
   ]
  },
  {
   "cell_type": "code",
   "execution_count": 195,
   "metadata": {},
   "outputs": [
    {
     "data": {
      "text/plain": [
       "(Jane>,)"
      ]
     },
     "execution_count": 195,
     "metadata": {},
     "output_type": "execute_result"
    }
   ],
   "source": [
    "jane"
   ]
  },
  {
   "cell_type": "code",
   "execution_count": 196,
   "metadata": {},
   "outputs": [
    {
     "data": {
      "text/plain": [
       "sqlalchemy.engine.row.Row"
      ]
     },
     "execution_count": 196,
     "metadata": {},
     "output_type": "execute_result"
    }
   ],
   "source": [
    "type(jane)"
   ]
  },
  {
   "cell_type": "markdown",
   "metadata": {},
   "source": [
    "El resultado de esta query es un objeto `Row`, lo mismo que en Core, pero en modo ORM a veces nos interesamos en resultados escalares, el valor de la primera columna para cada fila\n",
    "\n",
    "SA soporta esto por el modificador de escalares y los helpers de escalares"
   ]
  },
  {
   "cell_type": "code",
   "execution_count": 197,
   "metadata": {},
   "outputs": [
    {
     "name": "stdout",
     "output_type": "stream",
     "text": [
      "2022-11-28 22:31:44,438 INFO sqlalchemy.engine.Engine BEGIN (implicit)\n",
      "2022-11-28 22:31:44,439 INFO sqlalchemy.engine.Engine SELECT customers.customer_id, customers.name, customers.status, customers.address_id \n",
      "FROM customers \n",
      "WHERE customers.name = ?\n",
      "2022-11-28 22:31:44,439 INFO sqlalchemy.engine.Engine [cached since 142s ago] ('Jane',)\n",
      "2022-11-28 22:31:44,440 INFO sqlalchemy.engine.Engine ROLLBACK\n"
     ]
    }
   ],
   "source": [
    "with Session(engine) as session:\n",
    "    jane = session.execute(sql).scalars().one_or_none()"
   ]
  },
  {
   "cell_type": "code",
   "execution_count": 198,
   "metadata": {},
   "outputs": [
    {
     "data": {
      "text/plain": [
       "Jane>"
      ]
     },
     "execution_count": 198,
     "metadata": {},
     "output_type": "execute_result"
    }
   ],
   "source": [
    "jane"
   ]
  },
  {
   "cell_type": "code",
   "execution_count": 199,
   "metadata": {},
   "outputs": [
    {
     "data": {
      "text/plain": [
       "__main__.Customer"
      ]
     },
     "execution_count": 199,
     "metadata": {},
     "output_type": "execute_result"
    }
   ],
   "source": [
    "type(jane)"
   ]
  },
  {
   "cell_type": "code",
   "execution_count": 200,
   "metadata": {},
   "outputs": [
    {
     "name": "stdout",
     "output_type": "stream",
     "text": [
      "2022-11-28 22:32:08,232 INFO sqlalchemy.engine.Engine BEGIN (implicit)\n",
      "2022-11-28 22:32:08,233 INFO sqlalchemy.engine.Engine SELECT customers.customer_id, customers.name, customers.status, customers.address_id \n",
      "FROM customers \n",
      "WHERE customers.name = ?\n",
      "2022-11-28 22:32:08,233 INFO sqlalchemy.engine.Engine [cached since 165.8s ago] ('Jane',)\n",
      "2022-11-28 22:32:08,235 INFO sqlalchemy.engine.Engine ROLLBACK\n"
     ]
    }
   ],
   "source": [
    "with Session(engine) as session:\n",
    "    jane = session.execute(sql).scalar_one_or_none()"
   ]
  },
  {
   "cell_type": "code",
   "execution_count": 202,
   "metadata": {},
   "outputs": [
    {
     "name": "stdout",
     "output_type": "stream",
     "text": [
      "Jane>\n",
      "<class '__main__.Customer'>\n"
     ]
    }
   ],
   "source": [
    "print (jane)\n",
    "print (type(jane))"
   ]
  },
  {
   "cell_type": "markdown",
   "metadata": {},
   "source": [
    "Si conocemos la clave primaria, SA provee un método eficiente para buscarla "
   ]
  },
  {
   "cell_type": "code",
   "execution_count": 203,
   "metadata": {},
   "outputs": [
    {
     "name": "stdout",
     "output_type": "stream",
     "text": [
      "2022-11-28 22:33:07,447 INFO sqlalchemy.engine.Engine BEGIN (implicit)\n",
      "2022-11-28 22:33:07,449 INFO sqlalchemy.engine.Engine SELECT customers.customer_id AS customers_customer_id, customers.name AS customers_name, customers.status AS customers_status, customers.address_id AS customers_address_id \n",
      "FROM customers \n",
      "WHERE customers.customer_id = ?\n",
      "2022-11-28 22:33:07,449 INFO sqlalchemy.engine.Engine [generated in 0.00046s] (2,)\n",
      "2022-11-28 22:33:07,450 INFO sqlalchemy.engine.Engine ROLLBACK\n"
     ]
    }
   ],
   "source": [
    "with Session(engine) as session:\n",
    "    jane2 = session.get(Customer, jane.customer_id)"
   ]
  },
  {
   "cell_type": "code",
   "execution_count": 204,
   "metadata": {},
   "outputs": [
    {
     "data": {
      "text/plain": [
       "Jane>"
      ]
     },
     "execution_count": 204,
     "metadata": {},
     "output_type": "execute_result"
    }
   ],
   "source": [
    "jane2"
   ]
  },
  {
   "cell_type": "markdown",
   "metadata": {},
   "source": [
    "Ahora podemos preguntar por los atributos relacionados"
   ]
  },
  {
   "cell_type": "code",
   "execution_count": 205,
   "metadata": {},
   "outputs": [
    {
     "name": "stdout",
     "output_type": "stream",
     "text": [
      "2022-11-28 22:33:44,273 INFO sqlalchemy.engine.Engine BEGIN (implicit)\n",
      "2022-11-28 22:33:44,275 INFO sqlalchemy.engine.Engine SELECT customers.customer_id AS customers_customer_id, customers.name AS customers_name, customers.status AS customers_status, customers.address_id AS customers_address_id \n",
      "FROM customers \n",
      "WHERE customers.customer_id = ?\n",
      "2022-11-28 22:33:44,276 INFO sqlalchemy.engine.Engine [cached since 308.7s ago] (1,)\n",
      "2022-11-28 22:33:44,277 INFO sqlalchemy.engine.Engine SELECT purchases.purchase_id AS purchases_purchase_id, purchases.item_name AS purchases_item_name, purchases.price AS purchases_price, purchases.user_id AS purchases_user_id \n",
      "FROM purchases \n",
      "WHERE ? = purchases.user_id\n",
      "2022-11-28 22:33:44,278 INFO sqlalchemy.engine.Engine [cached since 308.7s ago] (1,)\n",
      "Purchases:\t [Magic Potion>, Magic Hat>]\n",
      "2022-11-28 22:33:44,279 INFO sqlalchemy.engine.Engine SELECT addresses.address_id AS addresses_address_id, addresses.street_name AS addresses_street_name, addresses.street_number AS addresses_street_number, addresses.postnr AS addresses_postnr \n",
      "FROM addresses \n",
      "WHERE addresses.address_id = ?\n",
      "2022-11-28 22:33:44,280 INFO sqlalchemy.engine.Engine [generated in 0.00023s] (1,)\n",
      "Address:\t Bogholder Allè street_number=15 postnr=2720>\n",
      "2022-11-28 22:33:44,280 INFO sqlalchemy.engine.Engine ROLLBACK\n"
     ]
    }
   ],
   "source": [
    "with Session(engine) as session:\n",
    "    session.add(john)\n",
    "    print(\"Purchases:\\t\", john.purchases)\n",
    "    print(\"Address:\\t\", john.address)"
   ]
  },
  {
   "cell_type": "markdown",
   "metadata": {},
   "source": [
    "Si chequeamos un atributo no hay SQL emitido"
   ]
  },
  {
   "cell_type": "code",
   "execution_count": 207,
   "metadata": {},
   "outputs": [
    {
     "data": {
      "text/plain": [
       "<StatusEnum.gold: 'gold'>"
      ]
     },
     "execution_count": 207,
     "metadata": {},
     "output_type": "execute_result"
    }
   ],
   "source": [
    "john.status\n"
   ]
  },
  {
   "cell_type": "markdown",
   "metadata": {},
   "source": [
    "#### 4.2 Carga de relaciones\n",
    "\n",
    "Para acceder a los atributos de la relación, debemos estar dentro de una sesión, ya que, de forma predeterminada, las relaciones de SQLAlchemy son cargados de manera floja (*lazy-loading*).\n",
    "\n",
    "Las consultas de *lazy-loading* generan consultas SQL adicionales cuando se accede a ellas para evitar cargar todos los datos relacionados en la memoria a la vez. La relación se puede configurar para que se cargue de [diferentes maneras](https://docs.sqlalchemy.org/en/14/orm/loading_relationships.html#relationship-loading-techniques), definidas en el constructor de relaciones o como opciones de `select`\n"
   ]
  },
  {
   "cell_type": "code",
   "execution_count": 208,
   "metadata": {},
   "outputs": [
    {
     "name": "stdout",
     "output_type": "stream",
     "text": [
      "2022-11-28 22:39:36,742 INFO sqlalchemy.engine.Engine BEGIN (implicit)\n",
      "2022-11-28 22:39:36,745 INFO sqlalchemy.engine.Engine SELECT customers.customer_id, customers.name, customers.status, customers.address_id, addresses_1.address_id AS address_id_1, addresses_1.street_name, addresses_1.street_number, addresses_1.postnr \n",
      "FROM customers LEFT OUTER JOIN addresses AS addresses_1 ON addresses_1.address_id = customers.address_id \n",
      "WHERE customers.name = ?\n",
      "2022-11-28 22:39:36,745 INFO sqlalchemy.engine.Engine [generated in 0.00050s] ('John',)\n",
      "2022-11-28 22:39:36,747 INFO sqlalchemy.engine.Engine SELECT purchases.user_id AS purchases_user_id, purchases.purchase_id AS purchases_purchase_id, purchases.item_name AS purchases_item_name, purchases.price AS purchases_price \n",
      "FROM purchases \n",
      "WHERE purchases.user_id IN (?)\n",
      "2022-11-28 22:39:36,747 INFO sqlalchemy.engine.Engine [generated in 0.00055s] (1,)\n",
      "2022-11-28 22:39:36,748 INFO sqlalchemy.engine.Engine ROLLBACK\n"
     ]
    }
   ],
   "source": [
    "from sqlalchemy.orm import joinedload, selectinload\n",
    "\n",
    "with Session(engine) as session:\n",
    "    sql = sa.select(Customer).options(joinedload(Customer.address), selectinload(Customer.purchases)).where(Customer.name == \"John\")\n",
    "    john = session.execute(sql).unique().scalar_one()"
   ]
  },
  {
   "cell_type": "code",
   "execution_count": 209,
   "metadata": {},
   "outputs": [
    {
     "data": {
      "text/plain": [
       "John>"
      ]
     },
     "execution_count": 209,
     "metadata": {},
     "output_type": "execute_result"
    }
   ],
   "source": [
    "john"
   ]
  },
  {
   "cell_type": "markdown",
   "metadata": {},
   "source": [
    "Alternativamente, podemos definir la relación para que no sea `lazy`: agreguemos una tabla de `loyalty_points` que registre cuántos puntos de fidelidad tiene una compra determinada."
   ]
  },
  {
   "cell_type": "code",
   "execution_count": 210,
   "metadata": {},
   "outputs": [],
   "source": [
    "@mapper_registry.mapped\n",
    "class LoyaltyPoints:\n",
    "    __tablename__ = \"loyalty_points\"\n",
    "    __table_args__ = {\"extend_existing\": True}\n",
    "    \n",
    "    loyalty_point_id: int = sa.Column(sa.Integer, primary_key=True)\n",
    "    customer_id: int = sa.Column(sa.Integer, sa.ForeignKey(\"customers.customer_id\"))\n",
    "    purchase_id: int = sa.Column(sa.Integer, sa.ForeignKey(\"purchases.purchase_id\"))\n",
    "    total_points: int = sa.Column(sa.Integer)\n",
    "    \n",
    "    # One-to-one relationship\n",
    "    purchase: Purchase = relationship(\"Purchase\", backref=\"points\", lazy=\"joined\")\n",
    "    \n",
    "    # One-to-one\n",
    "    customer: Customer = relationship(\"Customer\", backref=\"points\", lazy=\"selectin\")"
   ]
  },
  {
   "cell_type": "code",
   "execution_count": 211,
   "metadata": {},
   "outputs": [
    {
     "name": "stdout",
     "output_type": "stream",
     "text": [
      "2022-11-28 22:41:54,006 INFO sqlalchemy.engine.Engine BEGIN (implicit)\n",
      "2022-11-28 22:41:54,007 INFO sqlalchemy.engine.Engine PRAGMA main.table_info(\"addresses\")\n",
      "2022-11-28 22:41:54,008 INFO sqlalchemy.engine.Engine [raw sql] ()\n",
      "2022-11-28 22:41:54,009 INFO sqlalchemy.engine.Engine PRAGMA main.table_info(\"purchases\")\n",
      "2022-11-28 22:41:54,009 INFO sqlalchemy.engine.Engine [raw sql] ()\n",
      "2022-11-28 22:41:54,009 INFO sqlalchemy.engine.Engine PRAGMA main.table_info(\"customers\")\n",
      "2022-11-28 22:41:54,009 INFO sqlalchemy.engine.Engine [raw sql] ()\n",
      "2022-11-28 22:41:54,010 INFO sqlalchemy.engine.Engine PRAGMA main.table_info(\"loyalty_points\")\n",
      "2022-11-28 22:41:54,010 INFO sqlalchemy.engine.Engine [raw sql] ()\n",
      "2022-11-28 22:41:54,010 INFO sqlalchemy.engine.Engine PRAGMA temp.table_info(\"loyalty_points\")\n",
      "2022-11-28 22:41:54,010 INFO sqlalchemy.engine.Engine [raw sql] ()\n",
      "2022-11-28 22:41:54,011 INFO sqlalchemy.engine.Engine \n",
      "CREATE TABLE loyalty_points (\n",
      "\tloyalty_point_id INTEGER NOT NULL, \n",
      "\tcustomer_id INTEGER, \n",
      "\tpurchase_id INTEGER, \n",
      "\ttotal_points INTEGER, \n",
      "\tPRIMARY KEY (loyalty_point_id), \n",
      "\tFOREIGN KEY(customer_id) REFERENCES customers (customer_id), \n",
      "\tFOREIGN KEY(purchase_id) REFERENCES purchases (purchase_id)\n",
      ")\n",
      "\n",
      "\n",
      "2022-11-28 22:41:54,011 INFO sqlalchemy.engine.Engine [no key 0.00023s] ()\n",
      "2022-11-28 22:41:54,012 INFO sqlalchemy.engine.Engine COMMIT\n"
     ]
    }
   ],
   "source": [
    "\n",
    "mapper_registry.metadata.create_all(engine)"
   ]
  },
  {
   "cell_type": "markdown",
   "metadata": {},
   "source": [
    "Agreguemos unos loyalty points"
   ]
  },
  {
   "cell_type": "code",
   "execution_count": 212,
   "metadata": {},
   "outputs": [
    {
     "name": "stdout",
     "output_type": "stream",
     "text": [
      "2022-11-28 22:42:21,122 INFO sqlalchemy.engine.Engine BEGIN (implicit)\n",
      "2022-11-28 22:42:21,127 INFO sqlalchemy.engine.Engine SELECT customers.customer_id, customers.name, customers.status, customers.address_id \n",
      "FROM customers \n",
      "WHERE customers.name = ?\n",
      "2022-11-28 22:42:21,127 INFO sqlalchemy.engine.Engine [generated in 0.00052s] ('John',)\n",
      "2022-11-28 22:42:21,128 INFO sqlalchemy.engine.Engine SELECT purchases.purchase_id AS purchases_purchase_id, purchases.item_name AS purchases_item_name, purchases.price AS purchases_price, purchases.user_id AS purchases_user_id \n",
      "FROM purchases \n",
      "WHERE ? = purchases.user_id\n",
      "2022-11-28 22:42:21,129 INFO sqlalchemy.engine.Engine [cached since 825.6s ago] (1,)\n",
      "2022-11-28 22:42:21,130 INFO sqlalchemy.engine.Engine INSERT INTO loyalty_points (customer_id, purchase_id, total_points) VALUES (?, ?, ?)\n",
      "2022-11-28 22:42:21,131 INFO sqlalchemy.engine.Engine [generated in 0.00038s] (1, 1, 1000)\n",
      "2022-11-28 22:42:21,131 INFO sqlalchemy.engine.Engine COMMIT\n"
     ]
    }
   ],
   "source": [
    "with Session(engine) as session:\n",
    "    sql = sa.select(Customer).filter_by(name=\"John\")\n",
    "    john = session.execute(sql).scalar_one()\n",
    "    loyalty_purchase = john.purchases[0]\n",
    "    loyalty_points = LoyaltyPoints(customer=john, purchase=loyalty_purchase, total_points=1000)\n",
    "    session.add(loyalty_points)\n",
    "    session.commit()"
   ]
  },
  {
   "cell_type": "markdown",
   "metadata": {},
   "source": [
    "Veamos que pasa si seleccionamos a john nuevamente"
   ]
  },
  {
   "cell_type": "code",
   "execution_count": 213,
   "metadata": {},
   "outputs": [
    {
     "name": "stdout",
     "output_type": "stream",
     "text": [
      "2022-11-28 22:43:02,010 INFO sqlalchemy.engine.Engine BEGIN (implicit)\n",
      "2022-11-28 22:43:02,012 INFO sqlalchemy.engine.Engine SELECT loyalty_points.loyalty_point_id, loyalty_points.customer_id, loyalty_points.purchase_id, loyalty_points.total_points, purchases_1.purchase_id AS purchase_id_1, purchases_1.item_name, purchases_1.price, purchases_1.user_id \n",
      "FROM loyalty_points LEFT OUTER JOIN purchases AS purchases_1 ON purchases_1.purchase_id = loyalty_points.purchase_id \n",
      "WHERE EXISTS (SELECT 1 \n",
      "FROM customers \n",
      "WHERE customers.customer_id = loyalty_points.customer_id AND customers.name = ?)\n",
      "2022-11-28 22:43:02,013 INFO sqlalchemy.engine.Engine [generated in 0.00053s] ('John',)\n",
      "2022-11-28 22:43:02,014 INFO sqlalchemy.engine.Engine SELECT customers.customer_id AS customers_customer_id, customers.name AS customers_name, customers.status AS customers_status, customers.address_id AS customers_address_id \n",
      "FROM customers \n",
      "WHERE customers.customer_id IN (?)\n",
      "2022-11-28 22:43:02,015 INFO sqlalchemy.engine.Engine [generated in 0.00032s] (1,)\n",
      "2022-11-28 22:43:02,015 INFO sqlalchemy.engine.Engine ROLLBACK\n"
     ]
    }
   ],
   "source": [
    "with Session(engine) as session:\n",
    "    sql = sa.select(LoyaltyPoints).where(LoyaltyPoints.customer.has(Customer.name == \"John\"))\n",
    "    john_points = session.execute(sql).scalar_one()"
   ]
  },
  {
   "cell_type": "code",
   "execution_count": 214,
   "metadata": {},
   "outputs": [
    {
     "data": {
      "text/plain": [
       "Magic Potion>"
      ]
     },
     "execution_count": 214,
     "metadata": {},
     "output_type": "execute_result"
    }
   ],
   "source": [
    "john_points.purchase"
   ]
  },
  {
   "cell_type": "markdown",
   "metadata": {},
   "source": [
    "La carga de relaciones es uno de los mayores beneficios de los ORM, pero también puede ser la forma más fácil de meter las patas. Hay que tener ojo en la estrategia de relaciones"
   ]
  },
  {
   "cell_type": "code",
   "execution_count": null,
   "metadata": {},
   "outputs": [],
   "source": []
  },
  {
   "cell_type": "markdown",
   "metadata": {},
   "source": []
  }
 ],
 "metadata": {
  "kernelspec": {
   "display_name": "Python 3.11.0 ('.venv': venv)",
   "language": "python",
   "name": "python3"
  },
  "language_info": {
   "codemirror_mode": {
    "name": "ipython",
    "version": 3
   },
   "file_extension": ".py",
   "mimetype": "text/x-python",
   "name": "python",
   "nbconvert_exporter": "python",
   "pygments_lexer": "ipython3",
   "version": "3.11.0"
  },
  "orig_nbformat": 4,
  "vscode": {
   "interpreter": {
    "hash": "2bb7788d314e8095ec884a2335a66e658b1a07f3a4d55ad846415f430c0ac478"
   }
  }
 },
 "nbformat": 4,
 "nbformat_minor": 2
}
