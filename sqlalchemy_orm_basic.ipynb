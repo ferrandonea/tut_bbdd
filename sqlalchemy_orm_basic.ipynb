{
 "cells": [
  {
   "cell_type": "code",
   "execution_count": null,
   "metadata": {},
   "outputs": [],
   "source": [
    "from sqlalchemy.orm import declarative_base"
   ]
  },
  {
   "cell_type": "markdown",
   "metadata": {},
   "source": [
    "# Model"
   ]
  },
  {
   "cell_type": "code",
   "execution_count": null,
   "metadata": {},
   "outputs": [],
   "source": [
    "import os\n",
    "from pathlib import Path\n",
    "#BASE_DIR = os.path.dirname(os.path.realpath(__file__))\n",
    "BASE_DIR = Path().resolve() #esto funciona en notebook\n",
    "connection_string = \"sqlite:///\" + os.path.join(BASE_DIR, 'site.db')\n",
    "connection_string = \"sqlite:///:memory:\"\n",
    "print (connection_string)"
   ]
  },
  {
   "cell_type": "code",
   "execution_count": null,
   "metadata": {},
   "outputs": [],
   "source": [
    "from sqlalchemy import Column, Integer, String, DateTime, create_engine\n",
    "from datetime import datetime\n",
    "\n",
    "Base = declarative_base()\n",
    "\n",
    "engine = create_engine(connection_string, echo=True)\n",
    "\"\"\"\n",
    "class User\n",
    "    id int\n",
    "    username str\n",
    "    email str\n",
    "    date_create datetime\n",
    "\"\"\"\n",
    "\n",
    "class User(Base):\n",
    "    __tablename__ = \"users\"\n",
    "    id = Column(Integer, primary_key=True)\n",
    "    username = Column(String(25), nullable=False, unique=True)\n",
    "    email = Column(String(80), nullable=False, unique=True)\n",
    "    date_created = Column(DateTime, default=datetime.utcnow())\n",
    "    \n",
    "    def __repr__ (self):\n",
    "        return f\"<User username={self.username} email={self.email}>\"\n",
    "    \n",
    "new_user = User(id=1, username=\"jonathan\", email = \"jone@hui.com\")\n",
    "print (new_user)"
   ]
  },
  {
   "cell_type": "code",
   "execution_count": null,
   "metadata": {},
   "outputs": [],
   "source": [
    "#create database if not exists\n",
    "Base.metadata.create_all(engine)"
   ]
  },
  {
   "cell_type": "markdown",
   "metadata": {},
   "source": [
    "session sirve para hacer las transacciones (lazy¿?)"
   ]
  },
  {
   "cell_type": "code",
   "execution_count": null,
   "metadata": {},
   "outputs": [],
   "source": [
    "from sqlalchemy.orm import sessionmaker\n",
    "Session = sessionmaker()\n",
    "local_session = Session(bind=engine)"
   ]
  },
  {
   "cell_type": "markdown",
   "metadata": {},
   "source": [
    "# Insert"
   ]
  },
  {
   "cell_type": "code",
   "execution_count": null,
   "metadata": {},
   "outputs": [],
   "source": [
    "new_user = User(username=\"frank\", email = \"frank@sinatra.com\")\n",
    "local_session.add(new_user)\n",
    "local_session.commit()"
   ]
  },
  {
   "cell_type": "code",
   "execution_count": null,
   "metadata": {},
   "outputs": [],
   "source": [
    "users = [\n",
    "    {\"username\":\"jhonny\",\n",
    "    \"email\":\"jh@company.com\"},\n",
    "    {\"username\":\"jerry\",\n",
    "    \"email\":\"je@company.com\"},\n",
    "    {\"username\":\"lucas\",\n",
    "    \"email\":\"lu@company.com\"},\n",
    "    {\"username\":\"igor\",\n",
    "    \"email\":\"ig@company.com\"},\n",
    "    {\"username\":\"gaby\",\n",
    "    \"email\":\"gb@company.com\"},\n",
    "    {\"username\":\"tom\",\n",
    "    \"email\":\"tm@company.com\"},\n",
    "]"
   ]
  },
  {
   "cell_type": "code",
   "execution_count": null,
   "metadata": {},
   "outputs": [],
   "source": [
    "for u in users:\n",
    "    new_user = User(username = u[\"username\"], email = u[\"email\"])\n",
    "    local_session.add(new_user)    \n",
    "    local_session.commit()"
   ]
  },
  {
   "cell_type": "markdown",
   "metadata": {},
   "source": [
    "# Query"
   ]
  },
  {
   "cell_type": "code",
   "execution_count": null,
   "metadata": {},
   "outputs": [],
   "source": [
    "users = local_session.query(User).all()\n",
    "for user in users:\n",
    "    print (user.username)"
   ]
  },
  {
   "cell_type": "code",
   "execution_count": null,
   "metadata": {},
   "outputs": [],
   "source": [
    "users = local_session.query(User).all()[:3]\n",
    "for user in users:\n",
    "    print (user.username)"
   ]
  },
  {
   "cell_type": "markdown",
   "metadata": {},
   "source": [
    "# Update"
   ]
  },
  {
   "cell_type": "code",
   "execution_count": null,
   "metadata": {},
   "outputs": [],
   "source": [
    "#gaby\n",
    "user = local_session.query(User).filter(User.username == \"gaby\").first()\n"
   ]
  },
  {
   "cell_type": "code",
   "execution_count": null,
   "metadata": {},
   "outputs": [],
   "source": [
    "print (user)"
   ]
  },
  {
   "cell_type": "code",
   "execution_count": null,
   "metadata": {},
   "outputs": [],
   "source": [
    "#updating"
   ]
  },
  {
   "cell_type": "code",
   "execution_count": null,
   "metadata": {},
   "outputs": [],
   "source": [
    "user"
   ]
  },
  {
   "cell_type": "code",
   "execution_count": null,
   "metadata": {},
   "outputs": [],
   "source": [
    "user.username=\"gabriela\"\n",
    "user.email = \"gabriela@company.com\""
   ]
  },
  {
   "cell_type": "code",
   "execution_count": null,
   "metadata": {},
   "outputs": [],
   "source": [
    "local_session.commit()"
   ]
  },
  {
   "cell_type": "markdown",
   "metadata": {},
   "source": [
    "# Delete"
   ]
  },
  {
   "cell_type": "code",
   "execution_count": null,
   "metadata": {},
   "outputs": [],
   "source": [
    "user_to_delete = local_session.query(User).filter(User.username == \"gabriela\").first()"
   ]
  },
  {
   "cell_type": "code",
   "execution_count": null,
   "metadata": {},
   "outputs": [],
   "source": [
    "local_session.delete(user_to_delete)"
   ]
  },
  {
   "cell_type": "code",
   "execution_count": null,
   "metadata": {},
   "outputs": [],
   "source": [
    "local_session.commit()"
   ]
  },
  {
   "cell_type": "markdown",
   "metadata": {},
   "source": [
    "# Order"
   ]
  },
  {
   "cell_type": "code",
   "execution_count": null,
   "metadata": {},
   "outputs": [],
   "source": [
    "users = local_session.query(User).order_by(User.username).all()"
   ]
  },
  {
   "cell_type": "code",
   "execution_count": null,
   "metadata": {},
   "outputs": [],
   "source": [
    "users"
   ]
  },
  {
   "cell_type": "code",
   "execution_count": null,
   "metadata": {},
   "outputs": [],
   "source": [
    "from sqlalchemy import desc\n",
    "users = local_session.query(User).order_by(desc(User.username)).all()\n",
    "users"
   ]
  },
  {
   "cell_type": "code",
   "execution_count": null,
   "metadata": {},
   "outputs": [],
   "source": [
    "import sqlalchemy\n",
    "sqlalchemy.__version__"
   ]
  },
  {
   "cell_type": "code",
   "execution_count": null,
   "metadata": {},
   "outputs": [],
   "source": [
    "%reset -f"
   ]
  },
  {
   "cell_type": "markdown",
   "metadata": {},
   "source": [
    "Otro Ejemplo"
   ]
  },
  {
   "cell_type": "code",
   "execution_count": null,
   "metadata": {},
   "outputs": [],
   "source": [
    "from sqlalchemy import create_engine, ForeignKey, Column, String, Integer, CHAR\n",
    "from sqlalchemy.ext.declarative import declarative_base\n",
    "from sqlalchemy.orm import sessionmaker\n",
    "\n",
    "Base = declarative_base()\n",
    "\n",
    "class Persona(Base):\n",
    "    __tablename__ = \"personas\"\n",
    "    \n",
    "    ssn = Column(Integer, primary_key=True)\n",
    "    firstname = Column(String)\n",
    "    lastname = Column(String)\n",
    "    gender = Column(CHAR)\n",
    "    age = Column(Integer)\n",
    "    \n",
    "    def __init__(self, ssn, firstname, lastname, gender, age):\n",
    "        self.ssn = ssn\n",
    "        self.firstname = firstname\n",
    "        self.lastname = lastname\n",
    "        self.gender = gender.upper()\n",
    "        self.age = age\n",
    "        \n",
    "    def __repr__(self):\n",
    "        return f\"{self.ssn} {self.firstname} {self.lastname} ({self.gender}, {self.age})\""
   ]
  },
  {
   "cell_type": "code",
   "execution_count": null,
   "metadata": {},
   "outputs": [],
   "source": [
    "engine = create_engine(\"sqlite:///:memory:\", echo=True)"
   ]
  },
  {
   "cell_type": "code",
   "execution_count": null,
   "metadata": {},
   "outputs": [],
   "source": [
    "Base.metadata.create_all(bind=engine)"
   ]
  },
  {
   "cell_type": "code",
   "execution_count": null,
   "metadata": {},
   "outputs": [],
   "source": [
    "Session = sessionmaker(bind=engine)\n",
    "session = Session()"
   ]
  },
  {
   "cell_type": "code",
   "execution_count": null,
   "metadata": {},
   "outputs": [],
   "source": [
    "tom = Persona(21878, \"Mike\", \"Smith\", \"m\", 35)\n",
    "session.add(tom)\n",
    "session.commit()"
   ]
  },
  {
   "cell_type": "code",
   "execution_count": null,
   "metadata": {},
   "outputs": [],
   "source": [
    "p1 = Persona(8219821, \"Jhon\", \"Smith\", \"m\", 31)\n",
    "p2 = Persona(209130938, \"Lucas\", \"Row\", \"m\", 23)\n",
    "p3 = Persona(99999, \"Claudia\", \"López\", \"f\", 45)\n",
    "session.add_all([p1,p2,p3])"
   ]
  },
  {
   "cell_type": "code",
   "execution_count": null,
   "metadata": {},
   "outputs": [],
   "source": [
    "session.commit()"
   ]
  },
  {
   "cell_type": "code",
   "execution_count": null,
   "metadata": {},
   "outputs": [],
   "source": [
    "    session.query(Persona).all()"
   ]
  },
  {
   "cell_type": "code",
   "execution_count": null,
   "metadata": {},
   "outputs": [],
   "source": [
    "resultados = session.query(Persona)\n",
    "print (\"==\")\n",
    "for r in resultados:\n",
    "    print (r)"
   ]
  },
  {
   "cell_type": "code",
   "execution_count": null,
   "metadata": {},
   "outputs": [],
   "source": [
    "nuevos = resultados.filter(Persona.age < 40).all()\n",
    "print (nuevos)"
   ]
  },
  {
   "cell_type": "markdown",
   "metadata": {},
   "source": [
    "# Relaciones"
   ]
  },
  {
   "cell_type": "code",
   "execution_count": null,
   "metadata": {},
   "outputs": [],
   "source": [
    "%reset -f"
   ]
  },
  {
   "cell_type": "code",
   "execution_count": null,
   "metadata": {},
   "outputs": [],
   "source": [
    "from sqlalchemy import create_engine, ForeignKey, Column, String, Integer, CHAR\n",
    "from sqlalchemy.ext.declarative import declarative_base\n",
    "from sqlalchemy.orm import sessionmaker\n",
    "\n",
    "Base = declarative_base()\n",
    "\n",
    "class Persona(Base):\n",
    "    __tablename__ = \"personas\"\n",
    "    \n",
    "    ssn = Column(Integer, primary_key=True)\n",
    "    firstname = Column(String)\n",
    "    lastname = Column(String)\n",
    "    gender = Column(CHAR)\n",
    "    age = Column(Integer)\n",
    "    \n",
    "    def __init__(self, ssn, firstname, lastname, gender, age):\n",
    "        self.ssn = ssn\n",
    "        self.firstname = firstname\n",
    "        self.lastname = lastname\n",
    "        self.gender = gender.upper()\n",
    "        self.age = age\n",
    "        \n",
    "    def __repr__(self):\n",
    "        return f\"{self.ssn} {self.firstname} {self.lastname} ({self.gender}, {self.age})\"\n",
    "    \n",
    "class Cosa(Base):\n",
    "    __tablename__ = \"cosas\"\n",
    "    \n",
    "    tid = Column(Integer, primary_key=True)\n",
    "    description = Column(String)\n",
    "    owner = Column(Integer, ForeignKey(\"personas.ssn\"))\n",
    "    \n",
    "    def __repr__(self):\n",
    "        return f\"{self.tid} {self.description} owned by {self.owner}\"\n",
    "    \n",
    "engine = create_engine(\"sqlite:///:memory:\", echo=True)\n",
    "Base.metadata.create_all(bind=engine)\n",
    "Session = sessionmaker(bind=engine)\n",
    "session = Session()\n"
   ]
  },
  {
   "cell_type": "code",
   "execution_count": null,
   "metadata": {},
   "outputs": [],
   "source": [
    "p0 = Persona(21878, \"Mike\", \"Smith\", \"m\", 35)\n",
    "p1 = Persona(8219821, \"Jhon\", \"Smith\", \"m\", 31)\n",
    "p2 = Persona(209130938, \"Lucas\", \"Row\", \"m\", 23)\n",
    "p3 = Persona(99999, \"Claudia\", \"López\", \"f\", 45)\n",
    "session.add_all([p0, p1,p2,p3])\n",
    "session.commit()"
   ]
  },
  {
   "cell_type": "code",
   "execution_count": null,
   "metadata": {},
   "outputs": [],
   "source": [
    "t1 = Cosa(tid= 23893232, description = \"Una cosa\", owner = p0.ssn)"
   ]
  },
  {
   "cell_type": "code",
   "execution_count": null,
   "metadata": {},
   "outputs": [],
   "source": [
    "session.add(t1)\n",
    "session.commit()"
   ]
  },
  {
   "cell_type": "code",
   "execution_count": null,
   "metadata": {},
   "outputs": [],
   "source": [
    "t2 = Cosa(description = \"PS5\", owner = p1.ssn)\n",
    "t3 = Cosa(description = \"Auto\", owner = p0.ssn)\n",
    "session.add_all([t2,t3])\n",
    "session.commit()"
   ]
  },
  {
   "cell_type": "code",
   "execution_count": null,
   "metadata": {},
   "outputs": [],
   "source": [
    "t3"
   ]
  },
  {
   "cell_type": "code",
   "execution_count": null,
   "metadata": {},
   "outputs": [],
   "source": [
    "results = session.query(Cosa, Persona).filter(Cosa.owner == Persona.ssn).filter(Persona.firstname == \"Mike\")"
   ]
  },
  {
   "cell_type": "code",
   "execution_count": null,
   "metadata": {},
   "outputs": [],
   "source": [
    "for r in results:\n",
    "    print (r)"
   ]
  },
  {
   "cell_type": "code",
   "execution_count": null,
   "metadata": {},
   "outputs": [],
   "source": [
    "%reset -f"
   ]
  },
  {
   "cell_type": "markdown",
   "metadata": {},
   "source": [
    "# Otro Ejemplo \n",
    "### 1. Partimos con DBAPI"
   ]
  },
  {
   "cell_type": "code",
   "execution_count": null,
   "metadata": {},
   "outputs": [],
   "source": [
    "import sqlite3\n",
    "\n",
    "db_file = \"local.db\"\n",
    "with sqlite3.connect(db_file) as conn:\n",
    "    conn.execute(\n",
    "        \"\"\"CREATE TABLE IF NOT EXISTS test (\n",
    "            col1 integer,\n",
    "            col2 string\n",
    "            )\n",
    "            \"\"\"\n",
    "    )"
   ]
  },
  {
   "cell_type": "code",
   "execution_count": null,
   "metadata": {},
   "outputs": [],
   "source": [
    "with sqlite3.connect(db_file) as conn:\n",
    "    conn.execute(\n",
    "    \"\"\"INSERT INTO test VALUES (:val_1, :val_2)\"\"\",\n",
    "    {\"val_1\": 1, \"val_2\":2}\n",
    "    )\n",
    "    result = conn.execute(\"SELECT * FROM test\").fetchall()\n",
    "result"
   ]
  },
  {
   "cell_type": "markdown",
   "metadata": {},
   "source": [
    "El mecanismo de arriba es para evitar una inyección de SQL"
   ]
  },
  {
   "cell_type": "code",
   "execution_count": null,
   "metadata": {},
   "outputs": [],
   "source": [
    "type(result[0])"
   ]
  },
  {
   "cell_type": "markdown",
   "metadata": {},
   "source": [
    "Igual es un sistema complicado, porque las queries son texto y si cambio el motor de BBDD tengo que cambiar el código y no ocupa características de Python"
   ]
  },
  {
   "cell_type": "markdown",
   "metadata": {},
   "source": [
    "### 2. Usando SqlAlchemy"
   ]
  },
  {
   "cell_type": "code",
   "execution_count": null,
   "metadata": {},
   "outputs": [],
   "source": [
    "import sqlalchemy as sa"
   ]
  },
  {
   "cell_type": "markdown",
   "metadata": {},
   "source": [
    "Metadata es el registro de las tablas y permite a SQLAlchemy entender como se conectan. Debe ser un objeto global y todas las tablas deben usar el mismo objeto metadata"
   ]
  },
  {
   "cell_type": "code",
   "execution_count": null,
   "metadata": {},
   "outputs": [],
   "source": [
    "meta = sa.MetaData()"
   ]
  },
  {
   "cell_type": "markdown",
   "metadata": {},
   "source": [
    "Interpretamos la tabla en Python, se puede usar:"
   ]
  },
  {
   "cell_type": "code",
   "execution_count": null,
   "metadata": {},
   "outputs": [],
   "source": [
    "test_table = sa.Table(\"test\", \n",
    "                   meta,\n",
    "                   sa.Column(\"col1\", sa.Integer),\n",
    "                   sa.Column(\"col2\", sa.String))"
   ]
  },
  {
   "cell_type": "markdown",
   "metadata": {},
   "source": [
    "Todavía la tabla no tiene idea de la base de datos, para eso se usa el **engine**\n",
    "\n",
    "Al crear el **engine** no se conecta a la DB, simplemente hace validación de la dirección (path, url) y prepara los dialectos para el motor, también se pueden poder muchas opciones de conexión."
   ]
  },
  {
   "cell_type": "code",
   "execution_count": null,
   "metadata": {},
   "outputs": [],
   "source": [
    "#future da uso de las opciones de SQLAlchemy 2.0 que todavía está en beta\n",
    "#echo escupe el SQL\n",
    "\n",
    "engine = sa.create_engine(\"sqlite:///local.db\", future=True)\n"
   ]
  },
  {
   "cell_type": "markdown",
   "metadata": {},
   "source": [
    "Ahora podemos hacer consultas usando SA"
   ]
  },
  {
   "cell_type": "code",
   "execution_count": null,
   "metadata": {},
   "outputs": [],
   "source": [
    "sql = sa.select(test_table)"
   ]
  },
  {
   "cell_type": "code",
   "execution_count": null,
   "metadata": {},
   "outputs": [],
   "source": [
    "sql"
   ]
  },
  {
   "cell_type": "code",
   "execution_count": null,
   "metadata": {},
   "outputs": [],
   "source": [
    "print(sql)"
   ]
  },
  {
   "cell_type": "code",
   "execution_count": null,
   "metadata": {},
   "outputs": [],
   "source": [
    "test_table.c.col1 == \"test\""
   ]
  },
  {
   "cell_type": "code",
   "execution_count": null,
   "metadata": {},
   "outputs": [],
   "source": [
    "print(test_table.c.col1 == \"test\")\n"
   ]
  },
  {
   "cell_type": "code",
   "execution_count": null,
   "metadata": {},
   "outputs": [],
   "source": [
    "print(sql.where(test_table.c.col1 == \"test\"))\n"
   ]
  },
  {
   "cell_type": "markdown",
   "metadata": {},
   "source": [
    "Para correr el SQL debemos establecer una conexión, es la primera vez que hacemos algo fuera de python /en esta vuelta)"
   ]
  },
  {
   "cell_type": "code",
   "execution_count": null,
   "metadata": {},
   "outputs": [],
   "source": [
    "with engine.connect() as conn:\n",
    "    result = conn.execute(sql).all()\n",
    "    \n",
    "result"
   ]
  },
  {
   "cell_type": "code",
   "execution_count": null,
   "metadata": {},
   "outputs": [],
   "source": [
    "type(result[0])"
   ]
  },
  {
   "cell_type": "code",
   "execution_count": null,
   "metadata": {},
   "outputs": [],
   "source": [
    "result[0].col1"
   ]
  },
  {
   "cell_type": "code",
   "execution_count": null,
   "metadata": {},
   "outputs": [],
   "source": [
    "dict(result[0])"
   ]
  },
  {
   "cell_type": "markdown",
   "metadata": {},
   "source": [
    "Se parece a lo de antes, pero mejorado"
   ]
  },
  {
   "cell_type": "markdown",
   "metadata": {},
   "source": [
    "Usamos `.all()` para dar todos, pero se puede usar:\n",
    "*   `all` todos los resultados\n",
    "*   `one` solo uno y da excepción si no hay exactamente uno\n",
    "*   `one_or_none` da uno y da excepción si hay más de uno\n",
    "*   `first` el primero\n",
    "*   `partitions(size)` en chunks de tamaño size\n",
    "*   `yield_per(num)` solo si el motor soporta stream de resultados"
   ]
  },
  {
   "cell_type": "markdown",
   "metadata": {},
   "source": [
    "### 3. SQLAlchemy Core\n",
    "Vamos a crear las tablas, que recordemos no están unidas a ninguna base\n",
    "\n",
    "Vamos a usar unos datos daneses de estacionamientos, porque podemos hacerlo\n",
    "https://www.opendata.dk/city-of-copenhagen/parkeringstaelling-i-zoner"
   ]
  },
  {
   "cell_type": "code",
   "execution_count": null,
   "metadata": {},
   "outputs": [],
   "source": [
    "import sqlalchemy as sa\n",
    "\n",
    "meta = sa.MetaData()\n",
    "\n",
    "fkt_parking = sa.Table(\"fkt_parking\", \n",
    "                       meta, \n",
    "                       sa.Column(\"id\", sa.Integer, primary_key=True),\n",
    "                       sa.Column(\"area_id\", sa.Integer, sa.ForeignKey(\"dim_area.area_id\")), \n",
    "                       sa.Column(\"year_month\", sa.VARCHAR(20)),\n",
    "                       sa.Column(\"count_type\", sa.Integer, sa.ForeignKey(\"dim_parking_types.type_id\")),\n",
    "                       sa.Column(\"count\", sa.Integer),\n",
    "                       sa.Column(\"hour\", sa.Integer)\n",
    "                      )\n",
    "\n",
    "dim_area = sa.Table(\"dim_area\", \n",
    "                    meta,\n",
    "                    sa.Column(\"area_id\", sa.Integer, primary_key=True),\n",
    "                    sa.Column(\"city\", sa.VARCHAR(50)),\n",
    "                    sa.Column(\"street_name\", sa.VARCHAR(200)),\n",
    "                    sa.Column(\"postnr\", sa.VARCHAR(4)),\n",
    "                    sa.Column(\"nr\", sa.Integer)\n",
    "                   )\n",
    "                       \n",
    "dim_parking_types = sa.Table(\"dim_parking_types\",\n",
    "                             meta,\n",
    "                             sa.Column(\"type_id\", sa.Integer, primary_key=True),\n",
    "                             sa.Column(\"name\", sa.VARCHAR(50), unique=True)\n",
    "                            )"
   ]
  },
  {
   "cell_type": "code",
   "execution_count": null,
   "metadata": {},
   "outputs": [],
   "source": [
    "from pathlib import Path\n",
    "db_name = \"parking.db\"\n",
    "#esto es para poder correr más de una vez esto, borra la BD si existe\n",
    "if Path(db_name).exists():\n",
    "    Path(db_name).unlink()\n",
    "conn_string = f\"sqlite:///{db_name}\"\n"
   ]
  },
  {
   "cell_type": "code",
   "execution_count": null,
   "metadata": {},
   "outputs": [],
   "source": [
    "meta.tables\n"
   ]
  },
  {
   "cell_type": "code",
   "execution_count": null,
   "metadata": {},
   "outputs": [],
   "source": [
    "engine = sa.create_engine(conn_string, future=True, echo=True)\n"
   ]
  },
  {
   "cell_type": "markdown",
   "metadata": {},
   "source": [
    "Como metadata sabe todo de nuestras tablas, le podemos pedir que las cree, conoce las dependencias, las relaciones y lo hace todo mágicamente"
   ]
  },
  {
   "cell_type": "code",
   "execution_count": null,
   "metadata": {},
   "outputs": [],
   "source": [
    "meta.create_all(engine)"
   ]
  },
  {
   "cell_type": "markdown",
   "metadata": {},
   "source": [
    "#### 3.1 Insert"
   ]
  },
  {
   "cell_type": "code",
   "execution_count": null,
   "metadata": {},
   "outputs": [],
   "source": [
    "insert_sql = sa.insert(dim_parking_types).values(type_id=0, name=\"legal\")\n"
   ]
  },
  {
   "cell_type": "code",
   "execution_count": null,
   "metadata": {},
   "outputs": [],
   "source": [
    "print(insert_sql)"
   ]
  },
  {
   "cell_type": "markdown",
   "metadata": {},
   "source": [
    "Acá no hay espacio para la inyección y lo hace solo.\n",
    "\n",
    "Esto es sólo una instrucción, hay que conectarse a la base de datos para que sirva de algo útil"
   ]
  },
  {
   "cell_type": "code",
   "execution_count": null,
   "metadata": {},
   "outputs": [],
   "source": [
    "with engine.connect() as conn:\n",
    "    conn.execute(insert_sql)"
   ]
  },
  {
   "cell_type": "markdown",
   "metadata": {},
   "source": [
    "Si miramos la base de datos, nada ha pasado.... esto es porque si no hacemos commit los cambios se van a deshacer al salir del context manager\n",
    "\n",
    "Se ve en la última linea que hace eso"
   ]
  },
  {
   "cell_type": "code",
   "execution_count": null,
   "metadata": {},
   "outputs": [],
   "source": [
    "with engine.connect() as conn:\n",
    "    conn.execute(insert_sql)\n",
    "    conn.commit()"
   ]
  },
  {
   "cell_type": "markdown",
   "metadata": {},
   "source": [
    "Ahora borremos ese dato"
   ]
  },
  {
   "cell_type": "code",
   "execution_count": null,
   "metadata": {},
   "outputs": [],
   "source": [
    "delete_sql = dim_parking_types.delete().where(dim_parking_types.c.type_id == 0)\n",
    "print (delete_sql)"
   ]
  },
  {
   "cell_type": "code",
   "execution_count": null,
   "metadata": {},
   "outputs": [],
   "source": [
    "with engine.connect() as conn:\n",
    "    conn.execute(delete_sql)\n",
    "    conn.commit()"
   ]
  },
  {
   "cell_type": "code",
   "execution_count": null,
   "metadata": {},
   "outputs": [],
   "source": [
    "with engine.connect() as conn:\n",
    "    conn.execute(insert_sql)\n",
    "    conn.commit()\n",
    "    conn.execute(delete_sql)\n",
    "    conn.rollback()\n",
    "    \n",
    "#rollback hecha marcha atrás, lo que está con commit queda"
   ]
  },
  {
   "cell_type": "markdown",
   "metadata": {},
   "source": [
    "#### 3.2 Unit of Work"
   ]
  },
  {
   "cell_type": "markdown",
   "metadata": {},
   "source": [
    "SA usa unit of work , esto quiere decir que espera que preparemos todos los cambios y de ahí lo enviemos a la BD de una, al mismo tiempo. Esto ayuda a SA a optimizar el resultado y la comunicación con la BD. \n",
    "\n",
    "El usar commit es parte de esto y ayuda a tener más control. \n",
    "\n",
    "Esto también significa que SA está generalmente trabajando con transacciones, las que podemos manejar explícitamente"
   ]
  },
  {
   "cell_type": "code",
   "execution_count": null,
   "metadata": {},
   "outputs": [],
   "source": [
    "with engine.connect() as conn:\n",
    "    conn.execute(delete_sql)\n",
    "    conn.commit()\n",
    "    transaction = conn.begin()\n",
    "    conn.execute(insert_sql)\n",
    "    transaction.rollback()"
   ]
  },
  {
   "cell_type": "markdown",
   "metadata": {},
   "source": [
    "Se puede hacer así también"
   ]
  },
  {
   "cell_type": "code",
   "execution_count": null,
   "metadata": {},
   "outputs": [],
   "source": [
    "with engine.begin() as conn:\n",
    "    conn.execute(insert_sql)\n",
    "    conn.execute(delete_sql)"
   ]
  },
  {
   "cell_type": "markdown",
   "metadata": {},
   "source": [
    "Acá hace el commit solo al salir del context manager. Si hay un error entonces la transacción hace rollback"
   ]
  },
  {
   "cell_type": "code",
   "execution_count": null,
   "metadata": {},
   "outputs": [],
   "source": [
    "try:\n",
    "    with engine.begin() as conn:\n",
    "        conn.execute(insert_sql)\n",
    "        raise Exception(\"Algo malo pasó\")\n",
    "except Exception as e:\n",
    "    print (\"Este es un error medio obvio\")\n",
    "    print (e)"
   ]
  },
  {
   "cell_type": "markdown",
   "metadata": {},
   "source": [
    "#### 3.3 Insertar muchas filas"
   ]
  },
  {
   "cell_type": "code",
   "execution_count": null,
   "metadata": {},
   "outputs": [],
   "source": [
    "import csv\n",
    "import pathlib"
   ]
  },
  {
   "cell_type": "code",
   "execution_count": null,
   "metadata": {},
   "outputs": [],
   "source": [
    "data = [(pathlib.Path(\"data/dim_parking_types.csv\"), dim_parking_types),\n",
    "        (pathlib.Path(\"data/dim_area.csv\"), dim_area),\n",
    "        (pathlib.Path(\"data/fkt_parking.csv\"), fkt_parking)]"
   ]
  },
  {
   "cell_type": "code",
   "execution_count": null,
   "metadata": {},
   "outputs": [],
   "source": [
    "data"
   ]
  },
  {
   "cell_type": "code",
   "execution_count": null,
   "metadata": {},
   "outputs": [],
   "source": [
    "#Corramos todo en una Unit of Work en una transacción\n",
    "with engine.begin() as conn:\n",
    "    for data_file, table in data:\n",
    "        #leyendo CSV\n",
    "        with data_file.open(encoding=\"utf-8\") as f:\n",
    "            rows = list(csv.DictReader(f))\n",
    "        sql = table.insert()\n",
    "        conn.execute(sql, parameters=rows)"
   ]
  },
  {
   "cell_type": "markdown",
   "metadata": {},
   "source": [
    "Cuando pasamos una lista de diccionarios a paramters, SA sabe usar el método `.executemany()`de la libreria DB-API library, que optimiza para ingresar múltiples filas"
   ]
  },
  {
   "cell_type": "markdown",
   "metadata": {},
   "source": [
    "#### 3.4 Usando lógica\n",
    "\n",
    "Busquemos solo en la ciudad de Gilleleje\n"
   ]
  },
  {
   "cell_type": "code",
   "execution_count": null,
   "metadata": {},
   "outputs": [],
   "source": [
    "sql = sa.select([fkt_parking.c.count, fkt_parking.c.hour, dim_area]).join(dim_area).where(dim_area.c.city == \"Gilleleje\")\n",
    "print (sql)"
   ]
  },
  {
   "cell_type": "code",
   "execution_count": null,
   "metadata": {},
   "outputs": [],
   "source": [
    "with engine.connect() as conn:\n",
    "    results = conn.execute(sql).all()"
   ]
  },
  {
   "cell_type": "code",
   "execution_count": null,
   "metadata": {},
   "outputs": [],
   "source": [
    "[dict(row) for row in results[:2]]"
   ]
  },
  {
   "cell_type": "code",
   "execution_count": null,
   "metadata": {},
   "outputs": [],
   "source": [
    "import pandas as pd\n",
    "pd.DataFrame(results)"
   ]
  },
  {
   "cell_type": "code",
   "execution_count": null,
   "metadata": {},
   "outputs": [],
   "source": [
    "#alternativamente \n",
    "with engine.connect() as conn:\n",
    "    df = pd.read_sql(sql, conn)\n",
    "df"
   ]
  },
  {
   "cell_type": "markdown",
   "metadata": {},
   "source": [
    "Ahora calculemos la suma de cuentas por hora por ciudad\n",
    "\n",
    "`func` es para funciones de sql, en este caso la suma"
   ]
  },
  {
   "cell_type": "code",
   "execution_count": null,
   "metadata": {},
   "outputs": [],
   "source": [
    "sql = (\n",
    "    sa.select([sa.func.sum(fkt_parking.c.count).label(\"total_count\"), \n",
    "               dim_area.c.city,\n",
    "               fkt_parking.c.hour])\n",
    "    .join(dim_area)\n",
    "    .group_by(dim_area.c.city, fkt_parking.c.hour)\n",
    "    )\n",
    "\n",
    "\n",
    "print(sql)"
   ]
  },
  {
   "cell_type": "code",
   "execution_count": null,
   "metadata": {},
   "outputs": [],
   "source": [
    "with engine.connect() as conn:\n",
    "    result = conn.execute(sql)\n",
    "    df = pd.DataFrame(result)\n",
    "df"
   ]
  },
  {
   "cell_type": "markdown",
   "metadata": {},
   "source": [
    "#### 3.5 Refactorizando\n",
    "\n",
    "Está quedando todo muy largo, y con repeticiones. Como es python podemos crear funciones y variables para manipular el SQL"
   ]
  },
  {
   "cell_type": "code",
   "execution_count": null,
   "metadata": {},
   "outputs": [],
   "source": [
    "table = fkt_parking.join(dim_area)\n",
    "print (table)"
   ]
  },
  {
   "cell_type": "code",
   "execution_count": null,
   "metadata": {},
   "outputs": [],
   "source": [
    "total_count = sa.func.sum(fkt_parking.c.count).label(\"total_count\")\n",
    "print (total_count)"
   ]
  },
  {
   "cell_type": "code",
   "execution_count": null,
   "metadata": {},
   "outputs": [],
   "source": [
    "dimension_cols = [dim_area.c.city, fkt_parking.c.hour]\n",
    "print (dimension_cols)"
   ]
  },
  {
   "cell_type": "code",
   "execution_count": null,
   "metadata": {},
   "outputs": [],
   "source": [
    "sql = sa.select([total_count, *dimension_cols]).select_from(table).group_by(*dimension_cols)\n"
   ]
  },
  {
   "cell_type": "markdown",
   "metadata": {},
   "source": [
    "Esto es el mismo código que antes, pero se ve más legible\n",
    "\n",
    "    sql = (sa.select([sa.func.sum(fkt_parking.c.count).label(\"total_count\"), \n",
    "                  dim_area.c.city,\n",
    "                  fkt_parking.c.hour])\n",
    "         .join(dim_area)\n",
    "         .group_by(dim_area.c.city, fkt_parking.c.hour))"
   ]
  },
  {
   "cell_type": "markdown",
   "metadata": {},
   "source": [
    "#### 3.6 cambios on-the-fly"
   ]
  },
  {
   "cell_type": "code",
   "execution_count": null,
   "metadata": {},
   "outputs": [],
   "source": [
    "#Agregar una columna adicional al groupby\n",
    "print(sql.group_by(fkt_parking.c.count_type))"
   ]
  },
  {
   "cell_type": "code",
   "execution_count": null,
   "metadata": {},
   "outputs": [],
   "source": [
    "# Columna adicional al select\n",
    "print(sql.add_columns(fkt_parking.c.count_type))"
   ]
  },
  {
   "cell_type": "code",
   "execution_count": null,
   "metadata": {},
   "outputs": [],
   "source": [
    "# Esto no alteró el SQL original\n",
    "print(sql)"
   ]
  },
  {
   "cell_type": "code",
   "execution_count": null,
   "metadata": {},
   "outputs": [],
   "source": [
    "with engine.connect() as conn:\n",
    "    # Dynamically add a limit statement\n",
    "    result = conn.execute(sql.limit(10))\n",
    "    df = pd.DataFrame(result)\n",
    "df\n"
   ]
  },
  {
   "cell_type": "markdown",
   "metadata": {},
   "source": [
    "Ahora calculemos la tasa de ocupación. Se podría definir una tabla intermedia *(CTE (Common Table Expression)* o una subquery"
   ]
  },
  {
   "cell_type": "code",
   "execution_count": null,
   "metadata": {},
   "outputs": [],
   "source": [
    "# Reusamos el select básico\n",
    "base_select = sa.select([fkt_parking.c.count, fkt_parking.c.area_id, fkt_parking.c.year_month, fkt_parking.c.hour]).join(dim_parking_types)"
   ]
  },
  {
   "cell_type": "code",
   "execution_count": null,
   "metadata": {},
   "outputs": [],
   "source": [
    "print (base_select)"
   ]
  },
  {
   "cell_type": "code",
   "execution_count": null,
   "metadata": {},
   "outputs": [],
   "source": [
    "# Creamos un CTE que se llama available_spaces filtrado en  parking_types\n",
    "available_spaces = base_select.where(dim_parking_types.c.name == \"legal\").cte(\"available_spaces\")\n",
    "print (available_spaces)"
   ]
  },
  {
   "cell_type": "code",
   "execution_count": null,
   "metadata": {},
   "outputs": [],
   "source": [
    "# Otro CTE llamado  occupied spaces filtrado en parking_types\n",
    "counted_spaces = base_select.where(dim_parking_types.c.name == \"counted\").cte(\"occupied_spaces\")\n",
    "print (counted_spaces)"
   ]
  },
  {
   "cell_type": "code",
   "execution_count": null,
   "metadata": {},
   "outputs": [],
   "source": [
    "# Definimos la métrica\n",
    "occupancy_rate = (100 * sa.cast(counted_spaces.c.count, sa.Float) / available_spaces.c.count).label(\"occupancy_rate\")"
   ]
  },
  {
   "cell_type": "code",
   "execution_count": null,
   "metadata": {},
   "outputs": [],
   "source": [
    "print (occupancy_rate)"
   ]
  },
  {
   "cell_type": "code",
   "execution_count": null,
   "metadata": {},
   "outputs": [],
   "source": [
    "# Definimos el join, los CTE no tienen claves foraneas que SA pueda usar para inferir la relación\n",
    "cte_join_condition = sa.and_(counted_spaces.c.area_id == available_spaces.c.area_id,\n",
    "                        counted_spaces.c.year_month == available_spaces.c.year_month,\n",
    "                        counted_spaces.c.hour == available_spaces.c.hour\n",
    "                        )\n",
    "print (cte_join_condition)"
   ]
  },
  {
   "cell_type": "code",
   "execution_count": null,
   "metadata": {},
   "outputs": [],
   "source": [
    "# Creamos el join\n",
    "joined_ctes = available_spaces.join(counted_spaces, onclause=cte_join_condition)\n",
    "print(joined_ctes)"
   ]
  },
  {
   "cell_type": "code",
   "execution_count": null,
   "metadata": {},
   "outputs": [],
   "source": [
    "sql = (sa.select([occupancy_rate, dim_area.c.city, available_spaces.c.year_month, available_spaces.c.hour])\n",
    "       .select_from(joined_ctes)\n",
    "       .join(dim_area) # SQLAlchemy puede inferir las claves foráneas a través del CTE\n",
    "      )\n",
    "print(sql)"
   ]
  },
  {
   "cell_type": "code",
   "execution_count": null,
   "metadata": {},
   "outputs": [],
   "source": [
    "with engine.connect() as conn:\n",
    "    df = pd.read_sql(sql.order_by(occupancy_rate.desc()), conn)\n",
    "df"
   ]
  },
  {
   "cell_type": "markdown",
   "metadata": {},
   "source": [
    "Ejercicio: Filtrar las que tienen ocupación sobre 100"
   ]
  },
  {
   "cell_type": "code",
   "execution_count": null,
   "metadata": {},
   "outputs": [],
   "source": [
    "with engine.connect() as conn:\n",
    "    df = pd.read_sql(sql.where(occupancy_rate > 100).order_by(occupancy_rate.desc()), conn)\n",
    "df"
   ]
  },
  {
   "cell_type": "markdown",
   "metadata": {},
   "source": [
    "Core SQL es parecido a SQL pero con las ventajas de un lenguaje de programación"
   ]
  },
  {
   "cell_type": "markdown",
   "metadata": {},
   "source": [
    "### 4. SQLAlchemy ORM\n",
    "\n",
    "ORM es Object Relational Mapper, y es una capa que mapea la BD a objetos de pythons. Esto puede ser a expensas de cierta flexibilidad y transparencia respect al SQL subyacente.\n",
    "\n",
    "Como regla general\n",
    "*   Core sirve mejor para queries analiticas donde se espera obtener muchas filas\n",
    "*   ORM es mejor para aplicaciones donde solo necesitamos unas cuanas filas cada vez"
   ]
  },
  {
   "cell_type": "markdown",
   "metadata": {},
   "source": [
    "#### 4.1 Definiendo tablas"
   ]
  },
  {
   "cell_type": "code",
   "execution_count": null,
   "metadata": {},
   "outputs": [],
   "source": [
    "import sqlalchemy as sa\n",
    "from sqlalchemy.orm import declarative_base\n",
    "\n",
    "Base = declarative_base() \n",
    "\n",
    "class MyClass(Base):\n",
    "    __tablename__ = \"demo_table\"\n",
    "    \n",
    "    #Hay que definir al menos una clave primaria\n",
    "    class_id: int = sa.Column(sa.Integer, primary_key=True)\n",
    "    name: str = sa.Column(sa.String)"
   ]
  },
  {
   "cell_type": "markdown",
   "metadata": {},
   "source": [
    "Uno de los cambios en SA 2.0 es la habilidad de registrar clases con un decorador, lo que parece más en línea con clases basadas en `dataclass`y `attrs`\n"
   ]
  },
  {
   "cell_type": "code",
   "execution_count": null,
   "metadata": {},
   "outputs": [],
   "source": [
    "from sqlalchemy.orm import registry\n",
    "import enum\n",
    "\n",
    "mapper_registry = registry()"
   ]
  },
  {
   "cell_type": "markdown",
   "metadata": {},
   "source": [
    "Dado el `registry` podemos definir clases que definen el modelo de dato. Los type hints son opcionales\n",
    "\n",
    "Estas son clases regulares, entonces podemos agregar un  `__repr__` por ejemplo. "
   ]
  },
  {
   "cell_type": "code",
   "execution_count": null,
   "metadata": {},
   "outputs": [],
   "source": [
    "@mapper_registry.mapped\n",
    "class Address:\n",
    "    __tablename__ = \"addresses\"\n",
    "    \n",
    "    address_id: int = sa.Column(sa.Integer, primary_key=True)\n",
    "    street_name: str = sa.Column(sa.VARCHAR(50))\n",
    "    street_number: int = sa.Column(sa.Integer)\n",
    "    postnr: str = sa.Column(sa.VARCHAR(4))\n",
    "    \n",
    "    # Como es un simplemente una clase puedo poner un repr\n",
    "    def __repr__(self):\n",
    "        return f\"{self.street_name} street_number={self.street_number} postnr={self.postnr}>\""
   ]
  },
  {
   "cell_type": "markdown",
   "metadata": {},
   "source": [
    "La capa ORM genera una Tabla SA y la fija al atributo `__table__` , que es el mismo que vimos en Core\n",
    "\n"
   ]
  },
  {
   "cell_type": "code",
   "execution_count": null,
   "metadata": {},
   "outputs": [],
   "source": [
    "Address.__table__"
   ]
  },
  {
   "cell_type": "markdown",
   "metadata": {},
   "source": [
    "No definimos un `__init__` porque SA genera uno automáticamente. Podríamos agregarlo si queremos y se puede agregar más lógica.\n",
    "\n",
    "Vamos a agregar un objeto `Purchase` y otro `Customer`, con sus relaciones"
   ]
  },
  {
   "cell_type": "code",
   "execution_count": null,
   "metadata": {},
   "outputs": [],
   "source": [
    "import decimal\n",
    "from sqlalchemy.orm import relationship\n",
    "\n",
    "@mapper_registry.mapped\n",
    "class Purchase:\n",
    "    __tablename__ = \"purchases\"\n",
    "    __table_args__ = {\"extend_existing\": True}\n",
    "    \n",
    "    purchase_id: int = sa.Column(sa.Integer, primary_key=True)\n",
    "    item_name: str = sa.Column(sa.VARCHAR(200))\n",
    "    price: decimal.Decimal = sa.Column(sa.Numeric(19, 4))\n",
    "    user_id: int = sa.Column(sa.Integer, sa.ForeignKey(\"customers.customer_id\"))\n",
    "    \n",
    "    def __repr__(self):\n",
    "        return f\"{self.item_name}>\""
   ]
  },
  {
   "cell_type": "markdown",
   "metadata": {},
   "source": [
    "Podemos usar tipos nativos de python como enums y decimals, SA los va a convertir a los tipos que entienda la BD\n",
    "\n"
   ]
  },
  {
   "cell_type": "code",
   "execution_count": null,
   "metadata": {},
   "outputs": [],
   "source": [
    "class StatusEnum(str, enum.Enum):\n",
    "    gold = \"gold\"\n",
    "    silver = \"silver\"\n",
    "    bronze = \"bronze\"\n",
    "    \n",
    "@mapper_registry.mapped\n",
    "class Customer:\n",
    "    __tablename__ = \"customers\"\n",
    "    __table_args__ = {\"extend_existing\": True}\n",
    "    \n",
    "    customer_id: int = sa.Column(sa.Integer, primary_key=True)\n",
    "    name: str = sa.Column(sa.VARCHAR(50), unique=True)\n",
    "    status: str = sa.Column(sa.Enum(StatusEnum))\n",
    "    address_id: int = sa.Column(sa.Integer, sa.ForeignKey(\"addresses.address_id\"))\n",
    "    \n",
    "    # One-to-one relationship\n",
    "    address: Address = relationship(\"Address\", backref=\"customer\")\n",
    "    \n",
    "    # One-to-many\n",
    "    purchases: list[Purchase] = relationship(\"Purchase\", backref=\"customer\")\n",
    "    \n",
    "    def __repr__(self):\n",
    "        return f\"{self.name}>\""
   ]
  },
  {
   "cell_type": "markdown",
   "metadata": {},
   "source": [
    "#### 4.2 Relaciones"
   ]
  },
  {
   "cell_type": "code",
   "execution_count": null,
   "metadata": {},
   "outputs": [],
   "source": [
    "conn_string = \"sqlite:///parking_orm.db\"\n",
    "engine = sa.create_engine(conn_string, future=True, echo=True)\n"
   ]
  },
  {
   "cell_type": "markdown",
   "metadata": {},
   "source": [
    "ORM está construido sobre **Core**, podemos usar el engine y la metadata como antes"
   ]
  },
  {
   "cell_type": "code",
   "execution_count": null,
   "metadata": {},
   "outputs": [],
   "source": [
    "mapper_registry.metadata.create_all(engine)\n"
   ]
  },
  {
   "cell_type": "code",
   "execution_count": null,
   "metadata": {},
   "outputs": [],
   "source": [
    "john = Customer(name=\"John\", status=StatusEnum.gold)\n",
    "jane = Customer(name=\"Jane\", status=StatusEnum.bronze)"
   ]
  },
  {
   "cell_type": "markdown",
   "metadata": {},
   "source": [
    "#### 4.3 Session\n",
    "En ORM usamos Session en vez de conexión. La session sabe como trabajar con las clases de ORM, y sirve como mapa local de las instancias, manteniendo registro de que instancias han cambiado , cuales osn nuevas, etc.\n"
   ]
  },
  {
   "cell_type": "code",
   "execution_count": null,
   "metadata": {},
   "outputs": [],
   "source": [
    "from sqlalchemy.orm import Session\n",
    "\n",
    "with Session(engine) as session:\n",
    "    session.add(john)\n",
    "    session.add(jane)\n",
    "    #hay que hace commit\n",
    "    session.commit()"
   ]
  },
  {
   "cell_type": "markdown",
   "metadata": {},
   "source": [
    "Agreguemos una dirección a John"
   ]
  },
  {
   "cell_type": "code",
   "execution_count": null,
   "metadata": {},
   "outputs": [],
   "source": [
    "address = Address(street_name=\"Bogholder Allè\", street_number=15, postnr=2720)\n",
    "address"
   ]
  },
  {
   "cell_type": "code",
   "execution_count": null,
   "metadata": {},
   "outputs": [],
   "source": [
    "john.address = address"
   ]
  },
  {
   "cell_type": "code",
   "execution_count": null,
   "metadata": {},
   "outputs": [],
   "source": [
    "with Session(engine) as session:\n",
    "    session.add(john)\n",
    "    session.commit()"
   ]
  },
  {
   "cell_type": "markdown",
   "metadata": {},
   "source": [
    "Ahora John va a comprar"
   ]
  },
  {
   "cell_type": "code",
   "execution_count": null,
   "metadata": {},
   "outputs": [],
   "source": [
    "potion = Purchase(item_name=\"Magic Potion\", price=20.00, customer=john)\n",
    "with Session(engine) as session:\n",
    "    session.add(potion)\n",
    "    session.commit()"
   ]
  },
  {
   "cell_type": "code",
   "execution_count": null,
   "metadata": {},
   "outputs": [],
   "source": [
    "magic_hat = Purchase(item_name=\"Magic Hat\", price=100)"
   ]
  },
  {
   "cell_type": "code",
   "execution_count": null,
   "metadata": {},
   "outputs": [],
   "source": [
    "with Session(engine) as session:\n",
    "    # Necesitamos conectar a john a esta session\n",
    "    session.add(john)\n",
    "    # purchases es relación una-a-varios, entonces SA lo representa como lista\n",
    "    john.purchases.append(magic_hat)\n",
    "    session.add(john)\n",
    "    session.commit()"
   ]
  },
  {
   "cell_type": "markdown",
   "metadata": {},
   "source": [
    "Se busca (select) igual que en Core"
   ]
  },
  {
   "cell_type": "code",
   "execution_count": null,
   "metadata": {},
   "outputs": [],
   "source": [
    "sql = sa.select(Customer).filter_by(name=\"Jane\")\n",
    "print(sql)\n"
   ]
  },
  {
   "cell_type": "code",
   "execution_count": null,
   "metadata": {},
   "outputs": [],
   "source": [
    "with Session(engine) as session:\n",
    "    jane = session.execute(sql).one_or_none()"
   ]
  },
  {
   "cell_type": "code",
   "execution_count": null,
   "metadata": {},
   "outputs": [],
   "source": [
    "jane"
   ]
  },
  {
   "cell_type": "code",
   "execution_count": null,
   "metadata": {},
   "outputs": [],
   "source": [
    "type(jane)"
   ]
  },
  {
   "cell_type": "markdown",
   "metadata": {},
   "source": [
    "El resultado de esta query es un objeto `Row`, lo mismo que en Core, pero en modo ORM a veces nos interesamos en resultados escalares, el valor de la primera columna para cada fila\n",
    "\n",
    "SA soporta esto por el modificador de escalares y los helpers de escalares"
   ]
  },
  {
   "cell_type": "code",
   "execution_count": null,
   "metadata": {},
   "outputs": [],
   "source": [
    "with Session(engine) as session:\n",
    "    jane = session.execute(sql).scalars().one_or_none()"
   ]
  },
  {
   "cell_type": "code",
   "execution_count": null,
   "metadata": {},
   "outputs": [],
   "source": [
    "jane"
   ]
  },
  {
   "cell_type": "code",
   "execution_count": null,
   "metadata": {},
   "outputs": [],
   "source": [
    "type(jane)"
   ]
  },
  {
   "cell_type": "code",
   "execution_count": null,
   "metadata": {},
   "outputs": [],
   "source": [
    "with Session(engine) as session:\n",
    "    jane = session.execute(sql).scalar_one_or_none()"
   ]
  },
  {
   "cell_type": "code",
   "execution_count": null,
   "metadata": {},
   "outputs": [],
   "source": [
    "print (jane)\n",
    "print (type(jane))"
   ]
  },
  {
   "cell_type": "markdown",
   "metadata": {},
   "source": [
    "Si conocemos la clave primaria, SA provee un método eficiente para buscarla "
   ]
  },
  {
   "cell_type": "code",
   "execution_count": null,
   "metadata": {},
   "outputs": [],
   "source": [
    "with Session(engine) as session:\n",
    "    jane2 = session.get(Customer, jane.customer_id)"
   ]
  },
  {
   "cell_type": "code",
   "execution_count": null,
   "metadata": {},
   "outputs": [],
   "source": [
    "jane2"
   ]
  },
  {
   "cell_type": "markdown",
   "metadata": {},
   "source": [
    "Ahora podemos preguntar por los atributos relacionados"
   ]
  },
  {
   "cell_type": "code",
   "execution_count": null,
   "metadata": {},
   "outputs": [],
   "source": [
    "with Session(engine) as session:\n",
    "    session.add(john)\n",
    "    print(\"Purchases:\\t\", john.purchases)\n",
    "    print(\"Address:\\t\", john.address)"
   ]
  },
  {
   "cell_type": "markdown",
   "metadata": {},
   "source": [
    "Si chequeamos un atributo no hay SQL emitido"
   ]
  },
  {
   "cell_type": "code",
   "execution_count": null,
   "metadata": {},
   "outputs": [],
   "source": [
    "john.status\n"
   ]
  },
  {
   "cell_type": "markdown",
   "metadata": {},
   "source": [
    "#### 4.2 Carga de relaciones\n",
    "\n",
    "Para acceder a los atributos de la relación, debemos estar dentro de una sesión, ya que, de forma predeterminada, las relaciones de SQLAlchemy son cargados de manera floja (*lazy-loading*).\n",
    "\n",
    "Las consultas de *lazy-loading* generan consultas SQL adicionales cuando se accede a ellas para evitar cargar todos los datos relacionados en la memoria a la vez. La relación se puede configurar para que se cargue de [diferentes maneras](https://docs.sqlalchemy.org/en/14/orm/loading_relationships.html#relationship-loading-techniques), definidas en el constructor de relaciones o como opciones de `select`\n"
   ]
  },
  {
   "cell_type": "code",
   "execution_count": null,
   "metadata": {},
   "outputs": [],
   "source": [
    "from sqlalchemy.orm import joinedload, selectinload\n",
    "\n",
    "with Session(engine) as session:\n",
    "    sql = sa.select(Customer).options(joinedload(Customer.address), selectinload(Customer.purchases)).where(Customer.name == \"John\")\n",
    "    john = session.execute(sql).unique().scalar_one()"
   ]
  },
  {
   "cell_type": "code",
   "execution_count": null,
   "metadata": {},
   "outputs": [],
   "source": [
    "john"
   ]
  },
  {
   "cell_type": "markdown",
   "metadata": {},
   "source": [
    "Alternativamente, podemos definir la relación para que no sea `lazy`: agreguemos una tabla de `loyalty_points` que registre cuántos puntos de fidelidad tiene una compra determinada."
   ]
  },
  {
   "cell_type": "code",
   "execution_count": null,
   "metadata": {},
   "outputs": [],
   "source": [
    "@mapper_registry.mapped\n",
    "class LoyaltyPoints:\n",
    "    __tablename__ = \"loyalty_points\"\n",
    "    __table_args__ = {\"extend_existing\": True}\n",
    "    \n",
    "    loyalty_point_id: int = sa.Column(sa.Integer, primary_key=True)\n",
    "    customer_id: int = sa.Column(sa.Integer, sa.ForeignKey(\"customers.customer_id\"))\n",
    "    purchase_id: int = sa.Column(sa.Integer, sa.ForeignKey(\"purchases.purchase_id\"))\n",
    "    total_points: int = sa.Column(sa.Integer)\n",
    "    \n",
    "    # One-to-one relationship\n",
    "    purchase: Purchase = relationship(\"Purchase\", backref=\"points\", lazy=\"joined\")\n",
    "    \n",
    "    # One-to-one\n",
    "    customer: Customer = relationship(\"Customer\", backref=\"points\", lazy=\"selectin\")"
   ]
  },
  {
   "cell_type": "code",
   "execution_count": null,
   "metadata": {},
   "outputs": [],
   "source": [
    "\n",
    "mapper_registry.metadata.create_all(engine)"
   ]
  },
  {
   "cell_type": "markdown",
   "metadata": {},
   "source": [
    "Agreguemos unos loyalty points"
   ]
  },
  {
   "cell_type": "code",
   "execution_count": null,
   "metadata": {},
   "outputs": [],
   "source": [
    "with Session(engine) as session:\n",
    "    sql = sa.select(Customer).filter_by(name=\"John\")\n",
    "    john = session.execute(sql).scalar_one()\n",
    "    loyalty_purchase = john.purchases[0]\n",
    "    loyalty_points = LoyaltyPoints(customer=john, purchase=loyalty_purchase, total_points=1000)\n",
    "    session.add(loyalty_points)\n",
    "    session.commit()"
   ]
  },
  {
   "cell_type": "markdown",
   "metadata": {},
   "source": [
    "Veamos que pasa si seleccionamos a john nuevamente"
   ]
  },
  {
   "cell_type": "code",
   "execution_count": null,
   "metadata": {},
   "outputs": [],
   "source": [
    "with Session(engine) as session:\n",
    "    sql = sa.select(LoyaltyPoints).where(LoyaltyPoints.customer.has(Customer.name == \"John\"))\n",
    "    john_points = session.execute(sql).scalar_one()"
   ]
  },
  {
   "cell_type": "code",
   "execution_count": null,
   "metadata": {},
   "outputs": [],
   "source": [
    "john_points.purchase"
   ]
  },
  {
   "cell_type": "markdown",
   "metadata": {},
   "source": [
    "La carga de relaciones es uno de los mayores beneficios de los ORM, pero también puede ser la forma más fácil de meter las patas. Hay que tener ojo en la estrategia de relaciones"
   ]
  },
  {
   "cell_type": "markdown",
   "metadata": {},
   "source": [
    "#### 4.3 ORM son clases\n",
    "Vamos a agregar `last_updated` y `created_at` columnas a todo el modelo"
   ]
  },
  {
   "cell_type": "code",
   "execution_count": null,
   "metadata": {},
   "outputs": [],
   "source": [
    "import datetime as dt\n",
    "\n",
    "class CreatedMixin:\n",
    "    last_updated: dt.datetime = sa.Column(sa.DateTime, default=sa.func.now(), onupdate=sa.func.now())\n",
    "    created_at: dt.datetime = sa.Column(sa.DateTime, default=sa.func.now())"
   ]
  },
  {
   "cell_type": "markdown",
   "metadata": {},
   "source": [
    "un Mixin es el nombre de un patrón que permite que las clases hereden la funcionalidad, pero solo se extiende en lugar de sobrescribirse."
   ]
  },
  {
   "cell_type": "code",
   "execution_count": null,
   "metadata": {},
   "outputs": [],
   "source": [
    "@mapper_registry.mapped\n",
    "class User(CreatedMixin):\n",
    "    __tablename__ = \"users\"\n",
    "    __table_args__ = {\"extend_existing\": True} \n",
    "    \n",
    "    primary: int = sa.Column(sa.Integer, primary_key=True)\n",
    "    name: str = sa.Column(sa.String)\n",
    "    role: str = sa.Column(sa.String)\n",
    "    purchases: int = sa.Column(sa.Integer, default=0)"
   ]
  },
  {
   "cell_type": "code",
   "execution_count": null,
   "metadata": {},
   "outputs": [],
   "source": [
    "list(User.__table__.columns)"
   ]
  },
  {
   "cell_type": "markdown",
   "metadata": {},
   "source": [
    "Dado que `User` es una clase normal, podemos definir un `classmethod` para proporcionar un constructor alternativo, por ejemplo, desde una carga JSON."
   ]
  },
  {
   "cell_type": "code",
   "execution_count": null,
   "metadata": {},
   "outputs": [],
   "source": [
    "@mapper_registry.mapped\n",
    "class User(CreatedMixin):\n",
    "    __tablename__ = \"users\"\n",
    "    __table_args__ = {\"extend_existing\": True} \n",
    "    \n",
    "    primary: int = sa.Column(sa.Integer, primary_key=True)\n",
    "    name: str = sa.Column(sa.String)\n",
    "    role: str = sa.Column(sa.String)\n",
    "    purchases: int = sa.Column(sa.Integer, default=0) # Note that default here only applies to the table - not to the generated __init__ function\n",
    "    \n",
    "    @classmethod\n",
    "    def from_dict(cls, data):\n",
    "        return cls(name=data[\"UserName\"], role=\"public\", purchases=0)"
   ]
  },
  {
   "cell_type": "code",
   "execution_count": null,
   "metadata": {},
   "outputs": [],
   "source": [
    "user = User.from_dict({\"UserName\": \"Jarvis\"})"
   ]
  },
  {
   "cell_type": "markdown",
   "metadata": {},
   "source": [
    "Podemos agregar propiedades"
   ]
  },
  {
   "cell_type": "code",
   "execution_count": null,
   "metadata": {},
   "outputs": [],
   "source": [
    "@mapper_registry.mapped\n",
    "class User(CreatedMixin):\n",
    "    __tablename__ = \"users\"\n",
    "    __table_args__ = {\"extend_existing\": True} \n",
    "    \n",
    "    primary: int = sa.Column(sa.Integer, primary_key=True)\n",
    "    name: str = sa.Column(sa.String)\n",
    "    role: str = sa.Column(sa.String)\n",
    "    purchases: int = sa.Column(sa.Integer, default=0)\n",
    "    \n",
    "    @classmethod\n",
    "    def from_dict(cls, data):\n",
    "        return cls(name=data[\"UserName\"], role=\"public\", purchases=0)\n",
    "    \n",
    "    @property\n",
    "    def is_admin(self):\n",
    "        return self.role == \"admin\""
   ]
  },
  {
   "cell_type": "code",
   "execution_count": null,
   "metadata": {},
   "outputs": [],
   "source": [
    "user = User(name=\"Jade\", role=\"public\")\n",
    "user.is_admin"
   ]
  },
  {
   "cell_type": "markdown",
   "metadata": {},
   "source": [
    "Si queremos, también podemos usar la propiedad en las consultas, definiéndola como una propiedad_híbrida. Esto nos permite escribir User.is_admin para generar una expresión SQL"
   ]
  },
  {
   "cell_type": "code",
   "execution_count": null,
   "metadata": {},
   "outputs": [],
   "source": [
    "from sqlalchemy.ext.hybrid import hybrid_property\n",
    "\n",
    "@mapper_registry.mapped\n",
    "class User(CreatedMixin):\n",
    "    __tablename__ = \"users\"\n",
    "    __table_args__ = {\"extend_existing\": True} \n",
    "    \n",
    "    primary: int = sa.Column(sa.Integer, primary_key=True)\n",
    "    name: str = sa.Column(sa.String)\n",
    "    role: str = sa.Column(sa.String)\n",
    "    purchases: int = sa.Column(sa.Integer, default=0)\n",
    "    \n",
    "    @classmethod\n",
    "    def from_dict(cls, data):\n",
    "        return cls(name=data[\"UserName\"], role=\"public\")\n",
    "    \n",
    "    @hybrid_property\n",
    "    def is_admin(self):\n",
    "        return self.role == \"admin\""
   ]
  },
  {
   "cell_type": "markdown",
   "metadata": {},
   "source": [
    "Creemos las tablas"
   ]
  },
  {
   "cell_type": "code",
   "execution_count": null,
   "metadata": {},
   "outputs": [],
   "source": [
    "mapper_registry.metadata.create_all(engine)"
   ]
  },
  {
   "cell_type": "code",
   "execution_count": null,
   "metadata": {},
   "outputs": [],
   "source": [
    "user = User(name=\"Jade\", role=\"admin\")"
   ]
  },
  {
   "cell_type": "code",
   "execution_count": null,
   "metadata": {},
   "outputs": [],
   "source": [
    "#también se puede usar la sesión sin context manager\n",
    "session = Session(engine)\n",
    "session.add(user)\n",
    "session.commit()"
   ]
  },
  {
   "cell_type": "code",
   "execution_count": null,
   "metadata": {},
   "outputs": [],
   "source": [
    "sql = sa.select(User).where(User.is_admin)"
   ]
  },
  {
   "cell_type": "code",
   "execution_count": null,
   "metadata": {},
   "outputs": [],
   "source": [
    "print(sql)"
   ]
  },
  {
   "cell_type": "code",
   "execution_count": null,
   "metadata": {},
   "outputs": [],
   "source": [
    "admin_user = session.execute(sql).scalar_one_or_none()\n",
    "print(f\"Last updated: {admin_user.last_updated:%H:%M:%S}\")"
   ]
  },
  {
   "cell_type": "code",
   "execution_count": null,
   "metadata": {},
   "outputs": [],
   "source": [
    "admin_user.name = \"Jade Smith\"\n",
    "session.add(admin_user)\n",
    "session.commit()\n",
    "print(f\"Last updated: {admin_user.last_updated:%H:%M:%S}\")"
   ]
  },
  {
   "cell_type": "markdown",
   "metadata": {},
   "source": [
    "\n",
    "A veces, la lógica de SQL y la lógica de Python difieren y deben escribirse de dos maneras diferentes. Cada propiedad_híbrida puede definir una expresión que se ejecutará cuando se use dentro de una instrucción SQL."
   ]
  },
  {
   "cell_type": "code",
   "execution_count": null,
   "metadata": {},
   "outputs": [],
   "source": [
    "@mapper_registry.mapped\n",
    "class User(CreatedMixin):\n",
    "    __tablename__ = \"users\"\n",
    "    __table_args__ = {\"extend_existing\": True} \n",
    "    \n",
    "    primary: int = sa.Column(sa.Integer, primary_key=True)\n",
    "    name: str = sa.Column(sa.String)\n",
    "    role: str = sa.Column(sa.String)\n",
    "    purchases: int = sa.Column(sa.Integer, default=0)\n",
    "    \n",
    "    @classmethod\n",
    "    def from_dict(cls, data):\n",
    "        return cls(name=data[\"UserName\"], role=\"public\")\n",
    "    \n",
    "    @hybrid_property\n",
    "    def is_admin(self):\n",
    "        return self.role == \"admin\"\n",
    "    \n",
    "    @hybrid_property\n",
    "    def is_validated(self):\n",
    "        return self.role in [\"public\", \"admin\"]\n",
    "        \n",
    "    @is_validated.expression # This provides the SQL definition of is_validated\n",
    "    def is_validated(cls):\n",
    "        return cls.role.in_([\"public\", \"admin\"])"
   ]
  },
  {
   "cell_type": "code",
   "execution_count": null,
   "metadata": {},
   "outputs": [],
   "source": [
    "user = User(name=\"Jade\", role=\"public\")"
   ]
  },
  {
   "cell_type": "code",
   "execution_count": null,
   "metadata": {},
   "outputs": [],
   "source": [
    "user.is_validated"
   ]
  },
  {
   "cell_type": "code",
   "execution_count": null,
   "metadata": {},
   "outputs": [],
   "source": [
    "sql = sa.select(User).where(User.is_validated)\n",
    "print(sql)"
   ]
  },
  {
   "cell_type": "code",
   "execution_count": null,
   "metadata": {},
   "outputs": [],
   "source": [
    "validated_users = session.execute(sql).scalars().all()\n"
   ]
  },
  {
   "cell_type": "code",
   "execution_count": null,
   "metadata": {},
   "outputs": [],
   "source": [
    "validated_users"
   ]
  },
  {
   "cell_type": "code",
   "execution_count": null,
   "metadata": {},
   "outputs": [],
   "source": [
    "validated_users[0].name"
   ]
  },
  {
   "cell_type": "markdown",
   "metadata": {},
   "source": [
    "Así que ahora tenemos la lógica de Python asignada tanto a SQL como a nuestra instancia local de Python. Hasta ahora, ha sido una propiedad simple, ¿qué pasa con la lógica?"
   ]
  },
  {
   "cell_type": "code",
   "execution_count": null,
   "metadata": {},
   "outputs": [],
   "source": [
    "from sqlalchemy.ext.hybrid import hybrid_method\n",
    "\n",
    "@mapper_registry.mapped\n",
    "class User(CreatedMixin):\n",
    "    __tablename__ = \"users\"\n",
    "    __table_args__ = {\"extend_existing\": True} \n",
    "    \n",
    "    primary: int = sa.Column(sa.Integer, primary_key=True)\n",
    "    name: str = sa.Column(sa.String)\n",
    "    role: str = sa.Column(sa.String)\n",
    "    purchases: int = sa.Column(sa.Integer, default=0)\n",
    "    \n",
    "    @classmethod\n",
    "    def from_dict(cls, data):\n",
    "        return cls(name=data[\"UserName\"], role=\"public\")\n",
    "    \n",
    "    @hybrid_property\n",
    "    def is_admin(self):\n",
    "        return self.role == \"admin\"\n",
    "    \n",
    "    @hybrid_property\n",
    "    def is_validated(self):\n",
    "        return self.role in [\"public\", \"admin\"]\n",
    "        \n",
    "    @is_validated.expression\n",
    "    def is_validated(cls):\n",
    "        return cls.role.in_([\"public\", \"admin\"])\n",
    "\n",
    "    # We can define arbitrary methods - handy for logic encapsulation!\n",
    "    def purchase(self, session: Session, item_cost: int) -> int:\n",
    "        self.purchases += item_cost\n",
    "        session.add(self)\n",
    "        return self.purchases\n",
    "    \n",
    "    @hybrid_method # Define arbitrary methods\n",
    "    def calculate_roi(self, total_cost: int) -> float:\n",
    "        return (self.purchases - total_cost) / total_cost"
   ]
  },
  {
   "cell_type": "code",
   "execution_count": null,
   "metadata": {},
   "outputs": [],
   "source": [
    "admin_user = session.execute(sql).scalar_one_or_none()\n",
    "print(f\"Last updated: {admin_user.last_updated:%H:%M:%S}\")"
   ]
  },
  {
   "cell_type": "code",
   "execution_count": null,
   "metadata": {},
   "outputs": [],
   "source": [
    "user = User(name=\"Jane\", role=\"admin\", purchases=0)"
   ]
  },
  {
   "cell_type": "code",
   "execution_count": null,
   "metadata": {},
   "outputs": [],
   "source": [
    "user.purchase(session, 2_000)\n",
    "session.commit()"
   ]
  },
  {
   "cell_type": "code",
   "execution_count": null,
   "metadata": {},
   "outputs": [],
   "source": [
    "user.purchases\n"
   ]
  },
  {
   "cell_type": "markdown",
   "metadata": {},
   "source": [
    "¿Qué pasa si queremos usar un cálculo dentro de nuestra consulta SQL? eso es lo que hace el método_híbrido. Sigue las mismas reglas que la propiedad, pero funciona con argumentos."
   ]
  },
  {
   "cell_type": "code",
   "execution_count": null,
   "metadata": {},
   "outputs": [],
   "source": [
    "user.calculate_roi(total_cost=1000)"
   ]
  },
  {
   "cell_type": "code",
   "execution_count": null,
   "metadata": {},
   "outputs": [],
   "source": [
    "total_cost = 1000\n",
    "sql = sa.select(User, User.calculate_roi(total_cost=total_cost)).where(User.calculate_roi(total_cost=total_cost) >= 1)\n",
    "\n",
    "print(sql)"
   ]
  },
  {
   "cell_type": "code",
   "execution_count": null,
   "metadata": {},
   "outputs": [],
   "source": [
    "print([(user.name, user.calculate_roi(total_cost=total_cost)) for user in session.execute(sql).scalars()])\n"
   ]
  },
  {
   "cell_type": "code",
   "execution_count": null,
   "metadata": {},
   "outputs": [],
   "source": [
    "session.close()"
   ]
  },
  {
   "cell_type": "markdown",
   "metadata": {},
   "source": []
  }
 ],
 "metadata": {
  "kernelspec": {
   "display_name": "Python 3.11.0 ('.venv': venv)",
   "language": "python",
   "name": "python3"
  },
  "language_info": {
   "codemirror_mode": {
    "name": "ipython",
    "version": 3
   },
   "file_extension": ".py",
   "mimetype": "text/x-python",
   "name": "python",
   "nbconvert_exporter": "python",
   "pygments_lexer": "ipython3",
   "version": "3.11.0"
  },
  "orig_nbformat": 4,
  "vscode": {
   "interpreter": {
    "hash": "2bb7788d314e8095ec884a2335a66e658b1a07f3a4d55ad846415f430c0ac478"
   }
  }
 },
 "nbformat": 4,
 "nbformat_minor": 2
}
