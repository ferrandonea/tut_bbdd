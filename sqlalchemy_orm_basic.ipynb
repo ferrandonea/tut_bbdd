{
 "cells": [
  {
   "cell_type": "code",
   "execution_count": 1,
   "metadata": {},
   "outputs": [],
   "source": [
    "from sqlalchemy.orm import declarative_base"
   ]
  },
  {
   "cell_type": "markdown",
   "metadata": {},
   "source": [
    "# Model"
   ]
  },
  {
   "cell_type": "code",
   "execution_count": 2,
   "metadata": {},
   "outputs": [
    {
     "name": "stdout",
     "output_type": "stream",
     "text": [
      "sqlite:////Users/franciscoerrandonea/Code/tut_bbdd/site.db\n"
     ]
    }
   ],
   "source": [
    "import os\n",
    "from pathlib import Path\n",
    "#BASE_DIR = os.path.dirname(os.path.realpath(__file__))\n",
    "BASE_DIR = Path().resolve() #esto funciona en notebook\n",
    "connection_string = \"sqlite:///\" + os.path.join(BASE_DIR, 'site.db')\n",
    "print (connection_string)"
   ]
  },
  {
   "cell_type": "code",
   "execution_count": 3,
   "metadata": {},
   "outputs": [
    {
     "name": "stdout",
     "output_type": "stream",
     "text": [
      "<User username=jonathan email=jone@hui.com>\n"
     ]
    }
   ],
   "source": [
    "from sqlalchemy import Column, Integer, String, DateTime, create_engine\n",
    "from datetime import datetime\n",
    "\n",
    "Base = declarative_base()\n",
    "\n",
    "engine = create_engine(connection_string, echo=True)\n",
    "\"\"\"\n",
    "class User\n",
    "    id int\n",
    "    username str\n",
    "    email str\n",
    "    date_create datetime\n",
    "\"\"\"\n",
    "\n",
    "class User(Base):\n",
    "    __tablename__ = \"users\"\n",
    "    id = Column(Integer, primary_key=True)\n",
    "    username = Column(String(25), nullable=False, unique=True)\n",
    "    email = Column(String(80), nullable=False, unique=True)\n",
    "    date_created = Column(DateTime, default=datetime.utcnow())\n",
    "    \n",
    "    def __repr__ (self):\n",
    "        return f\"<User username={self.username} email={self.email}>\"\n",
    "    \n",
    "new_user = User(id=1, username=\"jonathan\", email = \"jone@hui.com\")\n",
    "print (new_user)"
   ]
  },
  {
   "cell_type": "code",
   "execution_count": 4,
   "metadata": {},
   "outputs": [
    {
     "name": "stdout",
     "output_type": "stream",
     "text": [
      "2022-11-25 14:49:33,182 INFO sqlalchemy.engine.Engine BEGIN (implicit)\n",
      "2022-11-25 14:49:33,183 INFO sqlalchemy.engine.Engine PRAGMA main.table_info(\"users\")\n",
      "2022-11-25 14:49:33,183 INFO sqlalchemy.engine.Engine [raw sql] ()\n",
      "2022-11-25 14:49:33,184 INFO sqlalchemy.engine.Engine COMMIT\n"
     ]
    }
   ],
   "source": [
    "#create database if not exists\n",
    "Base.metadata.create_all(engine)"
   ]
  },
  {
   "cell_type": "markdown",
   "metadata": {},
   "source": [
    "session sirve para hacer las transacciones (lazy¿?)"
   ]
  },
  {
   "cell_type": "code",
   "execution_count": 5,
   "metadata": {},
   "outputs": [],
   "source": [
    "from sqlalchemy.orm import sessionmaker\n",
    "Session = sessionmaker()\n",
    "local_session = Session(bind=engine)"
   ]
  },
  {
   "cell_type": "markdown",
   "metadata": {},
   "source": [
    "# Insert"
   ]
  },
  {
   "cell_type": "code",
   "execution_count": 6,
   "metadata": {},
   "outputs": [
    {
     "name": "stdout",
     "output_type": "stream",
     "text": [
      "2022-11-25 14:49:33,280 INFO sqlalchemy.engine.Engine BEGIN (implicit)\n",
      "2022-11-25 14:49:33,283 INFO sqlalchemy.engine.Engine INSERT INTO users (username, email, date_created) VALUES (?, ?, ?)\n",
      "2022-11-25 14:49:33,284 INFO sqlalchemy.engine.Engine [generated in 0.00051s] ('frank', 'frank@sinatra.com', '2022-11-25 17:49:33.152605')\n",
      "2022-11-25 14:49:33,285 INFO sqlalchemy.engine.Engine COMMIT\n"
     ]
    }
   ],
   "source": [
    "new_user = User(username=\"frank\", email = \"frank@sinatra.com\")\n",
    "local_session.add(new_user)\n",
    "local_session.commit()"
   ]
  },
  {
   "cell_type": "code",
   "execution_count": 7,
   "metadata": {},
   "outputs": [],
   "source": [
    "users = [\n",
    "    {\"username\":\"jhonny\",\n",
    "    \"email\":\"jh@company.com\"},\n",
    "    {\"username\":\"jerry\",\n",
    "    \"email\":\"je@company.com\"},\n",
    "    {\"username\":\"lucas\",\n",
    "    \"email\":\"lu@company.com\"},\n",
    "    {\"username\":\"igor\",\n",
    "    \"email\":\"ig@company.com\"},\n",
    "    {\"username\":\"gaby\",\n",
    "    \"email\":\"gb@company.com\"},\n",
    "    {\"username\":\"tom\",\n",
    "    \"email\":\"tm@company.com\"},\n",
    "]"
   ]
  },
  {
   "cell_type": "code",
   "execution_count": 9,
   "metadata": {},
   "outputs": [
    {
     "name": "stdout",
     "output_type": "stream",
     "text": [
      "2022-11-25 14:54:28,052 INFO sqlalchemy.engine.Engine BEGIN (implicit)\n",
      "2022-11-25 14:54:28,054 INFO sqlalchemy.engine.Engine INSERT INTO users (username, email, date_created) VALUES (?, ?, ?)\n",
      "2022-11-25 14:54:28,054 INFO sqlalchemy.engine.Engine [cached since 294.8s ago] ('jhonny', 'jh@company.com', '2022-11-25 17:49:33.152605')\n",
      "2022-11-25 14:54:28,056 INFO sqlalchemy.engine.Engine COMMIT\n",
      "2022-11-25 14:54:28,058 INFO sqlalchemy.engine.Engine BEGIN (implicit)\n",
      "2022-11-25 14:54:28,058 INFO sqlalchemy.engine.Engine INSERT INTO users (username, email, date_created) VALUES (?, ?, ?)\n",
      "2022-11-25 14:54:28,058 INFO sqlalchemy.engine.Engine [cached since 294.8s ago] ('jerry', 'je@company.com', '2022-11-25 17:49:33.152605')\n",
      "2022-11-25 14:54:28,059 INFO sqlalchemy.engine.Engine COMMIT\n",
      "2022-11-25 14:54:28,061 INFO sqlalchemy.engine.Engine BEGIN (implicit)\n",
      "2022-11-25 14:54:28,061 INFO sqlalchemy.engine.Engine INSERT INTO users (username, email, date_created) VALUES (?, ?, ?)\n",
      "2022-11-25 14:54:28,061 INFO sqlalchemy.engine.Engine [cached since 294.8s ago] ('lucas', 'lu@company.com', '2022-11-25 17:49:33.152605')\n",
      "2022-11-25 14:54:28,062 INFO sqlalchemy.engine.Engine COMMIT\n",
      "2022-11-25 14:54:28,064 INFO sqlalchemy.engine.Engine BEGIN (implicit)\n",
      "2022-11-25 14:54:28,064 INFO sqlalchemy.engine.Engine INSERT INTO users (username, email, date_created) VALUES (?, ?, ?)\n",
      "2022-11-25 14:54:28,064 INFO sqlalchemy.engine.Engine [cached since 294.8s ago] ('igor', 'ig@company.com', '2022-11-25 17:49:33.152605')\n",
      "2022-11-25 14:54:28,065 INFO sqlalchemy.engine.Engine COMMIT\n",
      "2022-11-25 14:54:28,066 INFO sqlalchemy.engine.Engine BEGIN (implicit)\n",
      "2022-11-25 14:54:28,067 INFO sqlalchemy.engine.Engine INSERT INTO users (username, email, date_created) VALUES (?, ?, ?)\n",
      "2022-11-25 14:54:28,067 INFO sqlalchemy.engine.Engine [cached since 294.8s ago] ('gaby', 'gb@company.com', '2022-11-25 17:49:33.152605')\n",
      "2022-11-25 14:54:28,068 INFO sqlalchemy.engine.Engine COMMIT\n",
      "2022-11-25 14:54:28,069 INFO sqlalchemy.engine.Engine BEGIN (implicit)\n",
      "2022-11-25 14:54:28,069 INFO sqlalchemy.engine.Engine INSERT INTO users (username, email, date_created) VALUES (?, ?, ?)\n",
      "2022-11-25 14:54:28,069 INFO sqlalchemy.engine.Engine [cached since 294.8s ago] ('tom', 'tm@company.com', '2022-11-25 17:49:33.152605')\n",
      "2022-11-25 14:54:28,070 INFO sqlalchemy.engine.Engine COMMIT\n"
     ]
    }
   ],
   "source": [
    "for u in users:\n",
    "    new_user = User(username = u[\"username\"], email = u[\"email\"])\n",
    "    local_session.add(new_user)    \n",
    "    local_session.commit()"
   ]
  },
  {
   "cell_type": "markdown",
   "metadata": {},
   "source": [
    "# Query"
   ]
  },
  {
   "cell_type": "code",
   "execution_count": 10,
   "metadata": {},
   "outputs": [
    {
     "name": "stdout",
     "output_type": "stream",
     "text": [
      "2022-11-25 15:10:24,116 INFO sqlalchemy.engine.Engine BEGIN (implicit)\n",
      "2022-11-25 15:10:24,119 INFO sqlalchemy.engine.Engine SELECT users.id AS users_id, users.username AS users_username, users.email AS users_email, users.date_created AS users_date_created \n",
      "FROM users\n",
      "2022-11-25 15:10:24,120 INFO sqlalchemy.engine.Engine [generated in 0.00053s] ()\n",
      "frank\n",
      "jhonny\n",
      "jerry\n",
      "lucas\n",
      "igor\n",
      "gaby\n",
      "tom\n"
     ]
    }
   ],
   "source": [
    "users = local_session.query(User).all()\n",
    "for user in users:\n",
    "    print (user.username)"
   ]
  },
  {
   "cell_type": "code",
   "execution_count": 11,
   "metadata": {},
   "outputs": [
    {
     "name": "stdout",
     "output_type": "stream",
     "text": [
      "2022-11-25 15:11:02,675 INFO sqlalchemy.engine.Engine SELECT users.id AS users_id, users.username AS users_username, users.email AS users_email, users.date_created AS users_date_created \n",
      "FROM users\n",
      "2022-11-25 15:11:02,676 INFO sqlalchemy.engine.Engine [cached since 38.56s ago] ()\n",
      "frank\n",
      "jhonny\n",
      "jerry\n"
     ]
    }
   ],
   "source": [
    "users = local_session.query(User).all()[:3]\n",
    "for user in users:\n",
    "    print (user.username)"
   ]
  },
  {
   "cell_type": "markdown",
   "metadata": {},
   "source": [
    "# Update"
   ]
  },
  {
   "cell_type": "code",
   "execution_count": 12,
   "metadata": {},
   "outputs": [
    {
     "name": "stdout",
     "output_type": "stream",
     "text": [
      "2022-11-25 15:16:06,334 INFO sqlalchemy.engine.Engine SELECT users.id AS users_id, users.username AS users_username, users.email AS users_email, users.date_created AS users_date_created \n",
      "FROM users \n",
      "WHERE users.username = ?\n",
      " LIMIT ? OFFSET ?\n",
      "2022-11-25 15:16:06,338 INFO sqlalchemy.engine.Engine [generated in 0.00304s] ('gaby', 1, 0)\n"
     ]
    }
   ],
   "source": [
    "#gaby\n",
    "user = local_session.query(User).filter(User.username == \"gaby\").first()\n"
   ]
  },
  {
   "cell_type": "code",
   "execution_count": 13,
   "metadata": {},
   "outputs": [
    {
     "name": "stdout",
     "output_type": "stream",
     "text": [
      "<User username=gaby email=gb@company.com>\n"
     ]
    }
   ],
   "source": [
    "print (user)"
   ]
  },
  {
   "cell_type": "code",
   "execution_count": 14,
   "metadata": {},
   "outputs": [],
   "source": [
    "#updating"
   ]
  },
  {
   "cell_type": "code",
   "execution_count": 15,
   "metadata": {},
   "outputs": [
    {
     "data": {
      "text/plain": [
       "<User username=gaby email=gb@company.com>"
      ]
     },
     "execution_count": 15,
     "metadata": {},
     "output_type": "execute_result"
    }
   ],
   "source": [
    "user"
   ]
  },
  {
   "cell_type": "code",
   "execution_count": 16,
   "metadata": {},
   "outputs": [],
   "source": [
    "user.username=\"gabriela\"\n",
    "user.email = \"gabriela@company.com\""
   ]
  },
  {
   "cell_type": "code",
   "execution_count": 17,
   "metadata": {},
   "outputs": [
    {
     "name": "stdout",
     "output_type": "stream",
     "text": [
      "2022-11-25 15:26:05,780 INFO sqlalchemy.engine.Engine UPDATE users SET username=?, email=? WHERE users.id = ?\n",
      "2022-11-25 15:26:05,781 INFO sqlalchemy.engine.Engine [generated in 0.00123s] ('gabriela', 'gabriela@company.com', 6)\n",
      "2022-11-25 15:26:05,782 INFO sqlalchemy.engine.Engine COMMIT\n"
     ]
    }
   ],
   "source": [
    "local_session.commit()"
   ]
  },
  {
   "cell_type": "markdown",
   "metadata": {},
   "source": [
    "# Delete"
   ]
  },
  {
   "cell_type": "code",
   "execution_count": 18,
   "metadata": {},
   "outputs": [
    {
     "name": "stdout",
     "output_type": "stream",
     "text": [
      "2022-11-25 15:27:15,453 INFO sqlalchemy.engine.Engine BEGIN (implicit)\n",
      "2022-11-25 15:27:15,455 INFO sqlalchemy.engine.Engine SELECT users.id AS users_id, users.username AS users_username, users.email AS users_email, users.date_created AS users_date_created \n",
      "FROM users \n",
      "WHERE users.username = ?\n",
      " LIMIT ? OFFSET ?\n",
      "2022-11-25 15:27:15,456 INFO sqlalchemy.engine.Engine [cached since 669.2s ago] ('gabriela', 1, 0)\n"
     ]
    }
   ],
   "source": [
    "user_to_delete = local_session.query(User).filter(User.username == \"gabriela\").first()"
   ]
  },
  {
   "cell_type": "code",
   "execution_count": 19,
   "metadata": {},
   "outputs": [],
   "source": [
    "local_session.delete(user_to_delete)"
   ]
  },
  {
   "cell_type": "code",
   "execution_count": 20,
   "metadata": {},
   "outputs": [
    {
     "name": "stdout",
     "output_type": "stream",
     "text": [
      "2022-11-25 15:27:32,778 INFO sqlalchemy.engine.Engine DELETE FROM users WHERE users.id = ?\n",
      "2022-11-25 15:27:32,778 INFO sqlalchemy.engine.Engine [generated in 0.00076s] (6,)\n",
      "2022-11-25 15:27:32,780 INFO sqlalchemy.engine.Engine COMMIT\n"
     ]
    }
   ],
   "source": [
    "local_session.commit()"
   ]
  },
  {
   "cell_type": "markdown",
   "metadata": {},
   "source": [
    "# Order"
   ]
  },
  {
   "cell_type": "code",
   "execution_count": 23,
   "metadata": {},
   "outputs": [
    {
     "name": "stdout",
     "output_type": "stream",
     "text": [
      "2022-11-25 15:30:26,057 INFO sqlalchemy.engine.Engine BEGIN (implicit)\n",
      "2022-11-25 15:30:26,059 INFO sqlalchemy.engine.Engine SELECT users.id AS users_id, users.username AS users_username, users.email AS users_email, users.date_created AS users_date_created \n",
      "FROM users ORDER BY users.username\n",
      "2022-11-25 15:30:26,060 INFO sqlalchemy.engine.Engine [generated in 0.00059s] ()\n"
     ]
    }
   ],
   "source": [
    "users = local_session.query(User).order_by(User.username).all()"
   ]
  },
  {
   "cell_type": "code",
   "execution_count": 24,
   "metadata": {},
   "outputs": [
    {
     "data": {
      "text/plain": [
       "[<User username=frank email=frank@sinatra.com>,\n",
       " <User username=igor email=ig@company.com>,\n",
       " <User username=jerry email=je@company.com>,\n",
       " <User username=jhonny email=jh@company.com>,\n",
       " <User username=lucas email=lu@company.com>,\n",
       " <User username=tom email=tm@company.com>]"
      ]
     },
     "execution_count": 24,
     "metadata": {},
     "output_type": "execute_result"
    }
   ],
   "source": [
    "users"
   ]
  },
  {
   "cell_type": "code",
   "execution_count": 27,
   "metadata": {},
   "outputs": [
    {
     "name": "stdout",
     "output_type": "stream",
     "text": [
      "2022-11-25 15:32:16,842 INFO sqlalchemy.engine.Engine SELECT users.id AS users_id, users.username AS users_username, users.email AS users_email, users.date_created AS users_date_created \n",
      "FROM users ORDER BY users.username DESC\n",
      "2022-11-25 15:32:16,848 INFO sqlalchemy.engine.Engine [generated in 0.00624s] ()\n"
     ]
    },
    {
     "data": {
      "text/plain": [
       "[<User username=tom email=tm@company.com>,\n",
       " <User username=lucas email=lu@company.com>,\n",
       " <User username=jhonny email=jh@company.com>,\n",
       " <User username=jerry email=je@company.com>,\n",
       " <User username=igor email=ig@company.com>,\n",
       " <User username=frank email=frank@sinatra.com>]"
      ]
     },
     "execution_count": 27,
     "metadata": {},
     "output_type": "execute_result"
    }
   ],
   "source": [
    "from sqlalchemy import desc\n",
    "users = local_session.query(User).order_by(desc(User.username)).all()\n",
    "users"
   ]
  },
  {
   "cell_type": "code",
   "execution_count": 28,
   "metadata": {},
   "outputs": [
    {
     "data": {
      "text/plain": [
       "'1.4.43'"
      ]
     },
     "execution_count": 28,
     "metadata": {},
     "output_type": "execute_result"
    }
   ],
   "source": [
    "import sqlalchemy\n",
    "sqlalchemy.__version__"
   ]
  },
  {
   "cell_type": "code",
   "execution_count": 29,
   "metadata": {},
   "outputs": [],
   "source": [
    "%reset"
   ]
  },
  {
   "cell_type": "markdown",
   "metadata": {},
   "source": [
    "# 2.0"
   ]
  },
  {
   "cell_type": "code",
   "execution_count": 31,
   "metadata": {},
   "outputs": [],
   "source": [
    "from sqlalchemy import create_engine\n",
    "\n",
    "engine = create_engine(\"sqlite:///some.db\", future=True)"
   ]
  },
  {
   "cell_type": "code",
   "execution_count": 33,
   "metadata": {},
   "outputs": [
    {
     "data": {
      "text/plain": [
       "sqlalchemy.future.engine.Engine"
      ]
     },
     "execution_count": 33,
     "metadata": {},
     "output_type": "execute_result"
    }
   ],
   "source": [
    "type(engine)"
   ]
  },
  {
   "cell_type": "markdown",
   "metadata": {},
   "source": [
    "Es conexión lazy, no está conectado de verdad"
   ]
  },
  {
   "cell_type": "code",
   "execution_count": 34,
   "metadata": {},
   "outputs": [
    {
     "name": "stdout",
     "output_type": "stream",
     "text": [
      "<sqlalchemy.future.engine.Connection object at 0x115345510>\n"
     ]
    }
   ],
   "source": [
    "connection = engine.connect()\n",
    "print (connection)"
   ]
  },
  {
   "cell_type": "code",
   "execution_count": 35,
   "metadata": {},
   "outputs": [
    {
     "data": {
      "text/plain": [
       "<sqlite3.Connection at 0x11533ef20>"
      ]
     },
     "execution_count": 35,
     "metadata": {},
     "output_type": "execute_result"
    }
   ],
   "source": [
    "connection.connection.connection"
   ]
  },
  {
   "cell_type": "code",
   "execution_count": null,
   "metadata": {},
   "outputs": [],
   "source": []
  }
 ],
 "metadata": {
  "kernelspec": {
   "display_name": "Python 3.11.0 ('.venv': venv)",
   "language": "python",
   "name": "python3"
  },
  "language_info": {
   "codemirror_mode": {
    "name": "ipython",
    "version": 3
   },
   "file_extension": ".py",
   "mimetype": "text/x-python",
   "name": "python",
   "nbconvert_exporter": "python",
   "pygments_lexer": "ipython3",
   "version": "3.11.0"
  },
  "orig_nbformat": 4,
  "vscode": {
   "interpreter": {
    "hash": "2bb7788d314e8095ec884a2335a66e658b1a07f3a4d55ad846415f430c0ac478"
   }
  }
 },
 "nbformat": 4,
 "nbformat_minor": 2
}
