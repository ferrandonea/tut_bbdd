{
 "cells": [
  {
   "cell_type": "code",
   "execution_count": 1,
   "metadata": {},
   "outputs": [],
   "source": [
    "from sqlalchemy.orm import declarative_base"
   ]
  },
  {
   "cell_type": "markdown",
   "metadata": {},
   "source": [
    "# Model"
   ]
  },
  {
   "cell_type": "code",
   "execution_count": 2,
   "metadata": {},
   "outputs": [
    {
     "name": "stdout",
     "output_type": "stream",
     "text": [
      "sqlite:///:memory:\n"
     ]
    }
   ],
   "source": [
    "import os\n",
    "from pathlib import Path\n",
    "#BASE_DIR = os.path.dirname(os.path.realpath(__file__))\n",
    "BASE_DIR = Path().resolve() #esto funciona en notebook\n",
    "connection_string = \"sqlite:///\" + os.path.join(BASE_DIR, 'site.db')\n",
    "connection_string = \"sqlite:///:memory:\"\n",
    "print (connection_string)"
   ]
  },
  {
   "cell_type": "code",
   "execution_count": 3,
   "metadata": {},
   "outputs": [
    {
     "name": "stdout",
     "output_type": "stream",
     "text": [
      "<User username=jonathan email=jone@hui.com>\n"
     ]
    }
   ],
   "source": [
    "from sqlalchemy import Column, Integer, String, DateTime, create_engine\n",
    "from datetime import datetime\n",
    "\n",
    "Base = declarative_base()\n",
    "\n",
    "engine = create_engine(connection_string, echo=True)\n",
    "\"\"\"\n",
    "class User\n",
    "    id int\n",
    "    username str\n",
    "    email str\n",
    "    date_create datetime\n",
    "\"\"\"\n",
    "\n",
    "class User(Base):\n",
    "    __tablename__ = \"users\"\n",
    "    id = Column(Integer, primary_key=True)\n",
    "    username = Column(String(25), nullable=False, unique=True)\n",
    "    email = Column(String(80), nullable=False, unique=True)\n",
    "    date_created = Column(DateTime, default=datetime.utcnow())\n",
    "    \n",
    "    def __repr__ (self):\n",
    "        return f\"<User username={self.username} email={self.email}>\"\n",
    "    \n",
    "new_user = User(id=1, username=\"jonathan\", email = \"jone@hui.com\")\n",
    "print (new_user)"
   ]
  },
  {
   "cell_type": "code",
   "execution_count": 4,
   "metadata": {},
   "outputs": [
    {
     "name": "stdout",
     "output_type": "stream",
     "text": [
      "2022-11-28 14:27:54,349 INFO sqlalchemy.engine.Engine BEGIN (implicit)\n",
      "2022-11-28 14:27:54,350 INFO sqlalchemy.engine.Engine PRAGMA main.table_info(\"users\")\n",
      "2022-11-28 14:27:54,350 INFO sqlalchemy.engine.Engine [raw sql] ()\n",
      "2022-11-28 14:27:54,351 INFO sqlalchemy.engine.Engine PRAGMA temp.table_info(\"users\")\n",
      "2022-11-28 14:27:54,351 INFO sqlalchemy.engine.Engine [raw sql] ()\n",
      "2022-11-28 14:27:54,352 INFO sqlalchemy.engine.Engine \n",
      "CREATE TABLE users (\n",
      "\tid INTEGER NOT NULL, \n",
      "\tusername VARCHAR(25) NOT NULL, \n",
      "\temail VARCHAR(80) NOT NULL, \n",
      "\tdate_created DATETIME, \n",
      "\tPRIMARY KEY (id), \n",
      "\tUNIQUE (username), \n",
      "\tUNIQUE (email)\n",
      ")\n",
      "\n",
      "\n",
      "2022-11-28 14:27:54,352 INFO sqlalchemy.engine.Engine [no key 0.00025s] ()\n",
      "2022-11-28 14:27:54,353 INFO sqlalchemy.engine.Engine COMMIT\n"
     ]
    }
   ],
   "source": [
    "#create database if not exists\n",
    "Base.metadata.create_all(engine)"
   ]
  },
  {
   "cell_type": "markdown",
   "metadata": {},
   "source": [
    "session sirve para hacer las transacciones (lazy¿?)"
   ]
  },
  {
   "cell_type": "code",
   "execution_count": 5,
   "metadata": {},
   "outputs": [],
   "source": [
    "from sqlalchemy.orm import sessionmaker\n",
    "Session = sessionmaker()\n",
    "local_session = Session(bind=engine)"
   ]
  },
  {
   "cell_type": "markdown",
   "metadata": {},
   "source": [
    "# Insert"
   ]
  },
  {
   "cell_type": "code",
   "execution_count": 6,
   "metadata": {},
   "outputs": [
    {
     "name": "stdout",
     "output_type": "stream",
     "text": [
      "2022-11-28 14:27:54,397 INFO sqlalchemy.engine.Engine BEGIN (implicit)\n",
      "2022-11-28 14:27:54,398 INFO sqlalchemy.engine.Engine INSERT INTO users (username, email, date_created) VALUES (?, ?, ?)\n",
      "2022-11-28 14:27:54,399 INFO sqlalchemy.engine.Engine [generated in 0.00112s] ('frank', 'frank@sinatra.com', '2022-11-28 17:27:54.304907')\n",
      "2022-11-28 14:27:54,401 INFO sqlalchemy.engine.Engine COMMIT\n"
     ]
    }
   ],
   "source": [
    "new_user = User(username=\"frank\", email = \"frank@sinatra.com\")\n",
    "local_session.add(new_user)\n",
    "local_session.commit()"
   ]
  },
  {
   "cell_type": "code",
   "execution_count": 7,
   "metadata": {},
   "outputs": [],
   "source": [
    "users = [\n",
    "    {\"username\":\"jhonny\",\n",
    "    \"email\":\"jh@company.com\"},\n",
    "    {\"username\":\"jerry\",\n",
    "    \"email\":\"je@company.com\"},\n",
    "    {\"username\":\"lucas\",\n",
    "    \"email\":\"lu@company.com\"},\n",
    "    {\"username\":\"igor\",\n",
    "    \"email\":\"ig@company.com\"},\n",
    "    {\"username\":\"gaby\",\n",
    "    \"email\":\"gb@company.com\"},\n",
    "    {\"username\":\"tom\",\n",
    "    \"email\":\"tm@company.com\"},\n",
    "]"
   ]
  },
  {
   "cell_type": "code",
   "execution_count": 8,
   "metadata": {},
   "outputs": [
    {
     "name": "stdout",
     "output_type": "stream",
     "text": [
      "2022-11-28 14:27:54,463 INFO sqlalchemy.engine.Engine BEGIN (implicit)\n",
      "2022-11-28 14:27:54,464 INFO sqlalchemy.engine.Engine INSERT INTO users (username, email, date_created) VALUES (?, ?, ?)\n",
      "2022-11-28 14:27:54,464 INFO sqlalchemy.engine.Engine [cached since 0.06574s ago] ('jhonny', 'jh@company.com', '2022-11-28 17:27:54.304907')\n",
      "2022-11-28 14:27:54,465 INFO sqlalchemy.engine.Engine COMMIT\n",
      "2022-11-28 14:27:54,466 INFO sqlalchemy.engine.Engine BEGIN (implicit)\n",
      "2022-11-28 14:27:54,466 INFO sqlalchemy.engine.Engine INSERT INTO users (username, email, date_created) VALUES (?, ?, ?)\n",
      "2022-11-28 14:27:54,466 INFO sqlalchemy.engine.Engine [cached since 0.06785s ago] ('jerry', 'je@company.com', '2022-11-28 17:27:54.304907')\n",
      "2022-11-28 14:27:54,467 INFO sqlalchemy.engine.Engine COMMIT\n",
      "2022-11-28 14:27:54,467 INFO sqlalchemy.engine.Engine BEGIN (implicit)\n",
      "2022-11-28 14:27:54,468 INFO sqlalchemy.engine.Engine INSERT INTO users (username, email, date_created) VALUES (?, ?, ?)\n",
      "2022-11-28 14:27:54,468 INFO sqlalchemy.engine.Engine [cached since 0.06958s ago] ('lucas', 'lu@company.com', '2022-11-28 17:27:54.304907')\n",
      "2022-11-28 14:27:54,468 INFO sqlalchemy.engine.Engine COMMIT\n",
      "2022-11-28 14:27:54,469 INFO sqlalchemy.engine.Engine BEGIN (implicit)\n",
      "2022-11-28 14:27:54,469 INFO sqlalchemy.engine.Engine INSERT INTO users (username, email, date_created) VALUES (?, ?, ?)\n",
      "2022-11-28 14:27:54,470 INFO sqlalchemy.engine.Engine [cached since 0.07115s ago] ('igor', 'ig@company.com', '2022-11-28 17:27:54.304907')\n",
      "2022-11-28 14:27:54,470 INFO sqlalchemy.engine.Engine COMMIT\n",
      "2022-11-28 14:27:54,471 INFO sqlalchemy.engine.Engine BEGIN (implicit)\n",
      "2022-11-28 14:27:54,471 INFO sqlalchemy.engine.Engine INSERT INTO users (username, email, date_created) VALUES (?, ?, ?)\n",
      "2022-11-28 14:27:54,471 INFO sqlalchemy.engine.Engine [cached since 0.07278s ago] ('gaby', 'gb@company.com', '2022-11-28 17:27:54.304907')\n",
      "2022-11-28 14:27:54,472 INFO sqlalchemy.engine.Engine COMMIT\n",
      "2022-11-28 14:27:54,472 INFO sqlalchemy.engine.Engine BEGIN (implicit)\n",
      "2022-11-28 14:27:54,473 INFO sqlalchemy.engine.Engine INSERT INTO users (username, email, date_created) VALUES (?, ?, ?)\n",
      "2022-11-28 14:27:54,473 INFO sqlalchemy.engine.Engine [cached since 0.07497s ago] ('tom', 'tm@company.com', '2022-11-28 17:27:54.304907')\n",
      "2022-11-28 14:27:54,474 INFO sqlalchemy.engine.Engine COMMIT\n"
     ]
    }
   ],
   "source": [
    "for u in users:\n",
    "    new_user = User(username = u[\"username\"], email = u[\"email\"])\n",
    "    local_session.add(new_user)    \n",
    "    local_session.commit()"
   ]
  },
  {
   "cell_type": "markdown",
   "metadata": {},
   "source": [
    "# Query"
   ]
  },
  {
   "cell_type": "code",
   "execution_count": 9,
   "metadata": {},
   "outputs": [
    {
     "name": "stdout",
     "output_type": "stream",
     "text": [
      "2022-11-28 14:27:54,530 INFO sqlalchemy.engine.Engine BEGIN (implicit)\n",
      "2022-11-28 14:27:54,536 INFO sqlalchemy.engine.Engine SELECT users.id AS users_id, users.username AS users_username, users.email AS users_email, users.date_created AS users_date_created \n",
      "FROM users\n",
      "2022-11-28 14:27:54,538 INFO sqlalchemy.engine.Engine [generated in 0.00223s] ()\n",
      "frank\n",
      "jhonny\n",
      "jerry\n",
      "lucas\n",
      "igor\n",
      "gaby\n",
      "tom\n"
     ]
    }
   ],
   "source": [
    "users = local_session.query(User).all()\n",
    "for user in users:\n",
    "    print (user.username)"
   ]
  },
  {
   "cell_type": "code",
   "execution_count": 10,
   "metadata": {},
   "outputs": [
    {
     "name": "stdout",
     "output_type": "stream",
     "text": [
      "2022-11-28 14:27:54,593 INFO sqlalchemy.engine.Engine SELECT users.id AS users_id, users.username AS users_username, users.email AS users_email, users.date_created AS users_date_created \n",
      "FROM users\n",
      "2022-11-28 14:27:54,594 INFO sqlalchemy.engine.Engine [cached since 0.05798s ago] ()\n",
      "frank\n",
      "jhonny\n",
      "jerry\n"
     ]
    }
   ],
   "source": [
    "users = local_session.query(User).all()[:3]\n",
    "for user in users:\n",
    "    print (user.username)"
   ]
  },
  {
   "cell_type": "markdown",
   "metadata": {},
   "source": [
    "# Update"
   ]
  },
  {
   "cell_type": "code",
   "execution_count": 11,
   "metadata": {},
   "outputs": [
    {
     "name": "stdout",
     "output_type": "stream",
     "text": [
      "2022-11-28 14:27:54,630 INFO sqlalchemy.engine.Engine SELECT users.id AS users_id, users.username AS users_username, users.email AS users_email, users.date_created AS users_date_created \n",
      "FROM users \n",
      "WHERE users.username = ?\n",
      " LIMIT ? OFFSET ?\n",
      "2022-11-28 14:27:54,630 INFO sqlalchemy.engine.Engine [generated in 0.00077s] ('gaby', 1, 0)\n"
     ]
    }
   ],
   "source": [
    "#gaby\n",
    "user = local_session.query(User).filter(User.username == \"gaby\").first()\n"
   ]
  },
  {
   "cell_type": "code",
   "execution_count": 12,
   "metadata": {},
   "outputs": [
    {
     "name": "stdout",
     "output_type": "stream",
     "text": [
      "<User username=gaby email=gb@company.com>\n"
     ]
    }
   ],
   "source": [
    "print (user)"
   ]
  },
  {
   "cell_type": "code",
   "execution_count": 13,
   "metadata": {},
   "outputs": [],
   "source": [
    "#updating"
   ]
  },
  {
   "cell_type": "code",
   "execution_count": 14,
   "metadata": {},
   "outputs": [
    {
     "data": {
      "text/plain": [
       "<User username=gaby email=gb@company.com>"
      ]
     },
     "execution_count": 14,
     "metadata": {},
     "output_type": "execute_result"
    }
   ],
   "source": [
    "user"
   ]
  },
  {
   "cell_type": "code",
   "execution_count": 15,
   "metadata": {},
   "outputs": [],
   "source": [
    "user.username=\"gabriela\"\n",
    "user.email = \"gabriela@company.com\""
   ]
  },
  {
   "cell_type": "code",
   "execution_count": 16,
   "metadata": {},
   "outputs": [
    {
     "name": "stdout",
     "output_type": "stream",
     "text": [
      "2022-11-28 14:27:54,821 INFO sqlalchemy.engine.Engine UPDATE users SET username=?, email=? WHERE users.id = ?\n",
      "2022-11-28 14:27:54,822 INFO sqlalchemy.engine.Engine [generated in 0.00067s] ('gabriela', 'gabriela@company.com', 6)\n",
      "2022-11-28 14:27:54,823 INFO sqlalchemy.engine.Engine COMMIT\n"
     ]
    }
   ],
   "source": [
    "local_session.commit()"
   ]
  },
  {
   "cell_type": "markdown",
   "metadata": {},
   "source": [
    "# Delete"
   ]
  },
  {
   "cell_type": "code",
   "execution_count": 17,
   "metadata": {},
   "outputs": [
    {
     "name": "stdout",
     "output_type": "stream",
     "text": [
      "2022-11-28 14:27:54,847 INFO sqlalchemy.engine.Engine BEGIN (implicit)\n",
      "2022-11-28 14:27:54,848 INFO sqlalchemy.engine.Engine SELECT users.id AS users_id, users.username AS users_username, users.email AS users_email, users.date_created AS users_date_created \n",
      "FROM users \n",
      "WHERE users.username = ?\n",
      " LIMIT ? OFFSET ?\n",
      "2022-11-28 14:27:54,848 INFO sqlalchemy.engine.Engine [cached since 0.2183s ago] ('gabriela', 1, 0)\n"
     ]
    }
   ],
   "source": [
    "user_to_delete = local_session.query(User).filter(User.username == \"gabriela\").first()"
   ]
  },
  {
   "cell_type": "code",
   "execution_count": 18,
   "metadata": {},
   "outputs": [],
   "source": [
    "local_session.delete(user_to_delete)"
   ]
  },
  {
   "cell_type": "code",
   "execution_count": 19,
   "metadata": {},
   "outputs": [
    {
     "name": "stdout",
     "output_type": "stream",
     "text": [
      "2022-11-28 14:27:54,924 INFO sqlalchemy.engine.Engine DELETE FROM users WHERE users.id = ?\n",
      "2022-11-28 14:27:54,925 INFO sqlalchemy.engine.Engine [generated in 0.00061s] (6,)\n",
      "2022-11-28 14:27:54,925 INFO sqlalchemy.engine.Engine COMMIT\n"
     ]
    }
   ],
   "source": [
    "local_session.commit()"
   ]
  },
  {
   "cell_type": "markdown",
   "metadata": {},
   "source": [
    "# Order"
   ]
  },
  {
   "cell_type": "code",
   "execution_count": 20,
   "metadata": {},
   "outputs": [
    {
     "name": "stdout",
     "output_type": "stream",
     "text": [
      "2022-11-28 14:27:54,964 INFO sqlalchemy.engine.Engine BEGIN (implicit)\n",
      "2022-11-28 14:27:54,965 INFO sqlalchemy.engine.Engine SELECT users.id AS users_id, users.username AS users_username, users.email AS users_email, users.date_created AS users_date_created \n",
      "FROM users ORDER BY users.username\n",
      "2022-11-28 14:27:54,965 INFO sqlalchemy.engine.Engine [generated in 0.00040s] ()\n"
     ]
    }
   ],
   "source": [
    "users = local_session.query(User).order_by(User.username).all()"
   ]
  },
  {
   "cell_type": "code",
   "execution_count": 21,
   "metadata": {},
   "outputs": [
    {
     "data": {
      "text/plain": [
       "[<User username=frank email=frank@sinatra.com>,\n",
       " <User username=igor email=ig@company.com>,\n",
       " <User username=jerry email=je@company.com>,\n",
       " <User username=jhonny email=jh@company.com>,\n",
       " <User username=lucas email=lu@company.com>,\n",
       " <User username=tom email=tm@company.com>]"
      ]
     },
     "execution_count": 21,
     "metadata": {},
     "output_type": "execute_result"
    }
   ],
   "source": [
    "users"
   ]
  },
  {
   "cell_type": "code",
   "execution_count": 22,
   "metadata": {},
   "outputs": [
    {
     "name": "stdout",
     "output_type": "stream",
     "text": [
      "2022-11-28 14:27:55,030 INFO sqlalchemy.engine.Engine SELECT users.id AS users_id, users.username AS users_username, users.email AS users_email, users.date_created AS users_date_created \n",
      "FROM users ORDER BY users.username DESC\n",
      "2022-11-28 14:27:55,031 INFO sqlalchemy.engine.Engine [generated in 0.00067s] ()\n"
     ]
    },
    {
     "data": {
      "text/plain": [
       "[<User username=tom email=tm@company.com>,\n",
       " <User username=lucas email=lu@company.com>,\n",
       " <User username=jhonny email=jh@company.com>,\n",
       " <User username=jerry email=je@company.com>,\n",
       " <User username=igor email=ig@company.com>,\n",
       " <User username=frank email=frank@sinatra.com>]"
      ]
     },
     "execution_count": 22,
     "metadata": {},
     "output_type": "execute_result"
    }
   ],
   "source": [
    "from sqlalchemy import desc\n",
    "users = local_session.query(User).order_by(desc(User.username)).all()\n",
    "users"
   ]
  },
  {
   "cell_type": "code",
   "execution_count": 23,
   "metadata": {},
   "outputs": [
    {
     "data": {
      "text/plain": [
       "'1.4.43'"
      ]
     },
     "execution_count": 23,
     "metadata": {},
     "output_type": "execute_result"
    }
   ],
   "source": [
    "import sqlalchemy\n",
    "sqlalchemy.__version__"
   ]
  },
  {
   "cell_type": "code",
   "execution_count": 24,
   "metadata": {},
   "outputs": [],
   "source": [
    "%reset -f"
   ]
  },
  {
   "cell_type": "markdown",
   "metadata": {},
   "source": [
    "Otro Ejemplo"
   ]
  },
  {
   "cell_type": "code",
   "execution_count": 25,
   "metadata": {},
   "outputs": [],
   "source": [
    "from sqlalchemy import create_engine, ForeignKey, Column, String, Integer, CHAR\n",
    "from sqlalchemy.ext.declarative import declarative_base\n",
    "from sqlalchemy.orm import sessionmaker\n",
    "\n",
    "Base = declarative_base()\n",
    "\n",
    "class Persona(Base):\n",
    "    __tablename__ = \"personas\"\n",
    "    \n",
    "    ssn = Column(Integer, primary_key=True)\n",
    "    firstname = Column(String)\n",
    "    lastname = Column(String)\n",
    "    gender = Column(CHAR)\n",
    "    age = Column(Integer)\n",
    "    \n",
    "    def __init__(self, ssn, firstname, lastname, gender, age):\n",
    "        self.ssn = ssn\n",
    "        self.firstname = firstname\n",
    "        self.lastname = lastname\n",
    "        self.gender = gender.upper()\n",
    "        self.age = age\n",
    "        \n",
    "    def __repr__(self):\n",
    "        return f\"{self.ssn} {self.firstname} {self.lastname} ({self.gender}, {self.age})\""
   ]
  },
  {
   "cell_type": "code",
   "execution_count": 26,
   "metadata": {},
   "outputs": [],
   "source": [
    "engine = create_engine(\"sqlite:///:memory:\", echo=True)"
   ]
  },
  {
   "cell_type": "code",
   "execution_count": 27,
   "metadata": {},
   "outputs": [
    {
     "name": "stdout",
     "output_type": "stream",
     "text": [
      "2022-11-28 14:27:55,270 INFO sqlalchemy.engine.Engine BEGIN (implicit)\n",
      "2022-11-28 14:27:55,271 INFO sqlalchemy.engine.Engine PRAGMA main.table_info(\"personas\")\n",
      "2022-11-28 14:27:55,271 INFO sqlalchemy.engine.Engine [raw sql] ()\n",
      "2022-11-28 14:27:55,272 INFO sqlalchemy.engine.Engine PRAGMA temp.table_info(\"personas\")\n",
      "2022-11-28 14:27:55,272 INFO sqlalchemy.engine.Engine [raw sql] ()\n",
      "2022-11-28 14:27:55,273 INFO sqlalchemy.engine.Engine \n",
      "CREATE TABLE personas (\n",
      "\tssn INTEGER NOT NULL, \n",
      "\tfirstname VARCHAR, \n",
      "\tlastname VARCHAR, \n",
      "\tgender CHAR, \n",
      "\tage INTEGER, \n",
      "\tPRIMARY KEY (ssn)\n",
      ")\n",
      "\n",
      "\n",
      "2022-11-28 14:27:55,273 INFO sqlalchemy.engine.Engine [no key 0.00063s] ()\n",
      "2022-11-28 14:27:55,274 INFO sqlalchemy.engine.Engine COMMIT\n"
     ]
    }
   ],
   "source": [
    "Base.metadata.create_all(bind=engine)"
   ]
  },
  {
   "cell_type": "code",
   "execution_count": 28,
   "metadata": {},
   "outputs": [],
   "source": [
    "Session = sessionmaker(bind=engine)\n",
    "session = Session()"
   ]
  },
  {
   "cell_type": "code",
   "execution_count": 29,
   "metadata": {},
   "outputs": [
    {
     "name": "stdout",
     "output_type": "stream",
     "text": [
      "2022-11-28 14:27:55,332 INFO sqlalchemy.engine.Engine BEGIN (implicit)\n",
      "2022-11-28 14:27:55,334 INFO sqlalchemy.engine.Engine INSERT INTO personas (ssn, firstname, lastname, gender, age) VALUES (?, ?, ?, ?, ?)\n",
      "2022-11-28 14:27:55,334 INFO sqlalchemy.engine.Engine [generated in 0.00062s] (21878, 'Mike', 'Smith', 'M', 35)\n",
      "2022-11-28 14:27:55,335 INFO sqlalchemy.engine.Engine COMMIT\n"
     ]
    }
   ],
   "source": [
    "tom = Persona(21878, \"Mike\", \"Smith\", \"m\", 35)\n",
    "session.add(tom)\n",
    "session.commit()"
   ]
  },
  {
   "cell_type": "code",
   "execution_count": 30,
   "metadata": {},
   "outputs": [],
   "source": [
    "p1 = Persona(8219821, \"Jhon\", \"Smith\", \"m\", 31)\n",
    "p2 = Persona(209130938, \"Lucas\", \"Row\", \"m\", 23)\n",
    "p3 = Persona(99999, \"Claudia\", \"López\", \"f\", 45)\n",
    "session.add_all([p1,p2,p3])"
   ]
  },
  {
   "cell_type": "code",
   "execution_count": 31,
   "metadata": {},
   "outputs": [
    {
     "name": "stdout",
     "output_type": "stream",
     "text": [
      "2022-11-28 14:27:55,392 INFO sqlalchemy.engine.Engine BEGIN (implicit)\n",
      "2022-11-28 14:27:55,393 INFO sqlalchemy.engine.Engine INSERT INTO personas (ssn, firstname, lastname, gender, age) VALUES (?, ?, ?, ?, ?)\n",
      "2022-11-28 14:27:55,393 INFO sqlalchemy.engine.Engine [generated in 0.00042s] ((8219821, 'Jhon', 'Smith', 'M', 31), (209130938, 'Lucas', 'Row', 'M', 23), (99999, 'Claudia', 'López', 'F', 45))\n",
      "2022-11-28 14:27:55,394 INFO sqlalchemy.engine.Engine COMMIT\n"
     ]
    }
   ],
   "source": [
    "session.commit()"
   ]
  },
  {
   "cell_type": "code",
   "execution_count": 32,
   "metadata": {},
   "outputs": [
    {
     "name": "stdout",
     "output_type": "stream",
     "text": [
      "2022-11-28 14:27:55,424 INFO sqlalchemy.engine.Engine BEGIN (implicit)\n",
      "2022-11-28 14:27:55,426 INFO sqlalchemy.engine.Engine SELECT personas.ssn AS personas_ssn, personas.firstname AS personas_firstname, personas.lastname AS personas_lastname, personas.gender AS personas_gender, personas.age AS personas_age \n",
      "FROM personas\n",
      "2022-11-28 14:27:55,426 INFO sqlalchemy.engine.Engine [generated in 0.00045s] ()\n"
     ]
    },
    {
     "data": {
      "text/plain": [
       "[21878 Mike Smith (M, 35),\n",
       " 99999 Claudia López (F, 45),\n",
       " 8219821 Jhon Smith (M, 31),\n",
       " 209130938 Lucas Row (M, 23)]"
      ]
     },
     "execution_count": 32,
     "metadata": {},
     "output_type": "execute_result"
    }
   ],
   "source": [
    "    session.query(Persona).all()"
   ]
  },
  {
   "cell_type": "code",
   "execution_count": 33,
   "metadata": {},
   "outputs": [
    {
     "name": "stdout",
     "output_type": "stream",
     "text": [
      "==\n",
      "2022-11-28 14:27:55,460 INFO sqlalchemy.engine.Engine SELECT personas.ssn AS personas_ssn, personas.firstname AS personas_firstname, personas.lastname AS personas_lastname, personas.gender AS personas_gender, personas.age AS personas_age \n",
      "FROM personas\n",
      "2022-11-28 14:27:55,461 INFO sqlalchemy.engine.Engine [cached since 0.03541s ago] ()\n",
      "21878 Mike Smith (M, 35)\n",
      "99999 Claudia López (F, 45)\n",
      "8219821 Jhon Smith (M, 31)\n",
      "209130938 Lucas Row (M, 23)\n"
     ]
    }
   ],
   "source": [
    "resultados = session.query(Persona)\n",
    "print (\"==\")\n",
    "for r in resultados:\n",
    "    print (r)"
   ]
  },
  {
   "cell_type": "code",
   "execution_count": 34,
   "metadata": {},
   "outputs": [
    {
     "name": "stdout",
     "output_type": "stream",
     "text": [
      "2022-11-28 14:27:55,497 INFO sqlalchemy.engine.Engine SELECT personas.ssn AS personas_ssn, personas.firstname AS personas_firstname, personas.lastname AS personas_lastname, personas.gender AS personas_gender, personas.age AS personas_age \n",
      "FROM personas \n",
      "WHERE personas.age < ?\n",
      "2022-11-28 14:27:55,498 INFO sqlalchemy.engine.Engine [generated in 0.00077s] (40,)\n",
      "[21878 Mike Smith (M, 35), 8219821 Jhon Smith (M, 31), 209130938 Lucas Row (M, 23)]\n"
     ]
    }
   ],
   "source": [
    "nuevos = resultados.filter(Persona.age < 40).all()\n",
    "print (nuevos)"
   ]
  },
  {
   "cell_type": "markdown",
   "metadata": {},
   "source": [
    "# Relaciones"
   ]
  },
  {
   "cell_type": "code",
   "execution_count": 35,
   "metadata": {},
   "outputs": [],
   "source": [
    "%reset -f"
   ]
  },
  {
   "cell_type": "code",
   "execution_count": 36,
   "metadata": {},
   "outputs": [
    {
     "name": "stdout",
     "output_type": "stream",
     "text": [
      "2022-11-28 14:27:55,634 INFO sqlalchemy.engine.Engine BEGIN (implicit)\n",
      "2022-11-28 14:27:55,635 INFO sqlalchemy.engine.Engine PRAGMA main.table_info(\"personas\")\n",
      "2022-11-28 14:27:55,635 INFO sqlalchemy.engine.Engine [raw sql] ()\n",
      "2022-11-28 14:27:55,636 INFO sqlalchemy.engine.Engine PRAGMA temp.table_info(\"personas\")\n",
      "2022-11-28 14:27:55,636 INFO sqlalchemy.engine.Engine [raw sql] ()\n",
      "2022-11-28 14:27:55,637 INFO sqlalchemy.engine.Engine PRAGMA main.table_info(\"cosas\")\n",
      "2022-11-28 14:27:55,637 INFO sqlalchemy.engine.Engine [raw sql] ()\n",
      "2022-11-28 14:27:55,638 INFO sqlalchemy.engine.Engine PRAGMA temp.table_info(\"cosas\")\n",
      "2022-11-28 14:27:55,638 INFO sqlalchemy.engine.Engine [raw sql] ()\n",
      "2022-11-28 14:27:55,640 INFO sqlalchemy.engine.Engine \n",
      "CREATE TABLE personas (\n",
      "\tssn INTEGER NOT NULL, \n",
      "\tfirstname VARCHAR, \n",
      "\tlastname VARCHAR, \n",
      "\tgender CHAR, \n",
      "\tage INTEGER, \n",
      "\tPRIMARY KEY (ssn)\n",
      ")\n",
      "\n",
      "\n",
      "2022-11-28 14:27:55,640 INFO sqlalchemy.engine.Engine [no key 0.00047s] ()\n",
      "2022-11-28 14:27:55,642 INFO sqlalchemy.engine.Engine \n",
      "CREATE TABLE cosas (\n",
      "\ttid INTEGER NOT NULL, \n",
      "\tdescription VARCHAR, \n",
      "\towner INTEGER, \n",
      "\tPRIMARY KEY (tid), \n",
      "\tFOREIGN KEY(owner) REFERENCES personas (ssn)\n",
      ")\n",
      "\n",
      "\n",
      "2022-11-28 14:27:55,642 INFO sqlalchemy.engine.Engine [no key 0.00062s] ()\n",
      "2022-11-28 14:27:55,643 INFO sqlalchemy.engine.Engine COMMIT\n"
     ]
    }
   ],
   "source": [
    "from sqlalchemy import create_engine, ForeignKey, Column, String, Integer, CHAR\n",
    "from sqlalchemy.ext.declarative import declarative_base\n",
    "from sqlalchemy.orm import sessionmaker\n",
    "\n",
    "Base = declarative_base()\n",
    "\n",
    "class Persona(Base):\n",
    "    __tablename__ = \"personas\"\n",
    "    \n",
    "    ssn = Column(Integer, primary_key=True)\n",
    "    firstname = Column(String)\n",
    "    lastname = Column(String)\n",
    "    gender = Column(CHAR)\n",
    "    age = Column(Integer)\n",
    "    \n",
    "    def __init__(self, ssn, firstname, lastname, gender, age):\n",
    "        self.ssn = ssn\n",
    "        self.firstname = firstname\n",
    "        self.lastname = lastname\n",
    "        self.gender = gender.upper()\n",
    "        self.age = age\n",
    "        \n",
    "    def __repr__(self):\n",
    "        return f\"{self.ssn} {self.firstname} {self.lastname} ({self.gender}, {self.age})\"\n",
    "    \n",
    "class Cosa(Base):\n",
    "    __tablename__ = \"cosas\"\n",
    "    \n",
    "    tid = Column(Integer, primary_key=True)\n",
    "    description = Column(String)\n",
    "    owner = Column(Integer, ForeignKey(\"personas.ssn\"))\n",
    "    \n",
    "    def __repr__(self):\n",
    "        return f\"{self.tid} {self.description} owned by {self.owner}\"\n",
    "    \n",
    "engine = create_engine(\"sqlite:///:memory:\", echo=True)\n",
    "Base.metadata.create_all(bind=engine)\n",
    "Session = sessionmaker(bind=engine)\n",
    "session = Session()\n"
   ]
  },
  {
   "cell_type": "code",
   "execution_count": 37,
   "metadata": {},
   "outputs": [
    {
     "name": "stdout",
     "output_type": "stream",
     "text": [
      "2022-11-28 14:27:55,693 INFO sqlalchemy.engine.Engine BEGIN (implicit)\n",
      "2022-11-28 14:27:55,695 INFO sqlalchemy.engine.Engine INSERT INTO personas (ssn, firstname, lastname, gender, age) VALUES (?, ?, ?, ?, ?)\n",
      "2022-11-28 14:27:55,695 INFO sqlalchemy.engine.Engine [generated in 0.00052s] ((21878, 'Mike', 'Smith', 'M', 35), (8219821, 'Jhon', 'Smith', 'M', 31), (209130938, 'Lucas', 'Row', 'M', 23), (99999, 'Claudia', 'López', 'F', 45))\n",
      "2022-11-28 14:27:55,696 INFO sqlalchemy.engine.Engine COMMIT\n"
     ]
    }
   ],
   "source": [
    "p0 = Persona(21878, \"Mike\", \"Smith\", \"m\", 35)\n",
    "p1 = Persona(8219821, \"Jhon\", \"Smith\", \"m\", 31)\n",
    "p2 = Persona(209130938, \"Lucas\", \"Row\", \"m\", 23)\n",
    "p3 = Persona(99999, \"Claudia\", \"López\", \"f\", 45)\n",
    "session.add_all([p0, p1,p2,p3])\n",
    "session.commit()"
   ]
  },
  {
   "cell_type": "code",
   "execution_count": 38,
   "metadata": {},
   "outputs": [
    {
     "name": "stdout",
     "output_type": "stream",
     "text": [
      "2022-11-28 14:27:55,795 INFO sqlalchemy.engine.Engine BEGIN (implicit)\n",
      "2022-11-28 14:27:55,798 INFO sqlalchemy.engine.Engine SELECT personas.ssn AS personas_ssn, personas.firstname AS personas_firstname, personas.lastname AS personas_lastname, personas.gender AS personas_gender, personas.age AS personas_age \n",
      "FROM personas \n",
      "WHERE personas.ssn = ?\n",
      "2022-11-28 14:27:55,800 INFO sqlalchemy.engine.Engine [generated in 0.00170s] (21878,)\n"
     ]
    }
   ],
   "source": [
    "t1 = Cosa(tid= 23893232, description = \"Una cosa\", owner = p0.ssn)"
   ]
  },
  {
   "cell_type": "code",
   "execution_count": 39,
   "metadata": {},
   "outputs": [
    {
     "name": "stdout",
     "output_type": "stream",
     "text": [
      "2022-11-28 14:27:55,881 INFO sqlalchemy.engine.Engine INSERT INTO cosas (tid, description, owner) VALUES (?, ?, ?)\n",
      "2022-11-28 14:27:55,882 INFO sqlalchemy.engine.Engine [generated in 0.00085s] (23893232, 'Una cosa', 21878)\n",
      "2022-11-28 14:27:55,883 INFO sqlalchemy.engine.Engine COMMIT\n"
     ]
    }
   ],
   "source": [
    "session.add(t1)\n",
    "session.commit()"
   ]
  },
  {
   "cell_type": "code",
   "execution_count": 40,
   "metadata": {},
   "outputs": [
    {
     "name": "stdout",
     "output_type": "stream",
     "text": [
      "2022-11-28 14:29:24,195 INFO sqlalchemy.engine.Engine BEGIN (implicit)\n",
      "2022-11-28 14:29:24,197 INFO sqlalchemy.engine.Engine SELECT personas.ssn AS personas_ssn, personas.firstname AS personas_firstname, personas.lastname AS personas_lastname, personas.gender AS personas_gender, personas.age AS personas_age \n",
      "FROM personas \n",
      "WHERE personas.ssn = ?\n",
      "2022-11-28 14:29:24,198 INFO sqlalchemy.engine.Engine [cached since 88.4s ago] (8219821,)\n",
      "2022-11-28 14:29:24,201 INFO sqlalchemy.engine.Engine SELECT personas.ssn AS personas_ssn, personas.firstname AS personas_firstname, personas.lastname AS personas_lastname, personas.gender AS personas_gender, personas.age AS personas_age \n",
      "FROM personas \n",
      "WHERE personas.ssn = ?\n",
      "2022-11-28 14:29:24,202 INFO sqlalchemy.engine.Engine [cached since 88.41s ago] (21878,)\n",
      "2022-11-28 14:29:24,204 INFO sqlalchemy.engine.Engine INSERT INTO cosas (description, owner) VALUES (?, ?)\n",
      "2022-11-28 14:29:24,205 INFO sqlalchemy.engine.Engine [generated in 0.00086s] ('PS5', 8219821)\n",
      "2022-11-28 14:29:24,206 INFO sqlalchemy.engine.Engine INSERT INTO cosas (description, owner) VALUES (?, ?)\n",
      "2022-11-28 14:29:24,207 INFO sqlalchemy.engine.Engine [cached since 0.00321s ago] ('Auto', 21878)\n",
      "2022-11-28 14:29:24,208 INFO sqlalchemy.engine.Engine COMMIT\n"
     ]
    }
   ],
   "source": [
    "t2 = Cosa(description = \"PS5\", owner = p1.ssn)\n",
    "t3 = Cosa(description = \"Auto\", owner = p0.ssn)\n",
    "session.add_all([t2,t3])\n",
    "session.commit()"
   ]
  },
  {
   "cell_type": "code",
   "execution_count": 41,
   "metadata": {},
   "outputs": [
    {
     "name": "stdout",
     "output_type": "stream",
     "text": [
      "2022-11-28 14:29:30,798 INFO sqlalchemy.engine.Engine BEGIN (implicit)\n",
      "2022-11-28 14:29:30,800 INFO sqlalchemy.engine.Engine SELECT cosas.tid AS cosas_tid, cosas.description AS cosas_description, cosas.owner AS cosas_owner \n",
      "FROM cosas \n",
      "WHERE cosas.tid = ?\n",
      "2022-11-28 14:29:30,802 INFO sqlalchemy.engine.Engine [generated in 0.00135s] (23893234,)\n"
     ]
    },
    {
     "data": {
      "text/plain": [
       "23893234 Auto owned by 21878"
      ]
     },
     "execution_count": 41,
     "metadata": {},
     "output_type": "execute_result"
    }
   ],
   "source": [
    "t3"
   ]
  },
  {
   "cell_type": "code",
   "execution_count": 42,
   "metadata": {},
   "outputs": [],
   "source": [
    "results = session.query(Cosa, Persona).filter(Cosa.owner == Persona.ssn).filter(Persona.firstname == \"Mike\")"
   ]
  },
  {
   "cell_type": "code",
   "execution_count": 43,
   "metadata": {},
   "outputs": [
    {
     "name": "stdout",
     "output_type": "stream",
     "text": [
      "2022-11-28 14:30:50,301 INFO sqlalchemy.engine.Engine SELECT cosas.tid AS cosas_tid, cosas.description AS cosas_description, cosas.owner AS cosas_owner, personas.ssn AS personas_ssn, personas.firstname AS personas_firstname, personas.lastname AS personas_lastname, personas.gender AS personas_gender, personas.age AS personas_age \n",
      "FROM cosas, personas \n",
      "WHERE cosas.owner = personas.ssn AND personas.firstname = ?\n",
      "2022-11-28 14:30:50,307 INFO sqlalchemy.engine.Engine [generated in 0.00575s] ('Mike',)\n",
      "(23893232 Una cosa owned by 21878, 21878 Mike Smith (M, 35))\n",
      "(23893234 Auto owned by 21878, 21878 Mike Smith (M, 35))\n"
     ]
    }
   ],
   "source": [
    "for r in results:\n",
    "    print (r)"
   ]
  },
  {
   "cell_type": "code",
   "execution_count": null,
   "metadata": {},
   "outputs": [],
   "source": []
  }
 ],
 "metadata": {
  "kernelspec": {
   "display_name": "Python 3.11.0 ('.venv': venv)",
   "language": "python",
   "name": "python3"
  },
  "language_info": {
   "codemirror_mode": {
    "name": "ipython",
    "version": 3
   },
   "file_extension": ".py",
   "mimetype": "text/x-python",
   "name": "python",
   "nbconvert_exporter": "python",
   "pygments_lexer": "ipython3",
   "version": "3.11.0"
  },
  "orig_nbformat": 4,
  "vscode": {
   "interpreter": {
    "hash": "2bb7788d314e8095ec884a2335a66e658b1a07f3a4d55ad846415f430c0ac478"
   }
  }
 },
 "nbformat": 4,
 "nbformat_minor": 2
}
